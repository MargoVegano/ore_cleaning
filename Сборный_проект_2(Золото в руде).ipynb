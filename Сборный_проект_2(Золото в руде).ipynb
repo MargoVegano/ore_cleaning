{
 "cells": [
  {
   "cell_type": "markdown",
   "metadata": {},
   "source": [
    "<font color='blue' size=5><b>Комментарий ревьюера</b></font>\n",
    "\n",
    "<font color='blue'>Привет, Маргарита! Меня зовут Павел Григорьев, и я буду проверять этот проект.<br>Моя основная цель - не указать на совершённые тобой ошибки, а поделиться своим опытом и помочь тебе совершенствоваться как профессионалу.<br>Спасибо за проделанную работу! Предлагаю общаться на «ты».</font>\n",
    "<details>\n",
    "\t<summary><u>Инструкция по организационным мометнам (кликабельно)</u></summary>\n",
    "<font color='blue'>Я буду использовать различные цвета, чтобы было удобнее воспринимать мои комментарии:</font>\n",
    "\n",
    "\n",
    "---\n",
    "\n",
    "\n",
    "<font color='blue'>синий текст - просто текст комментария</font>\n",
    "\n",
    "<font color='green'>✔️ и зеленый текст - все отлично</font>\n",
    "\n",
    "<font color='orange'>⚠️ и оранжевый текст - сделано все правильно, однако есть рекомендации, на что стоит обратить внимание</font>\n",
    "\n",
    "<font color='red'>❌ и красный текст - есть недочеты</font>\n",
    "\n",
    "\n",
    "</details>    \n",
    "    </br>\n",
    "<font color='blue'>Пожалуйста, не удаляй мои комментарии в случае возврата работы, так будет проще разобраться, какие были недочеты, а также сразу увидеть исправленное. </font>\n",
    "\n",
    "Ответы на мои комментарии лучше тоже помечать.\n",
    "Например: <font color='purple'><b>Комментарий студента</b></font>\n",
    "\n",
    "<font color='blue'><b>Давай смотреть, что получилось!</b></font>\n"
   ]
  },
  {
   "cell_type": "markdown",
   "metadata": {},
   "source": [
    "<font color='blue' size=3><b>Комментарий ревьюера 2</b></font>\n",
    "\n",
    "<font color='blue'>Привет еще раз. Спасибо, за исправления. Оформление комментариев по работе сохраняется. Только обозначим, что это вторая итерация.</font>"
   ]
  },
  {
   "cell_type": "markdown",
   "metadata": {
    "toc": true
   },
   "source": [
    "<h1>Содержание<span class=\"tocSkip\"></span></h1>\n",
    "<div class=\"toc\"><ul class=\"toc-item\"><li><span><a href=\"#Подготовка-данных\" data-toc-modified-id=\"Подготовка-данных-1\"><span class=\"toc-item-num\">1&nbsp;&nbsp;</span>Подготовка данных</a></span><ul class=\"toc-item\"><li><span><a href=\"#Ознакомление-с-данными-и-предобработка\" data-toc-modified-id=\"Ознакомление-с-данными-и-предобработка-1.1\"><span class=\"toc-item-num\">1.1&nbsp;&nbsp;</span>Ознакомление с данными и предобработка</a></span></li><li><span><a href=\"#Проверка-корректности-расчёта-эффективности-обогащения\" data-toc-modified-id=\"Проверка-корректности-расчёта-эффективности-обогащения-1.2\"><span class=\"toc-item-num\">1.2&nbsp;&nbsp;</span>Проверка корректности расчёта эффективности обогащения</a></span></li><li><span><a href=\"#Анализ-признаков,-недоступных-в-тестовой-выборке\" data-toc-modified-id=\"Анализ-признаков,-недоступных-в-тестовой-выборке-1.3\"><span class=\"toc-item-num\">1.3&nbsp;&nbsp;</span>Анализ признаков, недоступных в тестовой выборке</a></span></li></ul></li><li><span><a href=\"#Анализ-данных\" data-toc-modified-id=\"Анализ-данных-2\"><span class=\"toc-item-num\">2&nbsp;&nbsp;</span>Анализ данных</a></span><ul class=\"toc-item\"><li><span><a href=\"#Концентрация-металлов-(Au,-Ag,-Pb)-на-различных-этапах-очистки\" data-toc-modified-id=\"Концентрация-металлов-(Au,-Ag,-Pb)-на-различных-этапах-очистки-2.1\"><span class=\"toc-item-num\">2.1&nbsp;&nbsp;</span>Концентрация металлов (Au, Ag, Pb) на различных этапах очистки</a></span></li><li><span><a href=\"#Сравнение-распределения-размеров-гранул-сырья-на-обучающей-и-тестовой-выборках\" data-toc-modified-id=\"Сравнение-распределения-размеров-гранул-сырья-на-обучающей-и-тестовой-выборках-2.2\"><span class=\"toc-item-num\">2.2&nbsp;&nbsp;</span>Сравнение распределения размеров гранул сырья на обучающей и тестовой выборках</a></span></li><li><span><a href=\"#Исследование-суммарной-концентрации-всех-веществ-на-разных-стадиях:-в-сырье,-в-черновом-и-финальном-концентратах\" data-toc-modified-id=\"Исследование-суммарной-концентрации-всех-веществ-на-разных-стадиях:-в-сырье,-в-черновом-и-финальном-концентратах-2.3\"><span class=\"toc-item-num\">2.3&nbsp;&nbsp;</span>Исследование суммарной концентрации всех веществ на разных стадиях: в сырье, в черновом и финальном концентратах</a></span></li></ul></li><li><span><a href=\"#Модель\" data-toc-modified-id=\"Модель-3\"><span class=\"toc-item-num\">3&nbsp;&nbsp;</span>Модель</a></span><ul class=\"toc-item\"><li><span><a href=\"#Функция-для-вычисления-итоговой-sMAPE\" data-toc-modified-id=\"Функция-для-вычисления-итоговой-sMAPE-3.1\"><span class=\"toc-item-num\">3.1&nbsp;&nbsp;</span>Функция для вычисления итоговой sMAPE</a></span></li><li><span><a href=\"#Обучение-разные-модели-и-оценка-их-качества-кросс-валидацией\" data-toc-modified-id=\"Обучение-разные-модели-и-оценка-их-качества-кросс-валидацией-3.2\"><span class=\"toc-item-num\">3.2&nbsp;&nbsp;</span>Обучение разные модели и оценка их качества кросс-валидацией</a></span><ul class=\"toc-item\"><li><span><a href=\"#Линейная-регрессия---LinearRegression\" data-toc-modified-id=\"Линейная-регрессия---LinearRegression-3.2.1\"><span class=\"toc-item-num\">3.2.1&nbsp;&nbsp;</span>Линейная регрессия - LinearRegression</a></span></li><li><span><a href=\"#Решающее-дерево---DecisionTreeRegressor\" data-toc-modified-id=\"Решающее-дерево---DecisionTreeRegressor-3.2.2\"><span class=\"toc-item-num\">3.2.2&nbsp;&nbsp;</span>Решающее дерево - DecisionTreeRegressor</a></span></li><li><span><a href=\"#Случайный-лес---RandomForestRegressor\" data-toc-modified-id=\"Случайный-лес---RandomForestRegressor-3.2.3\"><span class=\"toc-item-num\">3.2.3&nbsp;&nbsp;</span>Случайный лес - RandomForestRegressor</a></span></li></ul></li><li><span><a href=\"#Тестирование-наилучшей-модели-на-тестовой-выборке-и-проверка-её-на-адекватность\" data-toc-modified-id=\"Тестирование-наилучшей-модели-на-тестовой-выборке-и-проверка-её-на-адекватность-3.3\"><span class=\"toc-item-num\">3.3&nbsp;&nbsp;</span>Тестирование наилучшей модели на тестовой выборке и проверка её на адекватность</a></span></li></ul></li><li><span><a href=\"#Чек-лист-готовности-проекта\" data-toc-modified-id=\"Чек-лист-готовности-проекта-4\"><span class=\"toc-item-num\">4&nbsp;&nbsp;</span>Чек-лист готовности проекта</a></span></li></ul></div>"
   ]
  },
  {
   "cell_type": "markdown",
   "metadata": {},
   "source": [
    "# Восстановление золота из руды"
   ]
  },
  {
   "cell_type": "markdown",
   "metadata": {},
   "source": [
    "Подготовьте прототип модели машинного обучения для «Цифры». Компания разрабатывает решения для эффективной работы промышленных предприятий.\n",
    "\n",
    "Модель должна предсказать коэффициент восстановления золота из золотосодержащей руды. Используйте данные с параметрами добычи и очистки. \n",
    "\n",
    "Модель поможет оптимизировать производство, чтобы не запускать предприятие с убыточными характеристиками.\n",
    "\n",
    "Вам нужно:\n",
    "\n",
    "1. Подготовить данные;\n",
    "2. Провести исследовательский анализ данных;\n",
    "3. Построить и обучить модель.\n",
    "\n",
    "Чтобы выполнить проект, обращайтесь к библиотекам *pandas*, *matplotlib* и *sklearn.* Вам поможет их документация."
   ]
  },
  {
   "cell_type": "markdown",
   "metadata": {},
   "source": [
    "## Подготовка данных"
   ]
  },
  {
   "cell_type": "markdown",
   "metadata": {},
   "source": [
    "### Ознакомление с данными и предобработка"
   ]
  },
  {
   "cell_type": "code",
   "execution_count": 23,
   "metadata": {},
   "outputs": [],
   "source": [
    "#импортируем необходимые библиотеки и нструменты для работы\n",
    "\n",
    "import pandas as pd\n",
    "import numpy as np\n",
    "import matplotlib.pyplot as plt\n",
    "\n",
    "from sklearn.linear_model import LinearRegression\n",
    "from sklearn.ensemble import RandomForestRegressor\n",
    "from sklearn.tree import DecisionTreeRegressor\n",
    "from sklearn.dummy import DummyRegressor\n",
    "\n",
    "from sklearn.preprocessing import StandardScaler\n",
    "\n",
    "from sklearn.metrics import mean_absolute_error, make_scorer\n",
    "\n",
    "from sklearn.model_selection import cross_val_score\n",
    "from sklearn.model_selection import GridSearchCV\n",
    "\n",
    "import warnings\n",
    "warnings.filterwarnings(\"ignore\")"
   ]
  },
  {
   "cell_type": "markdown",
   "metadata": {},
   "source": [
    "<font color='blue'><b>Комментарий ревьюера: </b></font> ✔️\\\n",
    "<font color='green'> Хорошее оформление импортов! \\\n",
    "Импорты собраны в одной ячейке, разделены на функциональные группы пустой строкой.</font>"
   ]
  },
  {
   "cell_type": "code",
   "execution_count": 24,
   "metadata": {},
   "outputs": [],
   "source": [
    "#загрузим имеющиеся данные\n",
    "\n",
    "data_train = pd.read_csv('/datasets/gold_recovery_train_new.csv') #обучающая выборка\n",
    "data_test = pd.read_csv('/datasets/gold_recovery_test_new.csv') #тестовая выборка\n",
    "data_full = pd.read_csv('/datasets/gold_recovery_full_new.csv') #исходные данные"
   ]
  },
  {
   "cell_type": "code",
   "execution_count": 25,
   "metadata": {
    "collapsed": true
   },
   "outputs": [
    {
     "name": "stdout",
     "output_type": "stream",
     "text": [
      "<class 'pandas.core.frame.DataFrame'>\n",
      "RangeIndex: 14149 entries, 0 to 14148\n",
      "Data columns (total 87 columns):\n",
      " #   Column                                              Non-Null Count  Dtype  \n",
      "---  ------                                              --------------  -----  \n",
      " 0   date                                                14149 non-null  object \n",
      " 1   final.output.concentrate_ag                         14148 non-null  float64\n",
      " 2   final.output.concentrate_pb                         14148 non-null  float64\n",
      " 3   final.output.concentrate_sol                        13938 non-null  float64\n",
      " 4   final.output.concentrate_au                         14149 non-null  float64\n",
      " 5   final.output.recovery                               14149 non-null  float64\n",
      " 6   final.output.tail_ag                                14149 non-null  float64\n",
      " 7   final.output.tail_pb                                14049 non-null  float64\n",
      " 8   final.output.tail_sol                               14144 non-null  float64\n",
      " 9   final.output.tail_au                                14149 non-null  float64\n",
      " 10  primary_cleaner.input.sulfate                       14129 non-null  float64\n",
      " 11  primary_cleaner.input.depressant                    14117 non-null  float64\n",
      " 12  primary_cleaner.input.feed_size                     14149 non-null  float64\n",
      " 13  primary_cleaner.input.xanthate                      14049 non-null  float64\n",
      " 14  primary_cleaner.output.concentrate_ag               14149 non-null  float64\n",
      " 15  primary_cleaner.output.concentrate_pb               14063 non-null  float64\n",
      " 16  primary_cleaner.output.concentrate_sol              13863 non-null  float64\n",
      " 17  primary_cleaner.output.concentrate_au               14149 non-null  float64\n",
      " 18  primary_cleaner.output.tail_ag                      14148 non-null  float64\n",
      " 19  primary_cleaner.output.tail_pb                      14134 non-null  float64\n",
      " 20  primary_cleaner.output.tail_sol                     14103 non-null  float64\n",
      " 21  primary_cleaner.output.tail_au                      14149 non-null  float64\n",
      " 22  primary_cleaner.state.floatbank8_a_air              14145 non-null  float64\n",
      " 23  primary_cleaner.state.floatbank8_a_level            14148 non-null  float64\n",
      " 24  primary_cleaner.state.floatbank8_b_air              14145 non-null  float64\n",
      " 25  primary_cleaner.state.floatbank8_b_level            14148 non-null  float64\n",
      " 26  primary_cleaner.state.floatbank8_c_air              14147 non-null  float64\n",
      " 27  primary_cleaner.state.floatbank8_c_level            14148 non-null  float64\n",
      " 28  primary_cleaner.state.floatbank8_d_air              14146 non-null  float64\n",
      " 29  primary_cleaner.state.floatbank8_d_level            14148 non-null  float64\n",
      " 30  rougher.calculation.sulfate_to_au_concentrate       14148 non-null  float64\n",
      " 31  rougher.calculation.floatbank10_sulfate_to_au_feed  14148 non-null  float64\n",
      " 32  rougher.calculation.floatbank11_sulfate_to_au_feed  14148 non-null  float64\n",
      " 33  rougher.calculation.au_pb_ratio                     14149 non-null  float64\n",
      " 34  rougher.input.feed_ag                               14149 non-null  float64\n",
      " 35  rougher.input.feed_pb                               14049 non-null  float64\n",
      " 36  rougher.input.feed_rate                             14141 non-null  float64\n",
      " 37  rougher.input.feed_size                             14005 non-null  float64\n",
      " 38  rougher.input.feed_sol                              14071 non-null  float64\n",
      " 39  rougher.input.feed_au                               14149 non-null  float64\n",
      " 40  rougher.input.floatbank10_sulfate                   14120 non-null  float64\n",
      " 41  rougher.input.floatbank10_xanthate                  14141 non-null  float64\n",
      " 42  rougher.input.floatbank11_sulfate                   14113 non-null  float64\n",
      " 43  rougher.input.floatbank11_xanthate                  13721 non-null  float64\n",
      " 44  rougher.output.concentrate_ag                       14149 non-null  float64\n",
      " 45  rougher.output.concentrate_pb                       14149 non-null  float64\n",
      " 46  rougher.output.concentrate_sol                      14127 non-null  float64\n",
      " 47  rougher.output.concentrate_au                       14149 non-null  float64\n",
      " 48  rougher.output.recovery                             14149 non-null  float64\n",
      " 49  rougher.output.tail_ag                              14148 non-null  float64\n",
      " 50  rougher.output.tail_pb                              14149 non-null  float64\n",
      " 51  rougher.output.tail_sol                             14149 non-null  float64\n",
      " 52  rougher.output.tail_au                              14149 non-null  float64\n",
      " 53  rougher.state.floatbank10_a_air                     14148 non-null  float64\n",
      " 54  rougher.state.floatbank10_a_level                   14148 non-null  float64\n",
      " 55  rougher.state.floatbank10_b_air                     14148 non-null  float64\n",
      " 56  rougher.state.floatbank10_b_level                   14148 non-null  float64\n",
      " 57  rougher.state.floatbank10_c_air                     14148 non-null  float64\n",
      " 58  rougher.state.floatbank10_c_level                   14148 non-null  float64\n",
      " 59  rougher.state.floatbank10_d_air                     14149 non-null  float64\n",
      " 60  rougher.state.floatbank10_d_level                   14149 non-null  float64\n",
      " 61  rougher.state.floatbank10_e_air                     13713 non-null  float64\n",
      " 62  rougher.state.floatbank10_e_level                   14149 non-null  float64\n",
      " 63  rougher.state.floatbank10_f_air                     14149 non-null  float64\n",
      " 64  rougher.state.floatbank10_f_level                   14149 non-null  float64\n",
      " 65  secondary_cleaner.output.tail_ag                    14147 non-null  float64\n",
      " 66  secondary_cleaner.output.tail_pb                    14139 non-null  float64\n",
      " 67  secondary_cleaner.output.tail_sol                   12544 non-null  float64\n",
      " 68  secondary_cleaner.output.tail_au                    14149 non-null  float64\n",
      " 69  secondary_cleaner.state.floatbank2_a_air            13932 non-null  float64\n",
      " 70  secondary_cleaner.state.floatbank2_a_level          14148 non-null  float64\n",
      " 71  secondary_cleaner.state.floatbank2_b_air            14128 non-null  float64\n",
      " 72  secondary_cleaner.state.floatbank2_b_level          14148 non-null  float64\n",
      " 73  secondary_cleaner.state.floatbank3_a_air            14145 non-null  float64\n",
      " 74  secondary_cleaner.state.floatbank3_a_level          14148 non-null  float64\n",
      " 75  secondary_cleaner.state.floatbank3_b_air            14148 non-null  float64\n",
      " 76  secondary_cleaner.state.floatbank3_b_level          14148 non-null  float64\n",
      " 77  secondary_cleaner.state.floatbank4_a_air            14143 non-null  float64\n",
      " 78  secondary_cleaner.state.floatbank4_a_level          14148 non-null  float64\n",
      " 79  secondary_cleaner.state.floatbank4_b_air            14148 non-null  float64\n",
      " 80  secondary_cleaner.state.floatbank4_b_level          14148 non-null  float64\n",
      " 81  secondary_cleaner.state.floatbank5_a_air            14148 non-null  float64\n",
      " 82  secondary_cleaner.state.floatbank5_a_level          14148 non-null  float64\n",
      " 83  secondary_cleaner.state.floatbank5_b_air            14148 non-null  float64\n",
      " 84  secondary_cleaner.state.floatbank5_b_level          14148 non-null  float64\n",
      " 85  secondary_cleaner.state.floatbank6_a_air            14147 non-null  float64\n",
      " 86  secondary_cleaner.state.floatbank6_a_level          14148 non-null  float64\n",
      "dtypes: float64(86), object(1)\n",
      "memory usage: 9.4+ MB\n",
      "<class 'pandas.core.frame.DataFrame'>\n",
      "RangeIndex: 5290 entries, 0 to 5289\n",
      "Data columns (total 53 columns):\n",
      " #   Column                                      Non-Null Count  Dtype  \n",
      "---  ------                                      --------------  -----  \n",
      " 0   date                                        5290 non-null   object \n",
      " 1   primary_cleaner.input.sulfate               5286 non-null   float64\n",
      " 2   primary_cleaner.input.depressant            5285 non-null   float64\n",
      " 3   primary_cleaner.input.feed_size             5290 non-null   float64\n",
      " 4   primary_cleaner.input.xanthate              5286 non-null   float64\n",
      " 5   primary_cleaner.state.floatbank8_a_air      5290 non-null   float64\n",
      " 6   primary_cleaner.state.floatbank8_a_level    5290 non-null   float64\n",
      " 7   primary_cleaner.state.floatbank8_b_air      5290 non-null   float64\n",
      " 8   primary_cleaner.state.floatbank8_b_level    5290 non-null   float64\n",
      " 9   primary_cleaner.state.floatbank8_c_air      5290 non-null   float64\n",
      " 10  primary_cleaner.state.floatbank8_c_level    5290 non-null   float64\n",
      " 11  primary_cleaner.state.floatbank8_d_air      5290 non-null   float64\n",
      " 12  primary_cleaner.state.floatbank8_d_level    5290 non-null   float64\n",
      " 13  rougher.input.feed_ag                       5290 non-null   float64\n",
      " 14  rougher.input.feed_pb                       5290 non-null   float64\n",
      " 15  rougher.input.feed_rate                     5287 non-null   float64\n",
      " 16  rougher.input.feed_size                     5289 non-null   float64\n",
      " 17  rougher.input.feed_sol                      5269 non-null   float64\n",
      " 18  rougher.input.feed_au                       5290 non-null   float64\n",
      " 19  rougher.input.floatbank10_sulfate           5285 non-null   float64\n",
      " 20  rougher.input.floatbank10_xanthate          5290 non-null   float64\n",
      " 21  rougher.input.floatbank11_sulfate           5282 non-null   float64\n",
      " 22  rougher.input.floatbank11_xanthate          5265 non-null   float64\n",
      " 23  rougher.state.floatbank10_a_air             5290 non-null   float64\n",
      " 24  rougher.state.floatbank10_a_level           5290 non-null   float64\n",
      " 25  rougher.state.floatbank10_b_air             5290 non-null   float64\n",
      " 26  rougher.state.floatbank10_b_level           5290 non-null   float64\n",
      " 27  rougher.state.floatbank10_c_air             5290 non-null   float64\n",
      " 28  rougher.state.floatbank10_c_level           5290 non-null   float64\n",
      " 29  rougher.state.floatbank10_d_air             5290 non-null   float64\n",
      " 30  rougher.state.floatbank10_d_level           5290 non-null   float64\n",
      " 31  rougher.state.floatbank10_e_air             5290 non-null   float64\n",
      " 32  rougher.state.floatbank10_e_level           5290 non-null   float64\n",
      " 33  rougher.state.floatbank10_f_air             5290 non-null   float64\n",
      " 34  rougher.state.floatbank10_f_level           5290 non-null   float64\n",
      " 35  secondary_cleaner.state.floatbank2_a_air    5287 non-null   float64\n",
      " 36  secondary_cleaner.state.floatbank2_a_level  5290 non-null   float64\n",
      " 37  secondary_cleaner.state.floatbank2_b_air    5288 non-null   float64\n",
      " 38  secondary_cleaner.state.floatbank2_b_level  5290 non-null   float64\n",
      " 39  secondary_cleaner.state.floatbank3_a_air    5281 non-null   float64\n",
      " 40  secondary_cleaner.state.floatbank3_a_level  5290 non-null   float64\n",
      " 41  secondary_cleaner.state.floatbank3_b_air    5290 non-null   float64\n",
      " 42  secondary_cleaner.state.floatbank3_b_level  5290 non-null   float64\n",
      " 43  secondary_cleaner.state.floatbank4_a_air    5290 non-null   float64\n",
      " 44  secondary_cleaner.state.floatbank4_a_level  5290 non-null   float64\n",
      " 45  secondary_cleaner.state.floatbank4_b_air    5290 non-null   float64\n",
      " 46  secondary_cleaner.state.floatbank4_b_level  5290 non-null   float64\n",
      " 47  secondary_cleaner.state.floatbank5_a_air    5290 non-null   float64\n",
      " 48  secondary_cleaner.state.floatbank5_a_level  5290 non-null   float64\n",
      " 49  secondary_cleaner.state.floatbank5_b_air    5290 non-null   float64\n",
      " 50  secondary_cleaner.state.floatbank5_b_level  5290 non-null   float64\n",
      " 51  secondary_cleaner.state.floatbank6_a_air    5290 non-null   float64\n",
      " 52  secondary_cleaner.state.floatbank6_a_level  5290 non-null   float64\n",
      "dtypes: float64(52), object(1)\n",
      "memory usage: 2.1+ MB\n",
      "<class 'pandas.core.frame.DataFrame'>\n",
      "RangeIndex: 19439 entries, 0 to 19438\n",
      "Data columns (total 87 columns):\n",
      " #   Column                                              Non-Null Count  Dtype  \n",
      "---  ------                                              --------------  -----  \n",
      " 0   date                                                19439 non-null  object \n",
      " 1   final.output.concentrate_ag                         19438 non-null  float64\n",
      " 2   final.output.concentrate_pb                         19438 non-null  float64\n",
      " 3   final.output.concentrate_sol                        19228 non-null  float64\n",
      " 4   final.output.concentrate_au                         19439 non-null  float64\n",
      " 5   final.output.recovery                               19439 non-null  float64\n",
      " 6   final.output.tail_ag                                19438 non-null  float64\n",
      " 7   final.output.tail_pb                                19338 non-null  float64\n",
      " 8   final.output.tail_sol                               19433 non-null  float64\n",
      " 9   final.output.tail_au                                19439 non-null  float64\n",
      " 10  primary_cleaner.input.sulfate                       19415 non-null  float64\n",
      " 11  primary_cleaner.input.depressant                    19402 non-null  float64\n",
      " 12  primary_cleaner.input.feed_size                     19439 non-null  float64\n",
      " 13  primary_cleaner.input.xanthate                      19335 non-null  float64\n",
      " 14  primary_cleaner.output.concentrate_ag               19439 non-null  float64\n",
      " 15  primary_cleaner.output.concentrate_pb               19323 non-null  float64\n",
      " 16  primary_cleaner.output.concentrate_sol              19069 non-null  float64\n",
      " 17  primary_cleaner.output.concentrate_au               19439 non-null  float64\n",
      " 18  primary_cleaner.output.tail_ag                      19435 non-null  float64\n",
      " 19  primary_cleaner.output.tail_pb                      19418 non-null  float64\n",
      " 20  primary_cleaner.output.tail_sol                     19377 non-null  float64\n",
      " 21  primary_cleaner.output.tail_au                      19439 non-null  float64\n",
      " 22  primary_cleaner.state.floatbank8_a_air              19435 non-null  float64\n",
      " 23  primary_cleaner.state.floatbank8_a_level            19438 non-null  float64\n",
      " 24  primary_cleaner.state.floatbank8_b_air              19435 non-null  float64\n",
      " 25  primary_cleaner.state.floatbank8_b_level            19438 non-null  float64\n",
      " 26  primary_cleaner.state.floatbank8_c_air              19437 non-null  float64\n",
      " 27  primary_cleaner.state.floatbank8_c_level            19438 non-null  float64\n",
      " 28  primary_cleaner.state.floatbank8_d_air              19436 non-null  float64\n",
      " 29  primary_cleaner.state.floatbank8_d_level            19438 non-null  float64\n",
      " 30  rougher.calculation.sulfate_to_au_concentrate       19437 non-null  float64\n",
      " 31  rougher.calculation.floatbank10_sulfate_to_au_feed  19437 non-null  float64\n",
      " 32  rougher.calculation.floatbank11_sulfate_to_au_feed  19437 non-null  float64\n",
      " 33  rougher.calculation.au_pb_ratio                     19439 non-null  float64\n",
      " 34  rougher.input.feed_ag                               19439 non-null  float64\n",
      " 35  rougher.input.feed_pb                               19339 non-null  float64\n",
      " 36  rougher.input.feed_rate                             19428 non-null  float64\n",
      " 37  rougher.input.feed_size                             19294 non-null  float64\n",
      " 38  rougher.input.feed_sol                              19340 non-null  float64\n",
      " 39  rougher.input.feed_au                               19439 non-null  float64\n",
      " 40  rougher.input.floatbank10_sulfate                   19405 non-null  float64\n",
      " 41  rougher.input.floatbank10_xanthate                  19431 non-null  float64\n",
      " 42  rougher.input.floatbank11_sulfate                   19395 non-null  float64\n",
      " 43  rougher.input.floatbank11_xanthate                  18986 non-null  float64\n",
      " 44  rougher.output.concentrate_ag                       19439 non-null  float64\n",
      " 45  rougher.output.concentrate_pb                       19439 non-null  float64\n",
      " 46  rougher.output.concentrate_sol                      19416 non-null  float64\n",
      " 47  rougher.output.concentrate_au                       19439 non-null  float64\n",
      " 48  rougher.output.recovery                             19439 non-null  float64\n",
      " 49  rougher.output.tail_ag                              19438 non-null  float64\n",
      " 50  rougher.output.tail_pb                              19439 non-null  float64\n",
      " 51  rougher.output.tail_sol                             19439 non-null  float64\n",
      " 52  rougher.output.tail_au                              19439 non-null  float64\n",
      " 53  rougher.state.floatbank10_a_air                     19438 non-null  float64\n",
      " 54  rougher.state.floatbank10_a_level                   19438 non-null  float64\n",
      " 55  rougher.state.floatbank10_b_air                     19438 non-null  float64\n",
      " 56  rougher.state.floatbank10_b_level                   19438 non-null  float64\n",
      " 57  rougher.state.floatbank10_c_air                     19438 non-null  float64\n",
      " 58  rougher.state.floatbank10_c_level                   19438 non-null  float64\n",
      " 59  rougher.state.floatbank10_d_air                     19439 non-null  float64\n",
      " 60  rougher.state.floatbank10_d_level                   19439 non-null  float64\n",
      " 61  rougher.state.floatbank10_e_air                     19003 non-null  float64\n",
      " 62  rougher.state.floatbank10_e_level                   19439 non-null  float64\n",
      " 63  rougher.state.floatbank10_f_air                     19439 non-null  float64\n",
      " 64  rougher.state.floatbank10_f_level                   19439 non-null  float64\n",
      " 65  secondary_cleaner.output.tail_ag                    19437 non-null  float64\n",
      " 66  secondary_cleaner.output.tail_pb                    19427 non-null  float64\n",
      " 67  secondary_cleaner.output.tail_sol                   17691 non-null  float64\n",
      " 68  secondary_cleaner.output.tail_au                    19439 non-null  float64\n",
      " 69  secondary_cleaner.state.floatbank2_a_air            19219 non-null  float64\n",
      " 70  secondary_cleaner.state.floatbank2_a_level          19438 non-null  float64\n",
      " 71  secondary_cleaner.state.floatbank2_b_air            19416 non-null  float64\n",
      " 72  secondary_cleaner.state.floatbank2_b_level          19438 non-null  float64\n",
      " 73  secondary_cleaner.state.floatbank3_a_air            19426 non-null  float64\n",
      " 74  secondary_cleaner.state.floatbank3_a_level          19438 non-null  float64\n",
      " 75  secondary_cleaner.state.floatbank3_b_air            19438 non-null  float64\n",
      " 76  secondary_cleaner.state.floatbank3_b_level          19438 non-null  float64\n",
      " 77  secondary_cleaner.state.floatbank4_a_air            19433 non-null  float64\n",
      " 78  secondary_cleaner.state.floatbank4_a_level          19438 non-null  float64\n",
      " 79  secondary_cleaner.state.floatbank4_b_air            19438 non-null  float64\n",
      " 80  secondary_cleaner.state.floatbank4_b_level          19438 non-null  float64\n",
      " 81  secondary_cleaner.state.floatbank5_a_air            19438 non-null  float64\n",
      " 82  secondary_cleaner.state.floatbank5_a_level          19438 non-null  float64\n",
      " 83  secondary_cleaner.state.floatbank5_b_air            19438 non-null  float64\n",
      " 84  secondary_cleaner.state.floatbank5_b_level          19438 non-null  float64\n",
      " 85  secondary_cleaner.state.floatbank6_a_air            19437 non-null  float64\n",
      " 86  secondary_cleaner.state.floatbank6_a_level          19438 non-null  float64\n",
      "dtypes: float64(86), object(1)\n",
      "memory usage: 12.9+ MB\n"
     ]
    }
   ],
   "source": [
    "#посмотрим, сколько объектов в каждом ДФ, типы данных в столбцах и их названия и визуально оценим наличие пропусков\n",
    "\n",
    "data_train.info()\n",
    "data_test.info()\n",
    "data_full.info()"
   ]
  },
  {
   "cell_type": "code",
   "execution_count": 26,
   "metadata": {},
   "outputs": [
    {
     "data": {
      "text/html": [
       "<div>\n",
       "<style scoped>\n",
       "    .dataframe tbody tr th:only-of-type {\n",
       "        vertical-align: middle;\n",
       "    }\n",
       "\n",
       "    .dataframe tbody tr th {\n",
       "        vertical-align: top;\n",
       "    }\n",
       "\n",
       "    .dataframe thead th {\n",
       "        text-align: right;\n",
       "    }\n",
       "</style>\n",
       "<table border=\"1\" class=\"dataframe\">\n",
       "  <thead>\n",
       "    <tr style=\"text-align: right;\">\n",
       "      <th></th>\n",
       "      <th>date</th>\n",
       "      <th>final.output.concentrate_ag</th>\n",
       "      <th>final.output.concentrate_pb</th>\n",
       "      <th>final.output.concentrate_sol</th>\n",
       "      <th>final.output.concentrate_au</th>\n",
       "      <th>final.output.recovery</th>\n",
       "      <th>final.output.tail_ag</th>\n",
       "      <th>final.output.tail_pb</th>\n",
       "      <th>final.output.tail_sol</th>\n",
       "      <th>final.output.tail_au</th>\n",
       "      <th>...</th>\n",
       "      <th>secondary_cleaner.state.floatbank4_a_air</th>\n",
       "      <th>secondary_cleaner.state.floatbank4_a_level</th>\n",
       "      <th>secondary_cleaner.state.floatbank4_b_air</th>\n",
       "      <th>secondary_cleaner.state.floatbank4_b_level</th>\n",
       "      <th>secondary_cleaner.state.floatbank5_a_air</th>\n",
       "      <th>secondary_cleaner.state.floatbank5_a_level</th>\n",
       "      <th>secondary_cleaner.state.floatbank5_b_air</th>\n",
       "      <th>secondary_cleaner.state.floatbank5_b_level</th>\n",
       "      <th>secondary_cleaner.state.floatbank6_a_air</th>\n",
       "      <th>secondary_cleaner.state.floatbank6_a_level</th>\n",
       "    </tr>\n",
       "  </thead>\n",
       "  <tbody>\n",
       "    <tr>\n",
       "      <th>0</th>\n",
       "      <td>2016-01-15 00:00:00</td>\n",
       "      <td>6.055403</td>\n",
       "      <td>9.889648</td>\n",
       "      <td>5.507324</td>\n",
       "      <td>42.192020</td>\n",
       "      <td>70.541216</td>\n",
       "      <td>10.411962</td>\n",
       "      <td>0.895447</td>\n",
       "      <td>16.904297</td>\n",
       "      <td>2.143149</td>\n",
       "      <td>...</td>\n",
       "      <td>14.016835</td>\n",
       "      <td>-502.488007</td>\n",
       "      <td>12.099931</td>\n",
       "      <td>-504.715942</td>\n",
       "      <td>9.925633</td>\n",
       "      <td>-498.310211</td>\n",
       "      <td>8.079666</td>\n",
       "      <td>-500.470978</td>\n",
       "      <td>14.151341</td>\n",
       "      <td>-605.841980</td>\n",
       "    </tr>\n",
       "    <tr>\n",
       "      <th>1</th>\n",
       "      <td>2016-01-15 01:00:00</td>\n",
       "      <td>6.029369</td>\n",
       "      <td>9.968944</td>\n",
       "      <td>5.257781</td>\n",
       "      <td>42.701629</td>\n",
       "      <td>69.266198</td>\n",
       "      <td>10.462676</td>\n",
       "      <td>0.927452</td>\n",
       "      <td>16.634514</td>\n",
       "      <td>2.224930</td>\n",
       "      <td>...</td>\n",
       "      <td>13.992281</td>\n",
       "      <td>-505.503262</td>\n",
       "      <td>11.950531</td>\n",
       "      <td>-501.331529</td>\n",
       "      <td>10.039245</td>\n",
       "      <td>-500.169983</td>\n",
       "      <td>7.984757</td>\n",
       "      <td>-500.582168</td>\n",
       "      <td>13.998353</td>\n",
       "      <td>-599.787184</td>\n",
       "    </tr>\n",
       "    <tr>\n",
       "      <th>2</th>\n",
       "      <td>2016-01-15 02:00:00</td>\n",
       "      <td>6.055926</td>\n",
       "      <td>10.213995</td>\n",
       "      <td>5.383759</td>\n",
       "      <td>42.657501</td>\n",
       "      <td>68.116445</td>\n",
       "      <td>10.507046</td>\n",
       "      <td>0.953716</td>\n",
       "      <td>16.208849</td>\n",
       "      <td>2.257889</td>\n",
       "      <td>...</td>\n",
       "      <td>14.015015</td>\n",
       "      <td>-502.520901</td>\n",
       "      <td>11.912783</td>\n",
       "      <td>-501.133383</td>\n",
       "      <td>10.070913</td>\n",
       "      <td>-500.129135</td>\n",
       "      <td>8.013877</td>\n",
       "      <td>-500.517572</td>\n",
       "      <td>14.028663</td>\n",
       "      <td>-601.427363</td>\n",
       "    </tr>\n",
       "    <tr>\n",
       "      <th>3</th>\n",
       "      <td>2016-01-15 03:00:00</td>\n",
       "      <td>6.047977</td>\n",
       "      <td>9.977019</td>\n",
       "      <td>4.858634</td>\n",
       "      <td>42.689819</td>\n",
       "      <td>68.347543</td>\n",
       "      <td>10.422762</td>\n",
       "      <td>0.883763</td>\n",
       "      <td>16.532835</td>\n",
       "      <td>2.146849</td>\n",
       "      <td>...</td>\n",
       "      <td>14.036510</td>\n",
       "      <td>-500.857308</td>\n",
       "      <td>11.999550</td>\n",
       "      <td>-501.193686</td>\n",
       "      <td>9.970366</td>\n",
       "      <td>-499.201640</td>\n",
       "      <td>7.977324</td>\n",
       "      <td>-500.255908</td>\n",
       "      <td>14.005551</td>\n",
       "      <td>-599.996129</td>\n",
       "    </tr>\n",
       "    <tr>\n",
       "      <th>4</th>\n",
       "      <td>2016-01-15 04:00:00</td>\n",
       "      <td>6.148599</td>\n",
       "      <td>10.142511</td>\n",
       "      <td>4.939416</td>\n",
       "      <td>42.774141</td>\n",
       "      <td>66.927016</td>\n",
       "      <td>10.360302</td>\n",
       "      <td>0.792826</td>\n",
       "      <td>16.525686</td>\n",
       "      <td>2.055292</td>\n",
       "      <td>...</td>\n",
       "      <td>14.027298</td>\n",
       "      <td>-499.838632</td>\n",
       "      <td>11.953070</td>\n",
       "      <td>-501.053894</td>\n",
       "      <td>9.925709</td>\n",
       "      <td>-501.686727</td>\n",
       "      <td>7.894242</td>\n",
       "      <td>-500.356035</td>\n",
       "      <td>13.996647</td>\n",
       "      <td>-601.496691</td>\n",
       "    </tr>\n",
       "  </tbody>\n",
       "</table>\n",
       "<p>5 rows × 87 columns</p>\n",
       "</div>"
      ],
      "text/plain": [
       "                  date  final.output.concentrate_ag  \\\n",
       "0  2016-01-15 00:00:00                     6.055403   \n",
       "1  2016-01-15 01:00:00                     6.029369   \n",
       "2  2016-01-15 02:00:00                     6.055926   \n",
       "3  2016-01-15 03:00:00                     6.047977   \n",
       "4  2016-01-15 04:00:00                     6.148599   \n",
       "\n",
       "   final.output.concentrate_pb  final.output.concentrate_sol  \\\n",
       "0                     9.889648                      5.507324   \n",
       "1                     9.968944                      5.257781   \n",
       "2                    10.213995                      5.383759   \n",
       "3                     9.977019                      4.858634   \n",
       "4                    10.142511                      4.939416   \n",
       "\n",
       "   final.output.concentrate_au  final.output.recovery  final.output.tail_ag  \\\n",
       "0                    42.192020              70.541216             10.411962   \n",
       "1                    42.701629              69.266198             10.462676   \n",
       "2                    42.657501              68.116445             10.507046   \n",
       "3                    42.689819              68.347543             10.422762   \n",
       "4                    42.774141              66.927016             10.360302   \n",
       "\n",
       "   final.output.tail_pb  final.output.tail_sol  final.output.tail_au  ...  \\\n",
       "0              0.895447              16.904297              2.143149  ...   \n",
       "1              0.927452              16.634514              2.224930  ...   \n",
       "2              0.953716              16.208849              2.257889  ...   \n",
       "3              0.883763              16.532835              2.146849  ...   \n",
       "4              0.792826              16.525686              2.055292  ...   \n",
       "\n",
       "   secondary_cleaner.state.floatbank4_a_air  \\\n",
       "0                                 14.016835   \n",
       "1                                 13.992281   \n",
       "2                                 14.015015   \n",
       "3                                 14.036510   \n",
       "4                                 14.027298   \n",
       "\n",
       "   secondary_cleaner.state.floatbank4_a_level  \\\n",
       "0                                 -502.488007   \n",
       "1                                 -505.503262   \n",
       "2                                 -502.520901   \n",
       "3                                 -500.857308   \n",
       "4                                 -499.838632   \n",
       "\n",
       "   secondary_cleaner.state.floatbank4_b_air  \\\n",
       "0                                 12.099931   \n",
       "1                                 11.950531   \n",
       "2                                 11.912783   \n",
       "3                                 11.999550   \n",
       "4                                 11.953070   \n",
       "\n",
       "   secondary_cleaner.state.floatbank4_b_level  \\\n",
       "0                                 -504.715942   \n",
       "1                                 -501.331529   \n",
       "2                                 -501.133383   \n",
       "3                                 -501.193686   \n",
       "4                                 -501.053894   \n",
       "\n",
       "   secondary_cleaner.state.floatbank5_a_air  \\\n",
       "0                                  9.925633   \n",
       "1                                 10.039245   \n",
       "2                                 10.070913   \n",
       "3                                  9.970366   \n",
       "4                                  9.925709   \n",
       "\n",
       "   secondary_cleaner.state.floatbank5_a_level  \\\n",
       "0                                 -498.310211   \n",
       "1                                 -500.169983   \n",
       "2                                 -500.129135   \n",
       "3                                 -499.201640   \n",
       "4                                 -501.686727   \n",
       "\n",
       "   secondary_cleaner.state.floatbank5_b_air  \\\n",
       "0                                  8.079666   \n",
       "1                                  7.984757   \n",
       "2                                  8.013877   \n",
       "3                                  7.977324   \n",
       "4                                  7.894242   \n",
       "\n",
       "   secondary_cleaner.state.floatbank5_b_level  \\\n",
       "0                                 -500.470978   \n",
       "1                                 -500.582168   \n",
       "2                                 -500.517572   \n",
       "3                                 -500.255908   \n",
       "4                                 -500.356035   \n",
       "\n",
       "   secondary_cleaner.state.floatbank6_a_air  \\\n",
       "0                                 14.151341   \n",
       "1                                 13.998353   \n",
       "2                                 14.028663   \n",
       "3                                 14.005551   \n",
       "4                                 13.996647   \n",
       "\n",
       "   secondary_cleaner.state.floatbank6_a_level  \n",
       "0                                 -605.841980  \n",
       "1                                 -599.787184  \n",
       "2                                 -601.427363  \n",
       "3                                 -599.996129  \n",
       "4                                 -601.496691  \n",
       "\n",
       "[5 rows x 87 columns]"
      ]
     },
     "execution_count": 26,
     "metadata": {},
     "output_type": "execute_result"
    }
   ],
   "source": [
    "#теперь посмотрим на первые 5 строк для каждого ДФ для визуальной оценки разности масштаба величин\n",
    "\n",
    "data_train.head()"
   ]
  },
  {
   "cell_type": "code",
   "execution_count": 27,
   "metadata": {},
   "outputs": [
    {
     "data": {
      "text/html": [
       "<div>\n",
       "<style scoped>\n",
       "    .dataframe tbody tr th:only-of-type {\n",
       "        vertical-align: middle;\n",
       "    }\n",
       "\n",
       "    .dataframe tbody tr th {\n",
       "        vertical-align: top;\n",
       "    }\n",
       "\n",
       "    .dataframe thead th {\n",
       "        text-align: right;\n",
       "    }\n",
       "</style>\n",
       "<table border=\"1\" class=\"dataframe\">\n",
       "  <thead>\n",
       "    <tr style=\"text-align: right;\">\n",
       "      <th></th>\n",
       "      <th>date</th>\n",
       "      <th>primary_cleaner.input.sulfate</th>\n",
       "      <th>primary_cleaner.input.depressant</th>\n",
       "      <th>primary_cleaner.input.feed_size</th>\n",
       "      <th>primary_cleaner.input.xanthate</th>\n",
       "      <th>primary_cleaner.state.floatbank8_a_air</th>\n",
       "      <th>primary_cleaner.state.floatbank8_a_level</th>\n",
       "      <th>primary_cleaner.state.floatbank8_b_air</th>\n",
       "      <th>primary_cleaner.state.floatbank8_b_level</th>\n",
       "      <th>primary_cleaner.state.floatbank8_c_air</th>\n",
       "      <th>...</th>\n",
       "      <th>secondary_cleaner.state.floatbank4_a_air</th>\n",
       "      <th>secondary_cleaner.state.floatbank4_a_level</th>\n",
       "      <th>secondary_cleaner.state.floatbank4_b_air</th>\n",
       "      <th>secondary_cleaner.state.floatbank4_b_level</th>\n",
       "      <th>secondary_cleaner.state.floatbank5_a_air</th>\n",
       "      <th>secondary_cleaner.state.floatbank5_a_level</th>\n",
       "      <th>secondary_cleaner.state.floatbank5_b_air</th>\n",
       "      <th>secondary_cleaner.state.floatbank5_b_level</th>\n",
       "      <th>secondary_cleaner.state.floatbank6_a_air</th>\n",
       "      <th>secondary_cleaner.state.floatbank6_a_level</th>\n",
       "    </tr>\n",
       "  </thead>\n",
       "  <tbody>\n",
       "    <tr>\n",
       "      <th>0</th>\n",
       "      <td>2016-09-01 00:59:59</td>\n",
       "      <td>210.800909</td>\n",
       "      <td>14.993118</td>\n",
       "      <td>8.080000</td>\n",
       "      <td>1.005021</td>\n",
       "      <td>1398.981301</td>\n",
       "      <td>-500.225577</td>\n",
       "      <td>1399.144926</td>\n",
       "      <td>-499.919735</td>\n",
       "      <td>1400.102998</td>\n",
       "      <td>...</td>\n",
       "      <td>12.023554</td>\n",
       "      <td>-497.795834</td>\n",
       "      <td>8.016656</td>\n",
       "      <td>-501.289139</td>\n",
       "      <td>7.946562</td>\n",
       "      <td>-432.317850</td>\n",
       "      <td>4.872511</td>\n",
       "      <td>-500.037437</td>\n",
       "      <td>26.705889</td>\n",
       "      <td>-499.709414</td>\n",
       "    </tr>\n",
       "    <tr>\n",
       "      <th>1</th>\n",
       "      <td>2016-09-01 01:59:59</td>\n",
       "      <td>215.392455</td>\n",
       "      <td>14.987471</td>\n",
       "      <td>8.080000</td>\n",
       "      <td>0.990469</td>\n",
       "      <td>1398.777912</td>\n",
       "      <td>-500.057435</td>\n",
       "      <td>1398.055362</td>\n",
       "      <td>-499.778182</td>\n",
       "      <td>1396.151033</td>\n",
       "      <td>...</td>\n",
       "      <td>12.058140</td>\n",
       "      <td>-498.695773</td>\n",
       "      <td>8.130979</td>\n",
       "      <td>-499.634209</td>\n",
       "      <td>7.958270</td>\n",
       "      <td>-525.839648</td>\n",
       "      <td>4.878850</td>\n",
       "      <td>-500.162375</td>\n",
       "      <td>25.019940</td>\n",
       "      <td>-499.819438</td>\n",
       "    </tr>\n",
       "    <tr>\n",
       "      <th>2</th>\n",
       "      <td>2016-09-01 02:59:59</td>\n",
       "      <td>215.259946</td>\n",
       "      <td>12.884934</td>\n",
       "      <td>7.786667</td>\n",
       "      <td>0.996043</td>\n",
       "      <td>1398.493666</td>\n",
       "      <td>-500.868360</td>\n",
       "      <td>1398.860436</td>\n",
       "      <td>-499.764529</td>\n",
       "      <td>1398.075709</td>\n",
       "      <td>...</td>\n",
       "      <td>11.962366</td>\n",
       "      <td>-498.767484</td>\n",
       "      <td>8.096893</td>\n",
       "      <td>-500.827423</td>\n",
       "      <td>8.071056</td>\n",
       "      <td>-500.801673</td>\n",
       "      <td>4.905125</td>\n",
       "      <td>-499.828510</td>\n",
       "      <td>24.994862</td>\n",
       "      <td>-500.622559</td>\n",
       "    </tr>\n",
       "    <tr>\n",
       "      <th>3</th>\n",
       "      <td>2016-09-01 03:59:59</td>\n",
       "      <td>215.336236</td>\n",
       "      <td>12.006805</td>\n",
       "      <td>7.640000</td>\n",
       "      <td>0.863514</td>\n",
       "      <td>1399.618111</td>\n",
       "      <td>-498.863574</td>\n",
       "      <td>1397.440120</td>\n",
       "      <td>-499.211024</td>\n",
       "      <td>1400.129303</td>\n",
       "      <td>...</td>\n",
       "      <td>12.033091</td>\n",
       "      <td>-498.350935</td>\n",
       "      <td>8.074946</td>\n",
       "      <td>-499.474407</td>\n",
       "      <td>7.897085</td>\n",
       "      <td>-500.868509</td>\n",
       "      <td>4.931400</td>\n",
       "      <td>-499.963623</td>\n",
       "      <td>24.948919</td>\n",
       "      <td>-498.709987</td>\n",
       "    </tr>\n",
       "    <tr>\n",
       "      <th>4</th>\n",
       "      <td>2016-09-01 04:59:59</td>\n",
       "      <td>199.099327</td>\n",
       "      <td>10.682530</td>\n",
       "      <td>7.530000</td>\n",
       "      <td>0.805575</td>\n",
       "      <td>1401.268123</td>\n",
       "      <td>-500.808305</td>\n",
       "      <td>1398.128818</td>\n",
       "      <td>-499.504543</td>\n",
       "      <td>1402.172226</td>\n",
       "      <td>...</td>\n",
       "      <td>12.025367</td>\n",
       "      <td>-500.786497</td>\n",
       "      <td>8.054678</td>\n",
       "      <td>-500.397500</td>\n",
       "      <td>8.107890</td>\n",
       "      <td>-509.526725</td>\n",
       "      <td>4.957674</td>\n",
       "      <td>-500.360026</td>\n",
       "      <td>25.003331</td>\n",
       "      <td>-500.856333</td>\n",
       "    </tr>\n",
       "  </tbody>\n",
       "</table>\n",
       "<p>5 rows × 53 columns</p>\n",
       "</div>"
      ],
      "text/plain": [
       "                  date  primary_cleaner.input.sulfate  \\\n",
       "0  2016-09-01 00:59:59                     210.800909   \n",
       "1  2016-09-01 01:59:59                     215.392455   \n",
       "2  2016-09-01 02:59:59                     215.259946   \n",
       "3  2016-09-01 03:59:59                     215.336236   \n",
       "4  2016-09-01 04:59:59                     199.099327   \n",
       "\n",
       "   primary_cleaner.input.depressant  primary_cleaner.input.feed_size  \\\n",
       "0                         14.993118                         8.080000   \n",
       "1                         14.987471                         8.080000   \n",
       "2                         12.884934                         7.786667   \n",
       "3                         12.006805                         7.640000   \n",
       "4                         10.682530                         7.530000   \n",
       "\n",
       "   primary_cleaner.input.xanthate  primary_cleaner.state.floatbank8_a_air  \\\n",
       "0                        1.005021                             1398.981301   \n",
       "1                        0.990469                             1398.777912   \n",
       "2                        0.996043                             1398.493666   \n",
       "3                        0.863514                             1399.618111   \n",
       "4                        0.805575                             1401.268123   \n",
       "\n",
       "   primary_cleaner.state.floatbank8_a_level  \\\n",
       "0                               -500.225577   \n",
       "1                               -500.057435   \n",
       "2                               -500.868360   \n",
       "3                               -498.863574   \n",
       "4                               -500.808305   \n",
       "\n",
       "   primary_cleaner.state.floatbank8_b_air  \\\n",
       "0                             1399.144926   \n",
       "1                             1398.055362   \n",
       "2                             1398.860436   \n",
       "3                             1397.440120   \n",
       "4                             1398.128818   \n",
       "\n",
       "   primary_cleaner.state.floatbank8_b_level  \\\n",
       "0                               -499.919735   \n",
       "1                               -499.778182   \n",
       "2                               -499.764529   \n",
       "3                               -499.211024   \n",
       "4                               -499.504543   \n",
       "\n",
       "   primary_cleaner.state.floatbank8_c_air  ...  \\\n",
       "0                             1400.102998  ...   \n",
       "1                             1396.151033  ...   \n",
       "2                             1398.075709  ...   \n",
       "3                             1400.129303  ...   \n",
       "4                             1402.172226  ...   \n",
       "\n",
       "   secondary_cleaner.state.floatbank4_a_air  \\\n",
       "0                                 12.023554   \n",
       "1                                 12.058140   \n",
       "2                                 11.962366   \n",
       "3                                 12.033091   \n",
       "4                                 12.025367   \n",
       "\n",
       "   secondary_cleaner.state.floatbank4_a_level  \\\n",
       "0                                 -497.795834   \n",
       "1                                 -498.695773   \n",
       "2                                 -498.767484   \n",
       "3                                 -498.350935   \n",
       "4                                 -500.786497   \n",
       "\n",
       "   secondary_cleaner.state.floatbank4_b_air  \\\n",
       "0                                  8.016656   \n",
       "1                                  8.130979   \n",
       "2                                  8.096893   \n",
       "3                                  8.074946   \n",
       "4                                  8.054678   \n",
       "\n",
       "   secondary_cleaner.state.floatbank4_b_level  \\\n",
       "0                                 -501.289139   \n",
       "1                                 -499.634209   \n",
       "2                                 -500.827423   \n",
       "3                                 -499.474407   \n",
       "4                                 -500.397500   \n",
       "\n",
       "   secondary_cleaner.state.floatbank5_a_air  \\\n",
       "0                                  7.946562   \n",
       "1                                  7.958270   \n",
       "2                                  8.071056   \n",
       "3                                  7.897085   \n",
       "4                                  8.107890   \n",
       "\n",
       "   secondary_cleaner.state.floatbank5_a_level  \\\n",
       "0                                 -432.317850   \n",
       "1                                 -525.839648   \n",
       "2                                 -500.801673   \n",
       "3                                 -500.868509   \n",
       "4                                 -509.526725   \n",
       "\n",
       "   secondary_cleaner.state.floatbank5_b_air  \\\n",
       "0                                  4.872511   \n",
       "1                                  4.878850   \n",
       "2                                  4.905125   \n",
       "3                                  4.931400   \n",
       "4                                  4.957674   \n",
       "\n",
       "   secondary_cleaner.state.floatbank5_b_level  \\\n",
       "0                                 -500.037437   \n",
       "1                                 -500.162375   \n",
       "2                                 -499.828510   \n",
       "3                                 -499.963623   \n",
       "4                                 -500.360026   \n",
       "\n",
       "   secondary_cleaner.state.floatbank6_a_air  \\\n",
       "0                                 26.705889   \n",
       "1                                 25.019940   \n",
       "2                                 24.994862   \n",
       "3                                 24.948919   \n",
       "4                                 25.003331   \n",
       "\n",
       "   secondary_cleaner.state.floatbank6_a_level  \n",
       "0                                 -499.709414  \n",
       "1                                 -499.819438  \n",
       "2                                 -500.622559  \n",
       "3                                 -498.709987  \n",
       "4                                 -500.856333  \n",
       "\n",
       "[5 rows x 53 columns]"
      ]
     },
     "execution_count": 27,
     "metadata": {},
     "output_type": "execute_result"
    }
   ],
   "source": [
    "data_test.head()"
   ]
  },
  {
   "cell_type": "code",
   "execution_count": 28,
   "metadata": {},
   "outputs": [
    {
     "data": {
      "text/html": [
       "<div>\n",
       "<style scoped>\n",
       "    .dataframe tbody tr th:only-of-type {\n",
       "        vertical-align: middle;\n",
       "    }\n",
       "\n",
       "    .dataframe tbody tr th {\n",
       "        vertical-align: top;\n",
       "    }\n",
       "\n",
       "    .dataframe thead th {\n",
       "        text-align: right;\n",
       "    }\n",
       "</style>\n",
       "<table border=\"1\" class=\"dataframe\">\n",
       "  <thead>\n",
       "    <tr style=\"text-align: right;\">\n",
       "      <th></th>\n",
       "      <th>date</th>\n",
       "      <th>final.output.concentrate_ag</th>\n",
       "      <th>final.output.concentrate_pb</th>\n",
       "      <th>final.output.concentrate_sol</th>\n",
       "      <th>final.output.concentrate_au</th>\n",
       "      <th>final.output.recovery</th>\n",
       "      <th>final.output.tail_ag</th>\n",
       "      <th>final.output.tail_pb</th>\n",
       "      <th>final.output.tail_sol</th>\n",
       "      <th>final.output.tail_au</th>\n",
       "      <th>...</th>\n",
       "      <th>secondary_cleaner.state.floatbank4_a_air</th>\n",
       "      <th>secondary_cleaner.state.floatbank4_a_level</th>\n",
       "      <th>secondary_cleaner.state.floatbank4_b_air</th>\n",
       "      <th>secondary_cleaner.state.floatbank4_b_level</th>\n",
       "      <th>secondary_cleaner.state.floatbank5_a_air</th>\n",
       "      <th>secondary_cleaner.state.floatbank5_a_level</th>\n",
       "      <th>secondary_cleaner.state.floatbank5_b_air</th>\n",
       "      <th>secondary_cleaner.state.floatbank5_b_level</th>\n",
       "      <th>secondary_cleaner.state.floatbank6_a_air</th>\n",
       "      <th>secondary_cleaner.state.floatbank6_a_level</th>\n",
       "    </tr>\n",
       "  </thead>\n",
       "  <tbody>\n",
       "    <tr>\n",
       "      <th>0</th>\n",
       "      <td>2016-01-15 00:00:00</td>\n",
       "      <td>6.055403</td>\n",
       "      <td>9.889648</td>\n",
       "      <td>5.507324</td>\n",
       "      <td>42.192020</td>\n",
       "      <td>70.541216</td>\n",
       "      <td>10.411962</td>\n",
       "      <td>0.895447</td>\n",
       "      <td>16.904297</td>\n",
       "      <td>2.143149</td>\n",
       "      <td>...</td>\n",
       "      <td>14.016835</td>\n",
       "      <td>-502.488007</td>\n",
       "      <td>12.099931</td>\n",
       "      <td>-504.715942</td>\n",
       "      <td>9.925633</td>\n",
       "      <td>-498.310211</td>\n",
       "      <td>8.079666</td>\n",
       "      <td>-500.470978</td>\n",
       "      <td>14.151341</td>\n",
       "      <td>-605.841980</td>\n",
       "    </tr>\n",
       "    <tr>\n",
       "      <th>1</th>\n",
       "      <td>2016-01-15 01:00:00</td>\n",
       "      <td>6.029369</td>\n",
       "      <td>9.968944</td>\n",
       "      <td>5.257781</td>\n",
       "      <td>42.701629</td>\n",
       "      <td>69.266198</td>\n",
       "      <td>10.462676</td>\n",
       "      <td>0.927452</td>\n",
       "      <td>16.634514</td>\n",
       "      <td>2.224930</td>\n",
       "      <td>...</td>\n",
       "      <td>13.992281</td>\n",
       "      <td>-505.503262</td>\n",
       "      <td>11.950531</td>\n",
       "      <td>-501.331529</td>\n",
       "      <td>10.039245</td>\n",
       "      <td>-500.169983</td>\n",
       "      <td>7.984757</td>\n",
       "      <td>-500.582168</td>\n",
       "      <td>13.998353</td>\n",
       "      <td>-599.787184</td>\n",
       "    </tr>\n",
       "    <tr>\n",
       "      <th>2</th>\n",
       "      <td>2016-01-15 02:00:00</td>\n",
       "      <td>6.055926</td>\n",
       "      <td>10.213995</td>\n",
       "      <td>5.383759</td>\n",
       "      <td>42.657501</td>\n",
       "      <td>68.116445</td>\n",
       "      <td>10.507046</td>\n",
       "      <td>0.953716</td>\n",
       "      <td>16.208849</td>\n",
       "      <td>2.257889</td>\n",
       "      <td>...</td>\n",
       "      <td>14.015015</td>\n",
       "      <td>-502.520901</td>\n",
       "      <td>11.912783</td>\n",
       "      <td>-501.133383</td>\n",
       "      <td>10.070913</td>\n",
       "      <td>-500.129135</td>\n",
       "      <td>8.013877</td>\n",
       "      <td>-500.517572</td>\n",
       "      <td>14.028663</td>\n",
       "      <td>-601.427363</td>\n",
       "    </tr>\n",
       "    <tr>\n",
       "      <th>3</th>\n",
       "      <td>2016-01-15 03:00:00</td>\n",
       "      <td>6.047977</td>\n",
       "      <td>9.977019</td>\n",
       "      <td>4.858634</td>\n",
       "      <td>42.689819</td>\n",
       "      <td>68.347543</td>\n",
       "      <td>10.422762</td>\n",
       "      <td>0.883763</td>\n",
       "      <td>16.532835</td>\n",
       "      <td>2.146849</td>\n",
       "      <td>...</td>\n",
       "      <td>14.036510</td>\n",
       "      <td>-500.857308</td>\n",
       "      <td>11.999550</td>\n",
       "      <td>-501.193686</td>\n",
       "      <td>9.970366</td>\n",
       "      <td>-499.201640</td>\n",
       "      <td>7.977324</td>\n",
       "      <td>-500.255908</td>\n",
       "      <td>14.005551</td>\n",
       "      <td>-599.996129</td>\n",
       "    </tr>\n",
       "    <tr>\n",
       "      <th>4</th>\n",
       "      <td>2016-01-15 04:00:00</td>\n",
       "      <td>6.148599</td>\n",
       "      <td>10.142511</td>\n",
       "      <td>4.939416</td>\n",
       "      <td>42.774141</td>\n",
       "      <td>66.927016</td>\n",
       "      <td>10.360302</td>\n",
       "      <td>0.792826</td>\n",
       "      <td>16.525686</td>\n",
       "      <td>2.055292</td>\n",
       "      <td>...</td>\n",
       "      <td>14.027298</td>\n",
       "      <td>-499.838632</td>\n",
       "      <td>11.953070</td>\n",
       "      <td>-501.053894</td>\n",
       "      <td>9.925709</td>\n",
       "      <td>-501.686727</td>\n",
       "      <td>7.894242</td>\n",
       "      <td>-500.356035</td>\n",
       "      <td>13.996647</td>\n",
       "      <td>-601.496691</td>\n",
       "    </tr>\n",
       "  </tbody>\n",
       "</table>\n",
       "<p>5 rows × 87 columns</p>\n",
       "</div>"
      ],
      "text/plain": [
       "                  date  final.output.concentrate_ag  \\\n",
       "0  2016-01-15 00:00:00                     6.055403   \n",
       "1  2016-01-15 01:00:00                     6.029369   \n",
       "2  2016-01-15 02:00:00                     6.055926   \n",
       "3  2016-01-15 03:00:00                     6.047977   \n",
       "4  2016-01-15 04:00:00                     6.148599   \n",
       "\n",
       "   final.output.concentrate_pb  final.output.concentrate_sol  \\\n",
       "0                     9.889648                      5.507324   \n",
       "1                     9.968944                      5.257781   \n",
       "2                    10.213995                      5.383759   \n",
       "3                     9.977019                      4.858634   \n",
       "4                    10.142511                      4.939416   \n",
       "\n",
       "   final.output.concentrate_au  final.output.recovery  final.output.tail_ag  \\\n",
       "0                    42.192020              70.541216             10.411962   \n",
       "1                    42.701629              69.266198             10.462676   \n",
       "2                    42.657501              68.116445             10.507046   \n",
       "3                    42.689819              68.347543             10.422762   \n",
       "4                    42.774141              66.927016             10.360302   \n",
       "\n",
       "   final.output.tail_pb  final.output.tail_sol  final.output.tail_au  ...  \\\n",
       "0              0.895447              16.904297              2.143149  ...   \n",
       "1              0.927452              16.634514              2.224930  ...   \n",
       "2              0.953716              16.208849              2.257889  ...   \n",
       "3              0.883763              16.532835              2.146849  ...   \n",
       "4              0.792826              16.525686              2.055292  ...   \n",
       "\n",
       "   secondary_cleaner.state.floatbank4_a_air  \\\n",
       "0                                 14.016835   \n",
       "1                                 13.992281   \n",
       "2                                 14.015015   \n",
       "3                                 14.036510   \n",
       "4                                 14.027298   \n",
       "\n",
       "   secondary_cleaner.state.floatbank4_a_level  \\\n",
       "0                                 -502.488007   \n",
       "1                                 -505.503262   \n",
       "2                                 -502.520901   \n",
       "3                                 -500.857308   \n",
       "4                                 -499.838632   \n",
       "\n",
       "   secondary_cleaner.state.floatbank4_b_air  \\\n",
       "0                                 12.099931   \n",
       "1                                 11.950531   \n",
       "2                                 11.912783   \n",
       "3                                 11.999550   \n",
       "4                                 11.953070   \n",
       "\n",
       "   secondary_cleaner.state.floatbank4_b_level  \\\n",
       "0                                 -504.715942   \n",
       "1                                 -501.331529   \n",
       "2                                 -501.133383   \n",
       "3                                 -501.193686   \n",
       "4                                 -501.053894   \n",
       "\n",
       "   secondary_cleaner.state.floatbank5_a_air  \\\n",
       "0                                  9.925633   \n",
       "1                                 10.039245   \n",
       "2                                 10.070913   \n",
       "3                                  9.970366   \n",
       "4                                  9.925709   \n",
       "\n",
       "   secondary_cleaner.state.floatbank5_a_level  \\\n",
       "0                                 -498.310211   \n",
       "1                                 -500.169983   \n",
       "2                                 -500.129135   \n",
       "3                                 -499.201640   \n",
       "4                                 -501.686727   \n",
       "\n",
       "   secondary_cleaner.state.floatbank5_b_air  \\\n",
       "0                                  8.079666   \n",
       "1                                  7.984757   \n",
       "2                                  8.013877   \n",
       "3                                  7.977324   \n",
       "4                                  7.894242   \n",
       "\n",
       "   secondary_cleaner.state.floatbank5_b_level  \\\n",
       "0                                 -500.470978   \n",
       "1                                 -500.582168   \n",
       "2                                 -500.517572   \n",
       "3                                 -500.255908   \n",
       "4                                 -500.356035   \n",
       "\n",
       "   secondary_cleaner.state.floatbank6_a_air  \\\n",
       "0                                 14.151341   \n",
       "1                                 13.998353   \n",
       "2                                 14.028663   \n",
       "3                                 14.005551   \n",
       "4                                 13.996647   \n",
       "\n",
       "   secondary_cleaner.state.floatbank6_a_level  \n",
       "0                                 -605.841980  \n",
       "1                                 -599.787184  \n",
       "2                                 -601.427363  \n",
       "3                                 -599.996129  \n",
       "4                                 -601.496691  \n",
       "\n",
       "[5 rows x 87 columns]"
      ]
     },
     "execution_count": 28,
     "metadata": {},
     "output_type": "execute_result"
    }
   ],
   "source": [
    "data_full.head()"
   ]
  },
  {
   "cell_type": "markdown",
   "metadata": {},
   "source": [
    "**ИТАК:**\n",
    "- есть пропуски\n",
    "- в самом первом столбце неверный формат данных(object вместо datatime)\n",
    "- разнится масштаб величин, нужно будет стандартизировать их\n",
    "- столбцов ОЧЕНЬ много, названия признаков читаются так: [этап].[тип_параметра].[название_параметра]\n",
    "    * Возможные значения для блока [этап]:\n",
    "    \n",
    "        rougher — флотация\n",
    "        \n",
    "        primary_cleaner — первичная очистка\n",
    "        \n",
    "        secondary_cleaner — вторичная очистка\n",
    "        \n",
    "        final — финальные характеристики\n",
    "        \n",
    "\n",
    "     * Возможные значения для блока [тип_параметра]:\n",
    "    \n",
    "        input — параметры сырья\n",
    "        \n",
    "        output — параметры продукта\n",
    "        \n",
    "        state — параметры, характеризующие текущее состояние этапа\n",
    "        \n",
    "        calculation — расчётные характеристики\n"
   ]
  },
  {
   "cell_type": "markdown",
   "metadata": {},
   "source": [
    "<font color='blue'><b>Комментарий ревьюера: </b></font> ✔️\\\n",
    "<font color='green'>Данные загружены корректно, первичный осмотр проведен.</font>"
   ]
  },
  {
   "cell_type": "code",
   "execution_count": 29,
   "metadata": {},
   "outputs": [],
   "source": [
    "#меняем тип данных в дате\n",
    "\n",
    "data_train['date'] = pd.to_datetime(data_train['date'], format='%Y-%m-%d %H:%M:%S')\n",
    "data_test['date'] = pd.to_datetime(data_test['date'], format='%Y-%m-%d %H:%M:%S')\n",
    "data_full['date'] = pd.to_datetime(data_full['date'], format='%Y-%m-%d %H:%M:%S')"
   ]
  },
  {
   "cell_type": "code",
   "execution_count": 30,
   "metadata": {},
   "outputs": [
    {
     "data": {
      "text/plain": [
       "0"
      ]
     },
     "execution_count": 30,
     "metadata": {},
     "output_type": "execute_result"
    }
   ],
   "source": [
    "#посмотрим, есть ли явные дубликаты\n",
    "\n",
    "data_train.duplicated().sum()"
   ]
  },
  {
   "cell_type": "code",
   "execution_count": 31,
   "metadata": {},
   "outputs": [
    {
     "data": {
      "text/plain": [
       "0"
      ]
     },
     "execution_count": 31,
     "metadata": {},
     "output_type": "execute_result"
    }
   ],
   "source": [
    "data_test.duplicated().sum()"
   ]
  },
  {
   "cell_type": "code",
   "execution_count": 32,
   "metadata": {},
   "outputs": [
    {
     "data": {
      "text/plain": [
       "0"
      ]
     },
     "execution_count": 32,
     "metadata": {},
     "output_type": "execute_result"
    }
   ],
   "source": [
    "data_full.duplicated().sum()"
   ]
  },
  {
   "cell_type": "code",
   "execution_count": 33,
   "metadata": {
    "collapsed": true
   },
   "outputs": [
    {
     "data": {
      "text/plain": [
       "date                                            0\n",
       "final.output.concentrate_ag                     1\n",
       "final.output.concentrate_pb                     1\n",
       "final.output.concentrate_sol                  211\n",
       "final.output.concentrate_au                     0\n",
       "                                             ... \n",
       "secondary_cleaner.state.floatbank5_a_level      1\n",
       "secondary_cleaner.state.floatbank5_b_air        1\n",
       "secondary_cleaner.state.floatbank5_b_level      1\n",
       "secondary_cleaner.state.floatbank6_a_air        2\n",
       "secondary_cleaner.state.floatbank6_a_level      1\n",
       "Length: 87, dtype: int64"
      ]
     },
     "execution_count": 33,
     "metadata": {},
     "output_type": "execute_result"
    }
   ],
   "source": [
    "#количество пропусков до их заполнения\n",
    "data_train.isna().sum()"
   ]
  },
  {
   "cell_type": "code",
   "execution_count": 34,
   "metadata": {
    "collapsed": true
   },
   "outputs": [
    {
     "data": {
      "text/plain": [
       "date                                           0\n",
       "primary_cleaner.input.sulfate                  4\n",
       "primary_cleaner.input.depressant               5\n",
       "primary_cleaner.input.feed_size                0\n",
       "primary_cleaner.input.xanthate                 4\n",
       "primary_cleaner.state.floatbank8_a_air         0\n",
       "primary_cleaner.state.floatbank8_a_level       0\n",
       "primary_cleaner.state.floatbank8_b_air         0\n",
       "primary_cleaner.state.floatbank8_b_level       0\n",
       "primary_cleaner.state.floatbank8_c_air         0\n",
       "primary_cleaner.state.floatbank8_c_level       0\n",
       "primary_cleaner.state.floatbank8_d_air         0\n",
       "primary_cleaner.state.floatbank8_d_level       0\n",
       "rougher.input.feed_ag                          0\n",
       "rougher.input.feed_pb                          0\n",
       "rougher.input.feed_rate                        3\n",
       "rougher.input.feed_size                        1\n",
       "rougher.input.feed_sol                        21\n",
       "rougher.input.feed_au                          0\n",
       "rougher.input.floatbank10_sulfate              5\n",
       "rougher.input.floatbank10_xanthate             0\n",
       "rougher.input.floatbank11_sulfate              8\n",
       "rougher.input.floatbank11_xanthate            25\n",
       "rougher.state.floatbank10_a_air                0\n",
       "rougher.state.floatbank10_a_level              0\n",
       "rougher.state.floatbank10_b_air                0\n",
       "rougher.state.floatbank10_b_level              0\n",
       "rougher.state.floatbank10_c_air                0\n",
       "rougher.state.floatbank10_c_level              0\n",
       "rougher.state.floatbank10_d_air                0\n",
       "rougher.state.floatbank10_d_level              0\n",
       "rougher.state.floatbank10_e_air                0\n",
       "rougher.state.floatbank10_e_level              0\n",
       "rougher.state.floatbank10_f_air                0\n",
       "rougher.state.floatbank10_f_level              0\n",
       "secondary_cleaner.state.floatbank2_a_air       3\n",
       "secondary_cleaner.state.floatbank2_a_level     0\n",
       "secondary_cleaner.state.floatbank2_b_air       2\n",
       "secondary_cleaner.state.floatbank2_b_level     0\n",
       "secondary_cleaner.state.floatbank3_a_air       9\n",
       "secondary_cleaner.state.floatbank3_a_level     0\n",
       "secondary_cleaner.state.floatbank3_b_air       0\n",
       "secondary_cleaner.state.floatbank3_b_level     0\n",
       "secondary_cleaner.state.floatbank4_a_air       0\n",
       "secondary_cleaner.state.floatbank4_a_level     0\n",
       "secondary_cleaner.state.floatbank4_b_air       0\n",
       "secondary_cleaner.state.floatbank4_b_level     0\n",
       "secondary_cleaner.state.floatbank5_a_air       0\n",
       "secondary_cleaner.state.floatbank5_a_level     0\n",
       "secondary_cleaner.state.floatbank5_b_air       0\n",
       "secondary_cleaner.state.floatbank5_b_level     0\n",
       "secondary_cleaner.state.floatbank6_a_air       0\n",
       "secondary_cleaner.state.floatbank6_a_level     0\n",
       "dtype: int64"
      ]
     },
     "execution_count": 34,
     "metadata": {},
     "output_type": "execute_result"
    }
   ],
   "source": [
    "data_test.isna().sum()"
   ]
  },
  {
   "cell_type": "code",
   "execution_count": 35,
   "metadata": {
    "collapsed": true
   },
   "outputs": [
    {
     "data": {
      "text/plain": [
       "date                                            0\n",
       "final.output.concentrate_ag                     1\n",
       "final.output.concentrate_pb                     1\n",
       "final.output.concentrate_sol                  211\n",
       "final.output.concentrate_au                     0\n",
       "                                             ... \n",
       "secondary_cleaner.state.floatbank5_a_level      1\n",
       "secondary_cleaner.state.floatbank5_b_air        1\n",
       "secondary_cleaner.state.floatbank5_b_level      1\n",
       "secondary_cleaner.state.floatbank6_a_air        2\n",
       "secondary_cleaner.state.floatbank6_a_level      1\n",
       "Length: 87, dtype: int64"
      ]
     },
     "execution_count": 35,
     "metadata": {},
     "output_type": "execute_result"
    }
   ],
   "source": [
    "data_full.isna().sum()"
   ]
  },
  {
   "cell_type": "code",
   "execution_count": 36,
   "metadata": {
    "collapsed": true
   },
   "outputs": [
    {
     "data": {
      "text/plain": [
       "date                                          0\n",
       "final.output.concentrate_ag                   0\n",
       "final.output.concentrate_pb                   0\n",
       "final.output.concentrate_sol                  0\n",
       "final.output.concentrate_au                   0\n",
       "                                             ..\n",
       "secondary_cleaner.state.floatbank5_a_level    0\n",
       "secondary_cleaner.state.floatbank5_b_air      0\n",
       "secondary_cleaner.state.floatbank5_b_level    0\n",
       "secondary_cleaner.state.floatbank6_a_air      0\n",
       "secondary_cleaner.state.floatbank6_a_level    0\n",
       "Length: 87, dtype: int64"
      ]
     },
     "execution_count": 36,
     "metadata": {},
     "output_type": "execute_result"
    }
   ],
   "source": [
    "#в условиях задания сказано: \"Данные индексируются датой и временем получения информации (признак date). Соседние по времени параметры часто похожи.\"\n",
    "#это означает, что пропуски можно заполнить предыдущими значениями, которые близки по времени к тому, где пропуск\n",
    "\n",
    "\n",
    "data_train = data_train.ffill(axis=0)\n",
    "data_test = data_test.ffill(axis=0)\n",
    "data_full = data_full.ffill(axis=0)\n",
    "\n",
    "data_train.isna().sum() #на примере одной выборки убедимся, что пропусков больше нет"
   ]
  },
  {
   "cell_type": "markdown",
   "metadata": {},
   "source": [
    "<font color='blue'><b>Комментарий ревьюера: </b></font> ✔️\\\n",
    "<font color='green'> Пропуски заполнены согласно условию задачи!</font>"
   ]
  },
  {
   "cell_type": "markdown",
   "metadata": {},
   "source": [
    "### Проверка корректности расчёта эффективности обогащения"
   ]
  },
  {
   "cell_type": "markdown",
   "metadata": {},
   "source": [
    "Эффективность рассчитывается по формуле:\n",
    "\n",
    "Recovery = $\\frac{C * (F-T)}{F * (С-T)} * 100% $\n",
    "\n",
    "Где:\n",
    "\n",
    "* C — доля золота в концентрате после флотации/очистки;\n",
    "* F — доля золота в сырье/концентрате до флотации/очистки;\n",
    "* T — доля золота в отвальных хвостах после флотации/очистки.\n",
    "\n",
    "По условию задания, эффективность обогащения нужно найти на обучающей выборке для признака rougher.output.recovery. То есть:\n",
    "\n",
    "* C = rougher.output.concentrate_au\n",
    "* F = rougher.input.feed_au\n",
    "* T = rougher.output.tail_au"
   ]
  },
  {
   "cell_type": "code",
   "execution_count": 37,
   "metadata": {},
   "outputs": [
    {
     "data": {
      "text/plain": [
       "0        87.107763\n",
       "1        86.843261\n",
       "2        86.842308\n",
       "3        87.226430\n",
       "4        86.688794\n",
       "           ...    \n",
       "14144    89.574376\n",
       "14145    87.724007\n",
       "14146    88.890579\n",
       "14147    89.858126\n",
       "14148    89.514960\n",
       "Length: 14149, dtype: float64"
      ]
     },
     "metadata": {},
     "output_type": "display_data"
    }
   ],
   "source": [
    "#Вычислим эффективность обогащения обучающей выборке для признака rougher.output.recovery. \n",
    "\n",
    "C = data_train['rougher.output.concentrate_au']\n",
    "F = data_train['rougher.input.feed_au']\n",
    "T = data_train['rougher.output.tail_au']\n",
    "\n",
    "recovery = ((C*(F-T))/(F*(C-T))) * 100\n",
    "display(recovery) #получившиеся значения"
   ]
  },
  {
   "cell_type": "markdown",
   "metadata": {},
   "source": [
    "<font color='blue'><b>Комментарий ревьюера: </b></font> ✔️\\\n",
    "<font color='green'>Расчёт верный!</font>"
   ]
  },
  {
   "cell_type": "code",
   "execution_count": 38,
   "metadata": {},
   "outputs": [
    {
     "name": "stdout",
     "output_type": "stream",
     "text": [
      "Абсолютная средняя ошибка между нашими расчётами и значением признака равна 9.73512347450521e-15\n"
     ]
    }
   ],
   "source": [
    "#Найдём MAE(абсолютную среднюю ошибку) между нашими расчётами и значением признака\n",
    "\n",
    "print('Абсолютная средняя ошибка между нашими расчётами и значением признака равна', mean_absolute_error(data_train['rougher.output.recovery'], recovery))"
   ]
  },
  {
   "cell_type": "markdown",
   "metadata": {},
   "source": [
    "Итак, ошибка крайне мала, близка к нулю. Отсюда делаем вывод, эффективность обогащения рассчитана правильно."
   ]
  },
  {
   "cell_type": "markdown",
   "metadata": {},
   "source": [
    "<font color='blue'><b>Комментарий ревьюера: </b></font> ✔️\\\n",
    "<font color='green'>👍</font>"
   ]
  },
  {
   "cell_type": "markdown",
   "metadata": {},
   "source": [
    "### Анализ признаков, недоступных в тестовой выборке"
   ]
  },
  {
   "cell_type": "markdown",
   "metadata": {},
   "source": [
    "Ранее, при изучении данных в ДФ, было заметно, что в тестовой выборке столбцов меньше, чем в остальных двух выборках. Выясним, какие столбцы отсутствуют в тестовой выборке."
   ]
  },
  {
   "cell_type": "code",
   "execution_count": 39,
   "metadata": {
    "collapsed": true
   },
   "outputs": [
    {
     "name": "stdout",
     "output_type": "stream",
     "text": [
      "Количество отсутствующих в тестовой выборке признаков: 34\n",
      "{'rougher.output.tail_pb', 'primary_cleaner.output.tail_ag', 'final.output.concentrate_sol', 'rougher.output.concentrate_pb', 'primary_cleaner.output.concentrate_sol', 'final.output.tail_pb', 'primary_cleaner.output.tail_pb', 'final.output.concentrate_pb', 'rougher.output.concentrate_au', 'primary_cleaner.output.concentrate_ag', 'final.output.tail_au', 'final.output.concentrate_au', 'secondary_cleaner.output.tail_pb', 'rougher.output.tail_ag', 'final.output.recovery', 'primary_cleaner.output.concentrate_pb', 'primary_cleaner.output.tail_sol', 'rougher.calculation.floatbank11_sulfate_to_au_feed', 'rougher.calculation.au_pb_ratio', 'secondary_cleaner.output.tail_au', 'rougher.calculation.floatbank10_sulfate_to_au_feed', 'rougher.output.tail_au', 'rougher.output.tail_sol', 'secondary_cleaner.output.tail_ag', 'primary_cleaner.output.concentrate_au', 'final.output.tail_ag', 'secondary_cleaner.output.tail_sol', 'primary_cleaner.output.tail_au', 'rougher.output.concentrate_ag', 'final.output.tail_sol', 'rougher.output.concentrate_sol', 'rougher.calculation.sulfate_to_au_concentrate', 'rougher.output.recovery', 'final.output.concentrate_ag'}\n"
     ]
    }
   ],
   "source": [
    "missed_columns = set(data_train.columns) - set(data_test.columns) #через множества\n",
    "print('Количество отсутствующих в тестовой выборке признаков:', len(missed_columns))\n",
    "print(missed_columns)"
   ]
  },
  {
   "cell_type": "markdown",
   "metadata": {},
   "source": [
    "Итак, в тестовой выборке отсутствуют 34 признака, которые есть в обучающей. Среди этих 34 признаков также 2 целевых: rougher.output.recovery, final.output.recovery. Остальные:\n",
    "\n",
    "- output (параметры продукта) для всех элементов и для всех этапов (rougher/primary_cleaner/secondary_cleaner/final.output.$элемент$) - 28 столбцов\n",
    "- calculation (расчётные характеристики) - 4 столбца.\n",
    "\n",
    "Целевые признаки можно взять из датафрейма full:"
   ]
  },
  {
   "cell_type": "markdown",
   "metadata": {},
   "source": [
    "<font color='blue'><b>Комментарий ревьюера: </b></font> ✔️\\\n",
    "<font color='green'> Верно!</font>"
   ]
  },
  {
   "cell_type": "code",
   "execution_count": 40,
   "metadata": {},
   "outputs": [],
   "source": [
    "data_test = data_test.merge(data_full.loc[:, ['date','rougher.output.recovery','final.output.recovery']], on='date')"
   ]
  },
  {
   "cell_type": "markdown",
   "metadata": {},
   "source": [
    "<font color='blue'><b>Комментарий ревьюера: </b></font> ✔️\\\n",
    "<font color='green'> Верно, при пересечении таблиц лучше привязаться ко времени.</font>"
   ]
  },
  {
   "cell_type": "markdown",
   "metadata": {},
   "source": [
    "**Резюме 1 части:**\n",
    "\n",
    "- Изучили предоставленные нам данные. 3 датафрейма: обучающий, тестовый и исходный. \n",
    "- Обнаружили и исправили: формат даты с object на datatime, пропуски на предшествующие значение (так каак по условию близкие по дате и времени параметры похожи).\n",
    "- проверили корректность расчёта эффективности обогащения, прописав формулу вручную, посчитав значения и сравнив с имеющимся признаком, вычислив MAE(среднюю абсолютную ошибку). Она близка к 0, что говорит о том, что расчёт верный.\n",
    "- В тестовом датафрейме обнаружилось отсутствие 34 столбцов, в том числе целевых для предсказания признаков. Взяли целевые из исходной таблицы."
   ]
  },
  {
   "cell_type": "markdown",
   "metadata": {},
   "source": [
    "<font color='blue'><b>Комментарий ревьюера: </b></font> ✔️ <br>\n",
    "<font color='green'>Здорово, что не забываешь про промежуточные выводы.</font>"
   ]
  },
  {
   "cell_type": "markdown",
   "metadata": {},
   "source": [
    "## Анализ данных"
   ]
  },
  {
   "cell_type": "markdown",
   "metadata": {},
   "source": [
    "### Концентрация металлов (Au, Ag, Pb) на различных этапах очистки"
   ]
  },
  {
   "cell_type": "code",
   "execution_count": 41,
   "metadata": {},
   "outputs": [
    {
     "data": {
      "image/png": "[encoded data removed]",
      "text/plain": [
       "<Figure size 1440x576 with 1 Axes>"
      ]
     },
     "metadata": {
      "needs_background": "light"
     },
     "output_type": "display_data"
    }
   ],
   "source": [
    "#начнём с Pb (свинца)\n",
    "#нам нужно проанализировать output  для каждого этапа для этого металла\n",
    "\n",
    "plt.figure(figsize=(20,8))\n",
    "\n",
    "data_full['rougher.input.feed_pb'].hist(bins=30, label='Исходное сырьё перед флотацией (rougher.output.feed)', alpha=0.5, color='green')\n",
    "data_full['rougher.output.concentrate_pb'].hist(bins=30, label='Концентрация после флотации (rougher.output.concentrate)', alpha=0.5, color='blue')\n",
    "data_full['primary_cleaner.output.concentrate_pb'].hist(bins=30, label='Концентрация после первичной очистки (primary_cleaner.output)', alpha=0.5, color='red')\n",
    "data_full['final.output.concentrate_pb'].hist(bins=30, label='Финальная концентрация (secondary_cleaner.output)', alpha=0.5, color='grey')\n",
    "plt.title('Диаграмма концентрации Pb (свинца) на всех этапах очистки')\n",
    "\n",
    "plt.legend(loc='upper left')\n",
    "plt.show()"
   ]
  },
  {
   "cell_type": "code",
   "execution_count": 42,
   "metadata": {
    "scrolled": true
   },
   "outputs": [
    {
     "data": {
      "image/png": "[encoded data removed]",
      "text/plain": [
       "<Figure size 1440x576 with 1 Axes>"
      ]
     },
     "metadata": {
      "needs_background": "light"
     },
     "output_type": "display_data"
    }
   ],
   "source": [
    "#Au (золото)\n",
    "\n",
    "plt.figure(figsize=(20,8))\n",
    "\n",
    "data_full['rougher.input.feed_au'].hist(bins=30, label='Исходное сырьё перед флотацией (rougher.output.feed)', alpha=0.5, color='green')\n",
    "data_full['rougher.output.concentrate_au'].hist(bins=30, label='После флотации(rougher.output)', alpha=0.5, color='blue')\n",
    "data_full['primary_cleaner.output.concentrate_au'].hist(bins=30, label='Концентрация после первичной очистки (primary_cleaner.output)', alpha=0.5, color='red')\n",
    "data_full['final.output.concentrate_au'].hist(bins=30, label='Финальная концентрация (secondary_cleaner.output)', alpha=0.5, color='grey')\n",
    "plt.title('Диаграмма концентрации Au (золота) на всех этапах очистки')\n",
    "\n",
    "plt.legend(loc='upper left')\n",
    "plt.show()"
   ]
  },
  {
   "cell_type": "code",
   "execution_count": 43,
   "metadata": {},
   "outputs": [
    {
     "data": {
      "image/png": "[encoded data removed]",
      "text/plain": [
       "<Figure size 1440x576 with 1 Axes>"
      ]
     },
     "metadata": {
      "needs_background": "light"
     },
     "output_type": "display_data"
    }
   ],
   "source": [
    "#Ag (серебро)\n",
    "\n",
    "plt.figure(figsize=(20,8))\n",
    "\n",
    "data_full['rougher.input.feed_ag'].hist(bins=30, label='Исходное сырьё перед флотацией (rougher.output.feed)', alpha=0.5, color='green')\n",
    "data_full['rougher.output.concentrate_ag'].hist(bins=30, label='После флотации(rougher.output)', alpha=0.5, color='blue')\n",
    "data_full['primary_cleaner.output.concentrate_ag'].hist(bins=30, label='Концентрация после первичной очистки (primary_cleaner.output)', alpha=0.5, color='red')\n",
    "data_full['final.output.concentrate_ag'].hist(bins=30, label='Финальная концентрация (secondary_cleaner.output)', alpha=0.5, color='grey')\n",
    "plt.title('Диаграмма концентрации Ag (серебра) на всех этапах очистки')\n",
    "\n",
    "plt.legend(loc='upper right')\n",
    "plt.show()"
   ]
  },
  {
   "cell_type": "markdown",
   "metadata": {},
   "source": [
    "Итак, по получившимся диаграммам можно сказать следующее:\n",
    "\n",
    "-для каждого из металлов на всех этапах есть значения, равные нулю. Это аномалии/выбросы. Удалим их чуть позже.\n",
    "\n",
    "По распределениям:\n",
    "\n",
    "* Ожидаемо с каждым последующим этапом растёт концентрация золота.\n",
    "* Концентрация свинца растет до выхода из первичной очистки, и уже не меняется в финале. \n",
    "* Для серебра видно повышение концентрации после флотации,  но далее концентрация падает, в результате концентрация становится меньше исходной. "
   ]
  },
  {
   "cell_type": "markdown",
   "metadata": {},
   "source": [
    "<font color='blue'><b>Комментарий ревьюера: </b></font> ✔️\\\n",
    "<font color='green'> Всё верно!</font>"
   ]
  },
  {
   "cell_type": "markdown",
   "metadata": {},
   "source": [
    "###  Сравнение распределения размеров гранул сырья на обучающей и тестовой выборках"
   ]
  },
  {
   "cell_type": "markdown",
   "metadata": {},
   "source": [
    "Мы имеем данные для размеров гранул перед флотацией и этапом первичной очистки. Построим распределения для этих величин для обучающей и тестовой выборок."
   ]
  },
  {
   "cell_type": "code",
   "execution_count": 44,
   "metadata": {},
   "outputs": [
    {
     "ename": "SyntaxError",
     "evalue": "unmatched ')' (1845749705.py, line 4)",
     "output_type": "error",
     "traceback": [
      "\u001b[0;36m  File \u001b[0;32m\"/tmp/ipykernel_71/1845749705.py\"\u001b[0;36m, line \u001b[0;32m4\u001b[0m\n\u001b[0;31m    data_test['rougher.input.feed_size'].hist(bins=50))\u001b[0m\n\u001b[0m                                                      ^\u001b[0m\n\u001b[0;31mSyntaxError\u001b[0m\u001b[0;31m:\u001b[0m unmatched ')'\n"
     ]
    }
   ],
   "source": [
    "#перед флотацией (rougher.input.feed_size)\n",
    "\n",
    "data_train['rougher.input.feed_size'].hist(bins=50, figsize=(15,8))\n",
    "data_test['rougher.input.feed_size'].hist(bins=50))\n",
    "\n",
    "plt.legend(['Обучающая выборка','Тестовая выборка'])\n",
    "plt.title('Распределение размеров гранул сырья перед этапом флотации')\n",
    "plt.show()"
   ]
  },
  {
   "cell_type": "code",
   "execution_count": 45,
   "metadata": {},
   "outputs": [
    {
     "data": {
      "image/png": "[encoded data removed]",
      "text/plain": [
       "<Figure size 1080x576 with 1 Axes>"
      ]
     },
     "metadata": {
      "needs_background": "light"
     },
     "output_type": "display_data"
    }
   ],
   "source": [
    "#перед первичной очисткой (primary_cleaner.input.feed_size)\n",
    "\n",
    "data_train['primary_cleaner.input.feed_size'].hist(bins=50, figsize=(15,8))\n",
    "data_test['primary_cleaner.input.feed_size'].hist(bins=50)\n",
    "\n",
    "plt.legend(['Обучающая выборка','Тестовая выборка'])\n",
    "plt.title('Распределение размеров гранул сырья перед этапом первичной очистки')\n",
    "plt.show()"
   ]
  },
  {
   "cell_type": "markdown",
   "metadata": {},
   "source": [
    "Распределения не отличаются практически. Для этапа первичной очистки рапределения абсолютно аналогичны, различается только масштаб, что объяснимо - тестовая выборка меньше обучающей. Перед этапом флотации есть также незначительные изменения в форме, что не критично. Данные однородны. Следовательно, оценка модели будет верной. "
   ]
  },
  {
   "cell_type": "markdown",
   "metadata": {},
   "source": [
    "<font color='blue'><b>Комментарий ревьюера: </b></font> ✔️\\\n",
    "<font color='green'> Вывод верный!</font> \\\n",
    "<font color='darkorange'> В данном случае нужно использовать параметр \"density=True\" в методе \".hist()\". Так бы нам удалось перейти от количества к доле.</font>"
   ]
  },
  {
   "cell_type": "markdown",
   "metadata": {},
   "source": [
    "### Исследование суммарной концентрации всех веществ на разных стадиях: в сырье, в черновом и финальном концентратах"
   ]
  },
  {
   "cell_type": "code",
   "execution_count": 46,
   "metadata": {},
   "outputs": [],
   "source": [
    "sum_concentrate = pd.DataFrame() #отдельный ДФ для всех суммарных концентраций\n",
    "\n",
    "#суммарная концентрация всех веществ в сырье (то, что ДО флотации)\n",
    "sum_concentrate['sum_concentrate_before_rougher'] = data_train['rougher.input.feed_au'] + data_train['rougher.input.feed_ag'] + data_train['rougher.input.feed_pb'] + data_train['rougher.input.feed_sol']\n",
    "\n",
    "#суммарная концентрация всех веществ в черновом концентрате (то, что ПОСЛЕ флотации, перед первичной очисткой)\n",
    "sum_concentrate['sum_concentrate_after_rougher'] = data_train['rougher.output.concentrate_au'] + data_train['rougher.output.concentrate_ag'] + data_train['rougher.output.concentrate_pb'] + data_train['rougher.output.concentrate_sol']\n",
    "\n",
    "#суммарная концентрация всех веществ в финальном концентрате \n",
    "sum_concentrate['sum_concentrate_final'] = data_train['final.output.concentrate_au'] + data_train['final.output.concentrate_ag'] + data_train['final.output.concentrate_pb'] + data_train['final.output.concentrate_sol']\n"
   ]
  },
  {
   "cell_type": "code",
   "execution_count": 47,
   "metadata": {},
   "outputs": [
    {
     "data": {
      "image/png": "[encoded data removed]",
      "text/plain": [
       "<Figure size 1440x720 with 1 Axes>"
      ]
     },
     "metadata": {
      "needs_background": "light"
     },
     "output_type": "display_data"
    }
   ],
   "source": [
    "plt.figure(figsize=(20, 10))\n",
    "plt.title('График суммарной концентрации всех веществ на разных стадиях')\n",
    "\n",
    "sum_concentrate['sum_concentrate_before_rougher'].hist(bins=30, color='red', alpha=0.7)\n",
    "sum_concentrate['sum_concentrate_after_rougher'].hist(bins=30, color='blue', alpha=0.7)\n",
    "sum_concentrate['sum_concentrate_final'].hist(bins=30, color='yellow', alpha=0.7)\n",
    "\n",
    "plt.legend(['В сырье','В черновом концентрате', 'В финальном концентрате'])\n",
    "plt.show()"
   ]
  },
  {
   "cell_type": "markdown",
   "metadata": {},
   "source": [
    "Суммарная концентрация максимальна на финальном концентрате, минимальна в сырье. Тут снова видны аномалии около нуля для этапов после флотации и после очисток. Удалим их."
   ]
  },
  {
   "cell_type": "code",
   "execution_count": 48,
   "metadata": {},
   "outputs": [
    {
     "data": {
      "text/plain": [
       "(14149, 87)"
      ]
     },
     "execution_count": 48,
     "metadata": {},
     "output_type": "execute_result"
    }
   ],
   "source": [
    "data_train.shape"
   ]
  },
  {
   "cell_type": "code",
   "execution_count": 49,
   "metadata": {},
   "outputs": [
    {
     "data": {
      "text/plain": [
       "(19439, 87)"
      ]
     },
     "execution_count": 49,
     "metadata": {},
     "output_type": "execute_result"
    }
   ],
   "source": [
    "data_full.shape"
   ]
  },
  {
   "cell_type": "code",
   "execution_count": 50,
   "metadata": {},
   "outputs": [],
   "source": [
    "#удаляем в обучающей выборке строки, дающие суммарные нули для чернового концентрата и финального\n",
    "data_train = data_train[(data_train['rougher.output.concentrate_au'] != 0) & \n",
    "                        (data_train['rougher.output.concentrate_ag'] != 0) & \n",
    "                        (data_train['rougher.output.concentrate_pb'] != 0) & \n",
    "                        (data_train['rougher.output.concentrate_sol'] != 0)]\n",
    "\n",
    "data_train = data_train[(data_train['final.output.concentrate_au'] != 0) & \n",
    "                        (data_train['final.output.concentrate_ag'] != 0) & \n",
    "                        (data_train['final.output.concentrate_pb'] != 0) & \n",
    "                        (data_train['final.output.concentrate_sol'] != 0)]\n"
   ]
  },
  {
   "cell_type": "markdown",
   "metadata": {},
   "source": [
    "<font color='blue'><b>Комментарий ревьюера: </b></font> ⚠️\\\n",
    "<font color='darkorange'> Старайся разбивать код на строчки так, что бы всё было перед глазами. По стандарту строка кода не должна превышать 79 символов.</font>"
   ]
  },
  {
   "cell_type": "markdown",
   "metadata": {},
   "source": [
    "<div class=\"alert alert-info\"> <b>Комментарий студента:</b> разбила эти большие строки)</div>"
   ]
  },
  {
   "cell_type": "markdown",
   "metadata": {},
   "source": [
    "<font color='blue'><b>Комментарий ревьюера 2: </b></font> ✔️\\\n",
    "<font color='green'>👍</font>"
   ]
  },
  {
   "cell_type": "code",
   "execution_count": 51,
   "metadata": {},
   "outputs": [
    {
     "data": {
      "text/plain": [
       "(13792, 87)"
      ]
     },
     "execution_count": 51,
     "metadata": {},
     "output_type": "execute_result"
    }
   ],
   "source": [
    "data_train.shape"
   ]
  },
  {
   "cell_type": "markdown",
   "metadata": {},
   "source": [
    "Размеры выборки не сильно уменьшился после удаления нулевых значений, сравнительно изначальных размеров. Так что всё в порядке."
   ]
  },
  {
   "cell_type": "markdown",
   "metadata": {},
   "source": [
    "<font color='blue'><b>Комментарий ревьюера: </b></font> ✔️\\\n",
    "<font color='green'> Выбросы удалены.</font>"
   ]
  },
  {
   "cell_type": "markdown",
   "metadata": {},
   "source": [
    "**Резюме 2 части:**\n",
    "\n",
    "- Изучили , как меняется концентрация металлов (Au, Ag, Pb) на различных этапах очистки. Ожидаемо с каждым последующим этапом растёт концентрация золота. Концентрация свинца растет до выхода из первичной очистки, и уже не меняется в финале. Для серебра видно повышение концентрации после флотации, но далее концентрация падает, в результате концентрация становится меньше исходной.\n",
    "\n",
    "- Сравнили распределения размеров гранул сырья на обучающей и тестовой выборках. Они мало отличаются, только масштабом (из-за разных размеров выборок), что говорит об однородности данных и корректности будущей оценки модели.\n",
    "\n",
    "- Исследовали суммарную концентрацию всех веществ на разных стадиях: в сырье, в черновом и финальном концентратах. Получили минимум в сырье, а максимальные значения на финальном концентрате. \n",
    "\n",
    "- Обнаружили аномалии в концентрациях на разных этапах для всех элементов, значения около нуля. Удалили эти данные. "
   ]
  },
  {
   "cell_type": "markdown",
   "metadata": {},
   "source": [
    "<font color='blue'><b>Комментарий ревьюера: </b></font> ✔️\\\n",
    "<font color='green'>👍</font>"
   ]
  },
  {
   "cell_type": "markdown",
   "metadata": {},
   "source": [
    "## Модель"
   ]
  },
  {
   "cell_type": "markdown",
   "metadata": {},
   "source": [
    "Перед тем, как приступить к построению моделей и написанию функции для вычисления метрики sMAPE, подготовим данные. Нужно во-первых, удалить из обучающей выборки те признаки, которые отсутствуют в тестовой, за исключением целевых, конечно. Также, вероятно, стоит удалить столбец даты, так как он для обучения модели не информативен. Во-вторых, масштабируем признаки. "
   ]
  },
  {
   "cell_type": "code",
   "execution_count": 52,
   "metadata": {},
   "outputs": [],
   "source": [
    "#создадим выборки\n",
    "\n",
    "features_train = data_train[data_test.columns].drop(['date', 'rougher.output.recovery', 'final.output.recovery'], axis=1)\n",
    "\n",
    "target_train_rougher = data_train['rougher.output.recovery']\n",
    "target_train_final = data_train['final.output.recovery']\n",
    "\n",
    "features_test = data_test.drop(['date', 'rougher.output.recovery', 'final.output.recovery'], axis=1)\n",
    "\n",
    "target_test_rougher = data_test['rougher.output.recovery']\n",
    "target_test_final = data_test['final.output.recovery']"
   ]
  },
  {
   "cell_type": "code",
   "execution_count": 53,
   "metadata": {
    "collapsed": true
   },
   "outputs": [
    {
     "name": "stdout",
     "output_type": "stream",
     "text": [
      "<class 'pandas.core.frame.DataFrame'>\n",
      "Int64Index: 13792 entries, 0 to 14148\n",
      "Data columns (total 52 columns):\n",
      " #   Column                                      Non-Null Count  Dtype  \n",
      "---  ------                                      --------------  -----  \n",
      " 0   primary_cleaner.input.sulfate               13792 non-null  float64\n",
      " 1   primary_cleaner.input.depressant            13792 non-null  float64\n",
      " 2   primary_cleaner.input.feed_size             13792 non-null  float64\n",
      " 3   primary_cleaner.input.xanthate              13792 non-null  float64\n",
      " 4   primary_cleaner.state.floatbank8_a_air      13792 non-null  float64\n",
      " 5   primary_cleaner.state.floatbank8_a_level    13792 non-null  float64\n",
      " 6   primary_cleaner.state.floatbank8_b_air      13792 non-null  float64\n",
      " 7   primary_cleaner.state.floatbank8_b_level    13792 non-null  float64\n",
      " 8   primary_cleaner.state.floatbank8_c_air      13792 non-null  float64\n",
      " 9   primary_cleaner.state.floatbank8_c_level    13792 non-null  float64\n",
      " 10  primary_cleaner.state.floatbank8_d_air      13792 non-null  float64\n",
      " 11  primary_cleaner.state.floatbank8_d_level    13792 non-null  float64\n",
      " 12  rougher.input.feed_ag                       13792 non-null  float64\n",
      " 13  rougher.input.feed_pb                       13792 non-null  float64\n",
      " 14  rougher.input.feed_rate                     13792 non-null  float64\n",
      " 15  rougher.input.feed_size                     13792 non-null  float64\n",
      " 16  rougher.input.feed_sol                      13792 non-null  float64\n",
      " 17  rougher.input.feed_au                       13792 non-null  float64\n",
      " 18  rougher.input.floatbank10_sulfate           13792 non-null  float64\n",
      " 19  rougher.input.floatbank10_xanthate          13792 non-null  float64\n",
      " 20  rougher.input.floatbank11_sulfate           13792 non-null  float64\n",
      " 21  rougher.input.floatbank11_xanthate          13792 non-null  float64\n",
      " 22  rougher.state.floatbank10_a_air             13792 non-null  float64\n",
      " 23  rougher.state.floatbank10_a_level           13792 non-null  float64\n",
      " 24  rougher.state.floatbank10_b_air             13792 non-null  float64\n",
      " 25  rougher.state.floatbank10_b_level           13792 non-null  float64\n",
      " 26  rougher.state.floatbank10_c_air             13792 non-null  float64\n",
      " 27  rougher.state.floatbank10_c_level           13792 non-null  float64\n",
      " 28  rougher.state.floatbank10_d_air             13792 non-null  float64\n",
      " 29  rougher.state.floatbank10_d_level           13792 non-null  float64\n",
      " 30  rougher.state.floatbank10_e_air             13792 non-null  float64\n",
      " 31  rougher.state.floatbank10_e_level           13792 non-null  float64\n",
      " 32  rougher.state.floatbank10_f_air             13792 non-null  float64\n",
      " 33  rougher.state.floatbank10_f_level           13792 non-null  float64\n",
      " 34  secondary_cleaner.state.floatbank2_a_air    13792 non-null  float64\n",
      " 35  secondary_cleaner.state.floatbank2_a_level  13792 non-null  float64\n",
      " 36  secondary_cleaner.state.floatbank2_b_air    13792 non-null  float64\n",
      " 37  secondary_cleaner.state.floatbank2_b_level  13792 non-null  float64\n",
      " 38  secondary_cleaner.state.floatbank3_a_air    13792 non-null  float64\n",
      " 39  secondary_cleaner.state.floatbank3_a_level  13792 non-null  float64\n",
      " 40  secondary_cleaner.state.floatbank3_b_air    13792 non-null  float64\n",
      " 41  secondary_cleaner.state.floatbank3_b_level  13792 non-null  float64\n",
      " 42  secondary_cleaner.state.floatbank4_a_air    13792 non-null  float64\n",
      " 43  secondary_cleaner.state.floatbank4_a_level  13792 non-null  float64\n",
      " 44  secondary_cleaner.state.floatbank4_b_air    13792 non-null  float64\n",
      " 45  secondary_cleaner.state.floatbank4_b_level  13792 non-null  float64\n",
      " 46  secondary_cleaner.state.floatbank5_a_air    13792 non-null  float64\n",
      " 47  secondary_cleaner.state.floatbank5_a_level  13792 non-null  float64\n",
      " 48  secondary_cleaner.state.floatbank5_b_air    13792 non-null  float64\n",
      " 49  secondary_cleaner.state.floatbank5_b_level  13792 non-null  float64\n",
      " 50  secondary_cleaner.state.floatbank6_a_air    13792 non-null  float64\n",
      " 51  secondary_cleaner.state.floatbank6_a_level  13792 non-null  float64\n",
      "dtypes: float64(52)\n",
      "memory usage: 5.6 MB\n",
      "<class 'pandas.core.frame.DataFrame'>\n",
      "Int64Index: 5290 entries, 0 to 5289\n",
      "Data columns (total 52 columns):\n",
      " #   Column                                      Non-Null Count  Dtype  \n",
      "---  ------                                      --------------  -----  \n",
      " 0   primary_cleaner.input.sulfate               5290 non-null   float64\n",
      " 1   primary_cleaner.input.depressant            5290 non-null   float64\n",
      " 2   primary_cleaner.input.feed_size             5290 non-null   float64\n",
      " 3   primary_cleaner.input.xanthate              5290 non-null   float64\n",
      " 4   primary_cleaner.state.floatbank8_a_air      5290 non-null   float64\n",
      " 5   primary_cleaner.state.floatbank8_a_level    5290 non-null   float64\n",
      " 6   primary_cleaner.state.floatbank8_b_air      5290 non-null   float64\n",
      " 7   primary_cleaner.state.floatbank8_b_level    5290 non-null   float64\n",
      " 8   primary_cleaner.state.floatbank8_c_air      5290 non-null   float64\n",
      " 9   primary_cleaner.state.floatbank8_c_level    5290 non-null   float64\n",
      " 10  primary_cleaner.state.floatbank8_d_air      5290 non-null   float64\n",
      " 11  primary_cleaner.state.floatbank8_d_level    5290 non-null   float64\n",
      " 12  rougher.input.feed_ag                       5290 non-null   float64\n",
      " 13  rougher.input.feed_pb                       5290 non-null   float64\n",
      " 14  rougher.input.feed_rate                     5290 non-null   float64\n",
      " 15  rougher.input.feed_size                     5290 non-null   float64\n",
      " 16  rougher.input.feed_sol                      5290 non-null   float64\n",
      " 17  rougher.input.feed_au                       5290 non-null   float64\n",
      " 18  rougher.input.floatbank10_sulfate           5290 non-null   float64\n",
      " 19  rougher.input.floatbank10_xanthate          5290 non-null   float64\n",
      " 20  rougher.input.floatbank11_sulfate           5290 non-null   float64\n",
      " 21  rougher.input.floatbank11_xanthate          5290 non-null   float64\n",
      " 22  rougher.state.floatbank10_a_air             5290 non-null   float64\n",
      " 23  rougher.state.floatbank10_a_level           5290 non-null   float64\n",
      " 24  rougher.state.floatbank10_b_air             5290 non-null   float64\n",
      " 25  rougher.state.floatbank10_b_level           5290 non-null   float64\n",
      " 26  rougher.state.floatbank10_c_air             5290 non-null   float64\n",
      " 27  rougher.state.floatbank10_c_level           5290 non-null   float64\n",
      " 28  rougher.state.floatbank10_d_air             5290 non-null   float64\n",
      " 29  rougher.state.floatbank10_d_level           5290 non-null   float64\n",
      " 30  rougher.state.floatbank10_e_air             5290 non-null   float64\n",
      " 31  rougher.state.floatbank10_e_level           5290 non-null   float64\n",
      " 32  rougher.state.floatbank10_f_air             5290 non-null   float64\n",
      " 33  rougher.state.floatbank10_f_level           5290 non-null   float64\n",
      " 34  secondary_cleaner.state.floatbank2_a_air    5290 non-null   float64\n",
      " 35  secondary_cleaner.state.floatbank2_a_level  5290 non-null   float64\n",
      " 36  secondary_cleaner.state.floatbank2_b_air    5290 non-null   float64\n",
      " 37  secondary_cleaner.state.floatbank2_b_level  5290 non-null   float64\n",
      " 38  secondary_cleaner.state.floatbank3_a_air    5290 non-null   float64\n",
      " 39  secondary_cleaner.state.floatbank3_a_level  5290 non-null   float64\n",
      " 40  secondary_cleaner.state.floatbank3_b_air    5290 non-null   float64\n",
      " 41  secondary_cleaner.state.floatbank3_b_level  5290 non-null   float64\n",
      " 42  secondary_cleaner.state.floatbank4_a_air    5290 non-null   float64\n",
      " 43  secondary_cleaner.state.floatbank4_a_level  5290 non-null   float64\n",
      " 44  secondary_cleaner.state.floatbank4_b_air    5290 non-null   float64\n",
      " 45  secondary_cleaner.state.floatbank4_b_level  5290 non-null   float64\n",
      " 46  secondary_cleaner.state.floatbank5_a_air    5290 non-null   float64\n",
      " 47  secondary_cleaner.state.floatbank5_a_level  5290 non-null   float64\n",
      " 48  secondary_cleaner.state.floatbank5_b_air    5290 non-null   float64\n",
      " 49  secondary_cleaner.state.floatbank5_b_level  5290 non-null   float64\n",
      " 50  secondary_cleaner.state.floatbank6_a_air    5290 non-null   float64\n",
      " 51  secondary_cleaner.state.floatbank6_a_level  5290 non-null   float64\n",
      "dtypes: float64(52)\n",
      "memory usage: 2.1 MB\n"
     ]
    }
   ],
   "source": [
    "features_train.info(), features_test.info();"
   ]
  },
  {
   "cell_type": "markdown",
   "metadata": {},
   "source": [
    "<font color='blue'><b>Комментарий ревьюера: </b></font> ❌\\\n",
    "<font color='red'><s> Таргеты в фичах.</s></font>"
   ]
  },
  {
   "cell_type": "markdown",
   "metadata": {},
   "source": [
    "<div class=\"alert alert-info\"> <b>Комментарий студента:</b> Поменяла выборки features, сделала их 2 штуки - одна обучающая, вторая тестовая, в обеих нет ни одного целевого признака больше. </div>"
   ]
  },
  {
   "cell_type": "markdown",
   "metadata": {},
   "source": [
    "<font color='blue'><b>Комментарий ревьюера 2: </b></font> ✔️\\\n",
    "<font color='green'> Отлично!  👍</font>"
   ]
  },
  {
   "cell_type": "code",
   "execution_count": 54,
   "metadata": {},
   "outputs": [],
   "source": [
    "#масштабирование\n",
    "\n",
    "scaler = StandardScaler()\n",
    "\n",
    "features_train_scaler = scaler.fit_transform(features_train)"
   ]
  },
  {
   "cell_type": "markdown",
   "metadata": {},
   "source": [
    "<font color='blue'><b>Комментарий ревьюера: </b></font> ❌\\\n",
    "<font color='red'><s> Scaler нельзя обучать на тестовых данных. Используй уже обученый на трейне.</s></font>"
   ]
  },
  {
   "cell_type": "markdown",
   "metadata": {},
   "source": [
    "<font color='blue'><b>Комментарий ревьюера: </b></font> ⚠️\\\n",
    "<font color='darkorange'> Для каких моделей нужна Стандартизация?</font>"
   ]
  },
  {
   "cell_type": "markdown",
   "metadata": {},
   "source": [
    "<div class=\"alert alert-info\"> <b>Комментарий студента:</b> Убрала Scaler для тестовой выборки, оставила только для обучающей.\n",
    "    \n",
    "Насчет того, для каких моделей нужна стандартизация, если я верно поняла вопрос, то для регрессионных моделей больше всего, которые используют диапазон значений предсказания. Scaler помогает этот диапазон сократить. Очень хорошо подходит для линейной регрессии. Алгоритмы работают лучше, когда признаки находятся в примерно одинаковом масштабе и близки к нормальному распределению (а у нас те, которые анализировали, имеют близкое к нормальному распределению). </div>"
   ]
  },
  {
   "cell_type": "markdown",
   "metadata": {},
   "source": [
    "<font color='blue'><b>Комментарий ревьюера 2: </b></font> ⚠️\\\n",
    "<font color='darkorange'> Если Стандартизируются обучающие данные то нужно стандатизировать и тестовые.\\\n",
    "Но к тестовым применяется только метод transform Скалера обученного на трейне. Метод fit для Тестовых данных неприменим.</font>"
   ]
  },
  {
   "cell_type": "markdown",
   "metadata": {},
   "source": [
    "<font color='blue'><b>Комментарий ревьюера 2: </b></font> ⚠️\\\n",
    "<font color='blue'> Стандартизация не важна для деревьев, но на самом деле на простой линейной регрессии стандартизация также не окажет никакого влияния, поскольку все изменения переменной можно нивелировать за счет изменения коэффициента:\n",
    "\n",
    "$y = \\alpha + \\beta X$ - без стандартизации\n",
    "\n",
    "$y = \\alpha_{st} + \\beta_{st} \\frac{X-mean}{std} = (\\alpha_{st} - \\frac{\\beta_{st}mean}{std}) + (\\frac{\\beta_{st}}{std}) X$ - со стандартизацией\n",
    "\n",
    "При этом $\\alpha = (\\alpha_{st} - \\frac{\\beta_{st}mean}{std})$ и $\\beta = (\\frac{\\beta_{st}}{std})$.\n",
    "\n",
    "По ссылкам можно узнать, когда все-таки стандартизация крайне важна: <a href = 'https://www.listendata.com/2017/04/how-to-standardize-variable-in-regression.html'>тык</a>, <a href = 'https://www.statlect.com/fundamentals-of-statistics/linear-regression-with-standardized-variables'>тык</a>.</font>"
   ]
  },
  {
   "cell_type": "markdown",
   "metadata": {},
   "source": [
    "### Функция для вычисления итоговой sMAPE"
   ]
  },
  {
   "cell_type": "markdown",
   "metadata": {},
   "source": [
    "Функция для вычисления итоговой sMAPE (Symmetric Mean Absolute Percentage Error, «симметричное среднее абсолютное процентное отклонение») имеет формулу:\n",
    "\n",
    "$Итоговое sMAPE = 25\\% * sMAPE(rougher) + 75\\% * sMAPE(final)$\n",
    "\n",
    "Где sMAPE вычисляется так:\n",
    "\n",
    "$sMAPE = \\frac{1}{N} \\sum_ {i = 1} ^ {N} \\frac{|y_i - \\hat{y_i}|}{\\frac{|y_i|+|\\hat{y_i}|}{2}} * 100$"
   ]
  },
  {
   "cell_type": "code",
   "execution_count": 55,
   "metadata": {},
   "outputs": [],
   "source": [
    "def smape_func(target, predictions):\n",
    "    smape = (1/len(target)) * np.sum((np.abs(target - predictions)) / ((np.abs(target)+np.abs(predictions)) / 2))*100\n",
    "    return smape"
   ]
  },
  {
   "cell_type": "code",
   "execution_count": 56,
   "metadata": {},
   "outputs": [],
   "source": [
    "def result_smape(rougher, final):\n",
    "    result = 0.25 * rougher + 0.75 * final\n",
    "    return result"
   ]
  },
  {
   "cell_type": "markdown",
   "metadata": {},
   "source": [
    "<font color='blue'><b>Комментарий ревьюера: </b></font> ✔️\\\n",
    "<font color='green'> `smape_func` и `result_smape` расчитаны верно.</font>"
   ]
  },
  {
   "cell_type": "markdown",
   "metadata": {},
   "source": [
    "### Обучение разные модели и оценка их качества кросс-валидацией"
   ]
  },
  {
   "cell_type": "code",
   "execution_count": 57,
   "metadata": {},
   "outputs": [],
   "source": [
    "#используем make_scorer, чтобы создать оценку для выбора наилучшей модели\n",
    "smape_score = make_scorer(smape_func, greater_is_better=False)"
   ]
  },
  {
   "cell_type": "markdown",
   "metadata": {},
   "source": [
    "<font color='blue'><b>Комментарий ревьюера : </b></font> ✔️ <br>\n",
    "<font color='green'>Верно, что не забываешь указать greater_is_better=False, Это пригодится для SearchCV. SMAPE — ошибка, её минимизируем.</font>"
   ]
  },
  {
   "cell_type": "markdown",
   "metadata": {},
   "source": [
    "<div class=\"alert alert-info\"> <b>Комментарий студента:</b> Далее во всех моделях поменяла те выборки features с целевыми признаками внутри на одну features_train_scaled. Соответственно, значения sMAPE изменились, внесла правки в численные итоги тоже поэтому.  </div>"
   ]
  },
  {
   "cell_type": "markdown",
   "metadata": {},
   "source": [
    "#### Линейная регрессия - LinearRegression"
   ]
  },
  {
   "cell_type": "code",
   "execution_count": 58,
   "metadata": {},
   "outputs": [
    {
     "name": "stdout",
     "output_type": "stream",
     "text": [
      "Средняя оценка по sMAPE кросс-валлидацией равна:  7.2725301489217085\n"
     ]
    }
   ],
   "source": [
    "model_lr = LinearRegression() \n",
    "\n",
    "score_lr_rougher = cross_val_score(model_lr, features_train_scaler, target_train_rougher, scoring=smape_score, cv=5)\n",
    "mean_lr_rougher = np.mean(abs(score_lr_rougher))\n",
    "print('Средняя оценка по sMAPE кросс-валлидацией равна: ', mean_lr_rougher)"
   ]
  },
  {
   "cell_type": "code",
   "execution_count": 59,
   "metadata": {},
   "outputs": [
    {
     "name": "stdout",
     "output_type": "stream",
     "text": [
      "Средняя оценка по sMAPE кросс-валлидацией равна:  10.988171875003129\n"
     ]
    }
   ],
   "source": [
    "score_lr_final = cross_val_score(model_lr, features_train_scaler, target_train_final, scoring=smape_score, cv=5)\n",
    "mean_lr_final = np.mean(abs(score_lr_final))\n",
    "print('Средняя оценка по sMAPE кросс-валлидацией равна: ', mean_lr_final)"
   ]
  },
  {
   "cell_type": "code",
   "execution_count": 60,
   "metadata": {},
   "outputs": [
    {
     "name": "stdout",
     "output_type": "stream",
     "text": [
      "Итоговое sMAPE для линейной регрессии равно: 10.059261443482773\n"
     ]
    }
   ],
   "source": [
    "print('Итоговое sMAPE для линейной регрессии равно:', result_smape(mean_lr_rougher, mean_lr_final))"
   ]
  },
  {
   "cell_type": "markdown",
   "metadata": {},
   "source": [
    "<font color='blue'><b>Комментарий ревьюера: </b></font> ✔️\\\n",
    "<font color='green'> Отлично, что оценка по sMAPE!</font>"
   ]
  },
  {
   "cell_type": "markdown",
   "metadata": {},
   "source": [
    "#### Решающее дерево - DecisionTreeRegressor"
   ]
  },
  {
   "cell_type": "code",
   "execution_count": 61,
   "metadata": {},
   "outputs": [
    {
     "name": "stdout",
     "output_type": "stream",
     "text": [
      "sMAPE для rougher для решающего дерева кросс-валидацией равно: 7.355656304525764 \n",
      "Достигается при глубине дерева, равной: 3\n"
     ]
    }
   ],
   "source": [
    "#сделаем подбор гиперпараметра - глубины, для получения наилучшей оценки\n",
    "#для rougher\n",
    "\n",
    "best_smape_result_1 = 30\n",
    "best_depth = 0\n",
    "for depth in range(1, 10, 1):\n",
    "    model_dt = DecisionTreeRegressor(max_depth=depth, random_state=12345)\n",
    "    \n",
    "    score_dt_rougher = cross_val_score(model_dt, features_train_scaler, target_train_rougher, scoring=smape_score, cv=5)\n",
    "    mean_dt_rougher = np.mean(abs(score_dt_rougher))\n",
    "    if mean_dt_rougher < best_smape_result_1:\n",
    "        best_smape_result_1 = mean_dt_rougher\n",
    "        best_depth = depth\n",
    "print('sMAPE для rougher для решающего дерева кросс-валидацией равно:', best_smape_result_1, '\\nДостигается при глубине дерева, равной:', best_depth)"
   ]
  },
  {
   "cell_type": "code",
   "execution_count": 62,
   "metadata": {},
   "outputs": [
    {
     "name": "stdout",
     "output_type": "stream",
     "text": [
      "sMAPE для final для решающего дерева кросс-валидаией равно: 9.38291370298173 \n",
      "Достигается при глубине дерева, равной: 2\n"
     ]
    }
   ],
   "source": [
    "#для final\n",
    "\n",
    "best_smape_result_2 = 30\n",
    "best_depth = 0\n",
    "for depth in range(1, 10, 1):\n",
    "    model_dt = DecisionTreeRegressor(max_depth=depth, random_state=12345)\n",
    "    \n",
    "    score_dt_final = cross_val_score(model_dt, features_train_scaler, target_train_final, scoring=smape_score, cv=5)\n",
    "    mean_dt_final = np.mean(abs(score_dt_final))\n",
    "    if mean_dt_final < best_smape_result_2:\n",
    "        best_smape_result_2 = mean_dt_final\n",
    "        best_depth = depth\n",
    "print('sMAPE для final для решающего дерева кросс-валидаией равно:', best_smape_result_2, '\\nДостигается при глубине дерева, равной:', best_depth)"
   ]
  },
  {
   "cell_type": "code",
   "execution_count": 63,
   "metadata": {},
   "outputs": [
    {
     "name": "stdout",
     "output_type": "stream",
     "text": [
      "Итоговое sMAPE для решающего дерева равно: 8.876099353367739\n"
     ]
    }
   ],
   "source": [
    "print('Итоговое sMAPE для решающего дерева равно:', result_smape(best_smape_result_1, best_smape_result_2))"
   ]
  },
  {
   "cell_type": "markdown",
   "metadata": {},
   "source": [
    "<font color='blue'><b>Комментарий ревьюера : </b></font> ✔️\\\n",
    "<font color='green'>Подбор гиперпараметров проведён верно. Использована целевая метрика, направление отбора верное ).</font>"
   ]
  },
  {
   "cell_type": "markdown",
   "metadata": {},
   "source": [
    "<font color='blue'><b>Комментарий ревьюера: </b></font> ⚠️\\\n",
    "<font color='darkorange'> Оптимальные параметры для разных таргетов могут отличаться.</font>"
   ]
  },
  {
   "cell_type": "markdown",
   "metadata": {},
   "source": [
    "<div class=\"alert alert-info\"> <b>Комментарий студента:</b> Сделала 2 раздельных подбора для обоих таргетов, находя минимальные sMAPE, и уже потом их в итоговое. </div>"
   ]
  },
  {
   "cell_type": "markdown",
   "metadata": {},
   "source": [
    "<font color='blue'><b>Комментарий ревьюера 2: </b></font> ✔️\\\n",
    "<font color='green'> Супер!  👍</font>"
   ]
  },
  {
   "cell_type": "markdown",
   "metadata": {},
   "source": [
    "#### Случайный лес - RandomForestRegressor"
   ]
  },
  {
   "cell_type": "code",
   "execution_count": 64,
   "metadata": {},
   "outputs": [
    {
     "data": {
      "text/plain": [
       "-6.654444444196161"
      ]
     },
     "execution_count": 64,
     "metadata": {},
     "output_type": "execute_result"
    }
   ],
   "source": [
    "#при помощи GridSearchCV найдем наилучшие параметры для модели\n",
    "\n",
    "#СЧИТАЕТСЯ !!ОЧЕНЬ!! ДОЛГО, ПРОВЕРЯТЬ НЕ СОВЕТУЮ)))\n",
    "\n",
    "#reg = RandomForestRegressor(random_state=12345)\n",
    "\n",
    "#parametrs = { 'n_estimators': range (10, 51, 10),\n",
    "#              'max_depth': range (1,11)}\n",
    "#grid_r = GridSearchCV(reg, parametrs, cv=5, scoring=smape_score)\n",
    "#grid_r.fit(features_train_scaler, target_train_rougher)\n",
    "#grid_r.best_score_"
   ]
  },
  {
   "cell_type": "code",
   "execution_count": 68,
   "metadata": {},
   "outputs": [
    {
     "data": {
      "text/plain": [
       "{'max_depth': 5, 'n_estimators': 10}"
      ]
     },
     "execution_count": 68,
     "metadata": {},
     "output_type": "execute_result"
    }
   ],
   "source": [
    "#grid_r.best_params_"
   ]
  },
  {
   "cell_type": "code",
   "execution_count": 65,
   "metadata": {},
   "outputs": [
    {
     "data": {
      "text/plain": [
       "-9.143660356035543"
      ]
     },
     "execution_count": 65,
     "metadata": {},
     "output_type": "execute_result"
    }
   ],
   "source": [
    "#grid_f = GridSearchCV(reg, parametrs, cv=5, scoring=smape_score)\n",
    "#grid_f.fit(features_train_scaler, target_train_final)\n",
    "#grid_f.best_score_"
   ]
  },
  {
   "cell_type": "code",
   "execution_count": 69,
   "metadata": {},
   "outputs": [
    {
     "data": {
      "text/plain": [
       "{'max_depth': 4, 'n_estimators': 10}"
      ]
     },
     "execution_count": 69,
     "metadata": {},
     "output_type": "execute_result"
    }
   ],
   "source": [
    "#grid_f.best_params_"
   ]
  },
  {
   "cell_type": "code",
   "execution_count": 76,
   "metadata": {},
   "outputs": [
    {
     "name": "stdout",
     "output_type": "stream",
     "text": [
      "sMAPE для rougher для случайного леса равно: 6.654\n",
      "sMAPE для final для случайного леса равно: 9.144\n",
      "Итоговое sMAPE для случайного леса равно: 8.5215\n"
     ]
    }
   ],
   "source": [
    "print('sMAPE для rougher для случайного леса равно: 6.654')\n",
    "print('sMAPE для final для случайного леса равно: 9.144')\n",
    "print('Итоговое sMAPE для случайного леса равно:', result_smape(6.654, 9.144))"
   ]
  },
  {
   "cell_type": "markdown",
   "metadata": {},
   "source": [
    "<font color='blue'><b>Комментарий ревьюера: </b></font> ⚠️\\\n",
    "<font color='darkorange'><s> После GridSearchCV необязательно проводить кроссвалидацию, оценку модели с лучшими параметрами можно получить как `grid_r.best_score_`</s> </font>"
   ]
  },
  {
   "cell_type": "markdown",
   "metadata": {},
   "source": [
    "<div class=\"alert alert-info\"> <b>Комментарий студента:</b> Переделала так, спасибо за совет)) </div>"
   ]
  },
  {
   "cell_type": "markdown",
   "metadata": {},
   "source": [
    "<font color='blue'><b>Комментарий ревьюера 2:  </b></font> ⚠️\\\n",
    "<font color='darkorange'>Можно сохранять результаты кроссвалидации в переменные, чтобы не хардкодить.\\\n",
    "`smape_r = grid_r.best_score_`</font>"
   ]
  },
  {
   "cell_type": "markdown",
   "metadata": {},
   "source": [
    "Итак, получили следующие результаты для итогового sMAPE:\n",
    "- Линейная регрессия: 10.059\n",
    "- Решающее дерево: 8.876\n",
    "- Случайный лес: 8.5215\n",
    "\n",
    "Лучше всего себя показала модель случайный лес, именно ее протестируем на тестовой выборке."
   ]
  },
  {
   "cell_type": "markdown",
   "metadata": {},
   "source": [
    "### Тестирование наилучшей модели на тестовой выборке и проверка её на адекватность"
   ]
  },
  {
   "cell_type": "code",
   "execution_count": 80,
   "metadata": {},
   "outputs": [
    {
     "name": "stdout",
     "output_type": "stream",
     "text": [
      "Значение итогового sMAPE на тестовой выборке равно: 9.284949805952117\n"
     ]
    }
   ],
   "source": [
    "model_rougher = RandomForestRegressor(random_state=12345, max_depth=10, n_estimators=50)\n",
    "model_final = RandomForestRegressor(random_state=12345, max_depth=4, n_estimators=50)\n",
    "\n",
    "model_rougher.fit(features_train, target_train_rougher)\n",
    "predicted_rougher = model_rougher.predict(features_test)\n",
    "\n",
    "model_final.fit(features_train, target_train_final)\n",
    "predicted_final = model_final.predict(features_test)\n",
    "\n",
    "smape_for_test_rougher = smape_func(target_test_rougher, predicted_rougher)\n",
    "smape_for_test_final = smape_func(target_test_final, predicted_final)\n",
    "result_smape_for_test = result_smape(smape_for_test_rougher, smape_for_test_final)\n",
    "print('Значение итогового sMAPE на тестовой выборке равно:', result_smape_for_test)"
   ]
  },
  {
   "cell_type": "markdown",
   "metadata": {},
   "source": [
    "<div class=\"alert alert-info\"> <b>Комментарий студента:</b> В тестировании переделала обучение на выборке без Scaler, так как так меньше sMAPE. </div>"
   ]
  },
  {
   "cell_type": "markdown",
   "metadata": {},
   "source": [
    "<font color='blue'><b>Комментарий ревьюера: </b></font> ✔️\\\n",
    "<font color='green'>Тестирование проведено верно.</font>"
   ]
  },
  {
   "cell_type": "markdown",
   "metadata": {},
   "source": [
    "Значение итогового sMAPE на тестовой выборке получилось равным 9.285. Теперь проверим эту модель на адекватность. Для этого сравним её с константной моделью. "
   ]
  },
  {
   "cell_type": "code",
   "execution_count": 81,
   "metadata": {
    "scrolled": true
   },
   "outputs": [
    {
     "name": "stdout",
     "output_type": "stream",
     "text": [
      "Значение sMAPE на константной модели равно: 9.82146839182027\n"
     ]
    }
   ],
   "source": [
    "dummy_model_rougher = DummyRegressor(strategy=\"mean\")\n",
    "dummy_model_final = DummyRegressor(strategy=\"mean\")\n",
    "\n",
    "dummy_model_rougher.fit(features_train, target_train_rougher)\n",
    "dummy_model_final.fit(features_train, target_train_final)\n",
    "\n",
    "dummy_predicted_rougher = dummy_model_rougher.predict(features_test)\n",
    "dummy_predicted_final = dummy_model_final.predict(features_test)\n",
    "\n",
    "smape_const_rougher = smape_func(target_test_rougher, dummy_predicted_rougher)\n",
    "smape_const_final = smape_func(target_test_final, dummy_predicted_final)\n",
    "\n",
    "result_smape_const = result_smape(smape_const_rougher, smape_const_final)\n",
    "print('Значение sMAPE на константной модели равно:', result_smape_const)"
   ]
  },
  {
   "cell_type": "markdown",
   "metadata": {},
   "source": [
    "<font color='blue'><b>Комментарий ревьюера: </b></font> ✔️\\\n",
    "<font color='green'> Классно, что сравниваешь с константной моделью!</font>"
   ]
  },
  {
   "cell_type": "markdown",
   "metadata": {},
   "source": [
    "Значение sMAPE на константной модели выше, чем на модели RandomForest, что говорит о качестве второй."
   ]
  },
  {
   "cell_type": "markdown",
   "metadata": {},
   "source": [
    "**ИТОГИ:**\n",
    "\n",
    "Было нужно подобрать модель, которая хорошо предскажет коэффициент восстановления золота из золотосодержащей руды. Для этого были предоставлены данные с параметрами добычи и очистки.\n",
    "\n",
    "В результате работы:\n",
    "\n",
    "- Изучили данные, выявили неверный формат даты, пропуски. Исправили.\n",
    "\n",
    "- Далее провели проверку корректности расчёта эффективности обогащения. Разница между табличными значениями и рассчитанными по формуле оказалась очень мала, что подтверждает правильность расчёта.\n",
    "\n",
    "- Выяснили, что в тестовой выборке отсутствуют 34 признака, которые есть в обучающей. Среди этих 34 признаков также 2 целевых: rougher.output.recovery, final.output.recovery. Целевые признаки \"вытащили\" из датафрейма full.\n",
    "\n",
    "- Произвели анализ данных. Были построены диаграммы распределения концентрации металлов (Au, Ag, Pb) на различных этапах очистки. Графики показали, что ожидаемо с каждым последующим этапом растёт концентрация золота. Концентрация свинца растет до выхода из первичной очистки, и уже не меняется в финале. Для серебра видно повышение концентрации после флотации, но далее концентрация падает, в результате концентрация становится меньше исходной. \n",
    "\n",
    "- Исследовали суммарную концентрации всех веществ на разных стадиях: в сырье, в черновом и финальном концентратах. Также был построен совмещенный график. Суммарная концентрация максимальна на финальном концентрате, минимальна в сырье. Были обнаружены аномалии около нуля для этапов после флотации и после очисток. Удалили их.\n",
    "\n",
    "- Написали функции для вычисления необходимых в данном проекте метрик sMAPE и итогового sMAPE.\n",
    "\n",
    "- Обучили разные модели и оценили их качество кросс-валидацией, использовав как целевую оценку итоговое sMAPE. получили следующие результаты для итогового sMAPE:\n",
    "\n",
    "    * Линейная регрессия: 10.059\n",
    "    * Решающее дерево: 8.876\n",
    "    * Случайный лес: 8.5215\n",
    "\n",
    "- Выбрали по указанным выше значениям лучшую модель - RandomForest и проверили её на тестовой выборке. Получили значение итогового sMAPE, равное 9.285. Также проверили модель на адекватность, сравнив с константной. Значение sMAPE на константной модели получили равным 9.821, что говорит о том, что выбранная нами модель качественная."
   ]
  },
  {
   "cell_type": "markdown",
   "metadata": {},
   "source": [
    "<font color='blue'><b>Комментарий ревьюера: </b></font> ✔️\\\n",
    "<font color='green'> Очень приятно видеть вывод в конце проекта!\\\n",
    "Приведены ответы на главные вопросы проекта.</font>"
   ]
  },
  {
   "cell_type": "markdown",
   "metadata": {},
   "source": [
    "<font color='blue'><b>Итоговый комментарий ревьюера 2</b></font>\\\n",
    "<font color='green'> Маргарита, проект принят! \\\n",
    "Все этапы пройдены. Все критичные рекомендации учтены.\\\n",
    "Надеюсь, тебе понравился процесс выполнения и результат.</font> \\\n",
    "<font color='blue'><b>Спасибо, удачи в освоении профессии!</b></font>"
   ]
  },
  {
   "cell_type": "raw",
   "metadata": {},
   "source": []
  },
  {
   "cell_type": "raw",
   "metadata": {},
   "source": []
  },
  {
   "cell_type": "raw",
   "metadata": {},
   "source": []
  },
  {
   "cell_type": "markdown",
   "metadata": {},
   "source": [
    "<font color='blue'><b>Итоговый комментарий ревьюера</b></font>\\\n",
    "<font color='green'>Маргарита, хороший проект получился!\n",
    "Большое спасибо за проделанную работу. Видно, что приложено много усилий.\n",
    "Выводы и рассуждения получились содержательными, их было интересно читать.\n",
    "</font>\n",
    "\n",
    "<font color='blue'>Что нужно исправить:</font>\n",
    "<ul><font color='red'>Убери таргеты из фичей.</font></ul>\n",
    "<ul><font color='red'>Не обучай Скалер на тестоввывх данных.</font></ul>\n",
    "\n",
    "<font color='blue'>Что можно сделать лучше:</font>\n",
    "<font color='darkorange'>В работе я оставил несколько советов. Буду рад, если ты учтешь их.</font></ul>\n",
    "\n",
    "<font color='blue'><b>Жду новую версию проекта :)</b></font>"
   ]
  },
  {
   "cell_type": "markdown",
   "metadata": {},
   "source": [
    "## Чек-лист готовности проекта"
   ]
  },
  {
   "cell_type": "markdown",
   "metadata": {},
   "source": [
    "- [x]  Jupyter Notebook открыт\n",
    "- [x]  Весь код выполняется без ошибок\n",
    "- [x]  Ячейки с кодом расположены в порядке выполнения\n",
    "- [x]  Выполнен шаг 1: данные подготовлены\n",
    "    - [x]  Проверена формула вычисления эффективности обогащения\n",
    "    - [x]  Проанализированы признаки, недоступные в тестовой выборке\n",
    "    - [x]  Проведена предобработка данных\n",
    "- [x]  Выполнен шаг 2: данные проанализированы\n",
    "    - [x]  Исследовано изменение концентрации элементов на каждом этапе\n",
    "    - [x]  Проанализированы распределения размеров гранул на обучающей и тестовой выборках\n",
    "    - [x]  Исследованы суммарные концентрации\n",
    "- [x]  Выполнен шаг 3: построена модель прогнозирования\n",
    "    - [x]  Написана функция для вычисления итогового *sMAPE*\n",
    "    - [x]  Обучено и проверено несколько моделей\n",
    "    - [x]  Выбрана лучшая модель, её качество проверено на тестовой выборке"
   ]
  },
  {
   "cell_type": "code",
   "execution_count": null,
   "metadata": {},
   "outputs": [],
   "source": []
  }
 ],
 "metadata": {
  "ExecuteTimeLog": [
   {
    "duration": 1581,
    "start_time": "2022-12-26T14:46:08.660Z"
   },
   {
    "duration": 905,
    "start_time": "2022-12-26T14:47:06.116Z"
   },
   {
    "duration": 1938,
    "start_time": "2022-12-26T14:48:32.297Z"
   },
   {
    "duration": 53,
    "start_time": "2022-12-26T14:51:52.964Z"
   },
   {
    "duration": 24,
    "start_time": "2022-12-26T14:58:17.084Z"
   },
   {
    "duration": 24,
    "start_time": "2022-12-26T14:58:25.892Z"
   },
   {
    "duration": 22,
    "start_time": "2022-12-26T14:59:10.091Z"
   },
   {
    "duration": 25,
    "start_time": "2022-12-26T15:01:30.044Z"
   },
   {
    "duration": 20,
    "start_time": "2022-12-26T15:01:37.036Z"
   },
   {
    "duration": 13,
    "start_time": "2022-12-26T15:12:28.036Z"
   },
   {
    "duration": 41,
    "start_time": "2022-12-26T15:13:22.630Z"
   },
   {
    "duration": 92,
    "start_time": "2022-12-26T15:13:27.635Z"
   },
   {
    "duration": 23,
    "start_time": "2022-12-26T15:13:58.863Z"
   },
   {
    "duration": 239,
    "start_time": "2022-12-26T15:15:20.379Z"
   },
   {
    "duration": 114,
    "start_time": "2022-12-26T15:15:30.327Z"
   },
   {
    "duration": 22,
    "start_time": "2022-12-26T15:15:41.587Z"
   },
   {
    "duration": 94,
    "start_time": "2022-12-26T15:15:47.287Z"
   },
   {
    "duration": 26,
    "start_time": "2022-12-26T16:51:43.393Z"
   },
   {
    "duration": 26,
    "start_time": "2022-12-26T16:52:18.470Z"
   },
   {
    "duration": 21,
    "start_time": "2022-12-26T16:52:29.858Z"
   },
   {
    "duration": 25,
    "start_time": "2022-12-26T16:52:44.158Z"
   },
   {
    "duration": 87,
    "start_time": "2022-12-26T16:52:45.030Z"
   },
   {
    "duration": 9,
    "start_time": "2022-12-26T16:52:46.173Z"
   },
   {
    "duration": 4,
    "start_time": "2022-12-26T16:52:51.147Z"
   },
   {
    "duration": 624,
    "start_time": "2022-12-26T16:52:51.302Z"
   },
   {
    "duration": 51,
    "start_time": "2022-12-26T16:52:51.928Z"
   },
   {
    "duration": 22,
    "start_time": "2022-12-26T16:52:51.981Z"
   },
   {
    "duration": 53,
    "start_time": "2022-12-26T16:52:52.005Z"
   },
   {
    "duration": 66,
    "start_time": "2022-12-26T16:52:52.060Z"
   },
   {
    "duration": 16,
    "start_time": "2022-12-26T16:52:53.950Z"
   },
   {
    "duration": 136,
    "start_time": "2022-12-26T16:52:54.978Z"
   },
   {
    "duration": 26,
    "start_time": "2022-12-26T16:52:55.232Z"
   },
   {
    "duration": 96,
    "start_time": "2022-12-26T16:52:55.869Z"
   },
   {
    "duration": 9,
    "start_time": "2022-12-26T16:52:56.957Z"
   },
   {
    "duration": 7,
    "start_time": "2022-12-26T16:53:43.174Z"
   },
   {
    "duration": 11,
    "start_time": "2022-12-26T16:54:00.941Z"
   },
   {
    "duration": 25,
    "start_time": "2022-12-26T16:54:58.618Z"
   },
   {
    "duration": 9,
    "start_time": "2022-12-26T17:15:58.182Z"
   },
   {
    "duration": 4,
    "start_time": "2022-12-26T17:19:12.606Z"
   },
   {
    "duration": 4,
    "start_time": "2022-12-26T17:50:02.801Z"
   },
   {
    "duration": 5,
    "start_time": "2022-12-26T17:50:07.031Z"
   },
   {
    "duration": 4,
    "start_time": "2022-12-26T17:50:10.967Z"
   },
   {
    "duration": 11,
    "start_time": "2022-12-26T18:34:51.500Z"
   },
   {
    "duration": 11,
    "start_time": "2022-12-26T18:35:12.312Z"
   },
   {
    "duration": 14,
    "start_time": "2022-12-26T18:35:21.224Z"
   },
   {
    "duration": 10,
    "start_time": "2022-12-26T18:35:26.249Z"
   },
   {
    "duration": 11,
    "start_time": "2022-12-26T18:35:39.684Z"
   },
   {
    "duration": 1639,
    "start_time": "2022-12-27T17:01:01.517Z"
   },
   {
    "duration": 4041,
    "start_time": "2022-12-27T17:01:03.158Z"
   },
   {
    "duration": 47,
    "start_time": "2022-12-27T17:01:07.201Z"
   },
   {
    "duration": 25,
    "start_time": "2022-12-27T17:01:07.250Z"
   },
   {
    "duration": 47,
    "start_time": "2022-12-27T17:01:07.277Z"
   },
   {
    "duration": 21,
    "start_time": "2022-12-27T17:01:07.326Z"
   },
   {
    "duration": 16,
    "start_time": "2022-12-27T17:01:07.349Z"
   },
   {
    "duration": 156,
    "start_time": "2022-12-27T17:01:07.367Z"
   },
   {
    "duration": 33,
    "start_time": "2022-12-27T17:01:07.526Z"
   },
   {
    "duration": 123,
    "start_time": "2022-12-27T17:01:07.563Z"
   },
   {
    "duration": 13,
    "start_time": "2022-12-27T17:01:07.688Z"
   },
   {
    "duration": 15,
    "start_time": "2022-12-27T17:01:07.704Z"
   },
   {
    "duration": 10,
    "start_time": "2022-12-27T17:01:07.720Z"
   },
   {
    "duration": 31,
    "start_time": "2022-12-27T17:01:07.732Z"
   },
   {
    "duration": 37,
    "start_time": "2022-12-27T17:01:07.765Z"
   },
   {
    "duration": 5,
    "start_time": "2022-12-27T17:01:07.804Z"
   },
   {
    "duration": 19,
    "start_time": "2022-12-27T17:01:07.811Z"
   },
   {
    "duration": 11,
    "start_time": "2022-12-27T17:01:07.832Z"
   },
   {
    "duration": 365,
    "start_time": "2022-12-27T17:10:44.156Z"
   },
   {
    "duration": 416,
    "start_time": "2022-12-27T17:11:04.436Z"
   },
   {
    "duration": 513,
    "start_time": "2022-12-27T17:11:43.746Z"
   },
   {
    "duration": 451,
    "start_time": "2022-12-27T17:12:47.362Z"
   },
   {
    "duration": 397,
    "start_time": "2022-12-27T17:18:51.553Z"
   },
   {
    "duration": 421,
    "start_time": "2022-12-27T17:20:11.857Z"
   },
   {
    "duration": 383,
    "start_time": "2022-12-27T17:20:18.989Z"
   },
   {
    "duration": 531,
    "start_time": "2022-12-27T17:21:59.667Z"
   },
   {
    "duration": 314,
    "start_time": "2022-12-27T18:21:57.264Z"
   },
   {
    "duration": 340,
    "start_time": "2022-12-27T18:22:50.923Z"
   },
   {
    "duration": 374,
    "start_time": "2022-12-27T18:31:26.950Z"
   },
   {
    "duration": 317,
    "start_time": "2022-12-27T18:31:58.129Z"
   },
   {
    "duration": 328,
    "start_time": "2022-12-27T18:32:10.054Z"
   },
   {
    "duration": 506,
    "start_time": "2022-12-27T18:51:26.257Z"
   },
   {
    "duration": 108,
    "start_time": "2022-12-27T19:22:31.474Z"
   },
   {
    "duration": 12,
    "start_time": "2022-12-27T19:22:42.278Z"
   },
   {
    "duration": 4,
    "start_time": "2022-12-27T19:22:46.819Z"
   },
   {
    "duration": 13,
    "start_time": "2022-12-27T19:22:57.246Z"
   },
   {
    "duration": 10,
    "start_time": "2022-12-27T19:30:42.628Z"
   },
   {
    "duration": 345,
    "start_time": "2022-12-27T19:35:56.892Z"
   },
   {
    "duration": 361,
    "start_time": "2022-12-27T19:38:58.313Z"
   },
   {
    "duration": 391,
    "start_time": "2022-12-27T19:39:57.383Z"
   },
   {
    "duration": 64,
    "start_time": "2022-12-27T19:54:30.329Z"
   },
   {
    "duration": 25,
    "start_time": "2022-12-27T19:56:31.693Z"
   },
   {
    "duration": 24,
    "start_time": "2022-12-27T19:57:47.068Z"
   },
   {
    "duration": 40,
    "start_time": "2022-12-27T20:04:05.307Z"
   },
   {
    "duration": 4,
    "start_time": "2022-12-27T20:10:35.269Z"
   },
   {
    "duration": 5,
    "start_time": "2022-12-27T20:10:40.677Z"
   },
   {
    "duration": 4,
    "start_time": "2022-12-27T20:10:59.313Z"
   },
   {
    "duration": 1477,
    "start_time": "2022-12-28T07:53:57.234Z"
   },
   {
    "duration": 3117,
    "start_time": "2022-12-28T07:53:58.713Z"
   },
   {
    "duration": 39,
    "start_time": "2022-12-28T07:54:01.832Z"
   },
   {
    "duration": 23,
    "start_time": "2022-12-28T07:54:01.873Z"
   },
   {
    "duration": 23,
    "start_time": "2022-12-28T07:54:01.897Z"
   },
   {
    "duration": 44,
    "start_time": "2022-12-28T07:54:01.922Z"
   },
   {
    "duration": 19,
    "start_time": "2022-12-28T07:54:01.968Z"
   },
   {
    "duration": 131,
    "start_time": "2022-12-28T07:54:01.989Z"
   },
   {
    "duration": 24,
    "start_time": "2022-12-28T07:54:03.375Z"
   },
   {
    "duration": 120,
    "start_time": "2022-12-28T07:54:06.298Z"
   },
   {
    "duration": 8,
    "start_time": "2022-12-28T07:54:06.718Z"
   },
   {
    "duration": 7,
    "start_time": "2022-12-28T07:54:07.413Z"
   },
   {
    "duration": 9,
    "start_time": "2022-12-28T07:54:07.998Z"
   },
   {
    "duration": 31,
    "start_time": "2022-12-28T07:54:09.891Z"
   },
   {
    "duration": 11,
    "start_time": "2022-12-28T07:54:14.802Z"
   },
   {
    "duration": 5,
    "start_time": "2022-12-28T07:54:15.185Z"
   },
   {
    "duration": 4,
    "start_time": "2022-12-28T07:54:17.518Z"
   },
   {
    "duration": 10,
    "start_time": "2022-12-28T07:54:19.110Z"
   },
   {
    "duration": 434,
    "start_time": "2022-12-28T07:54:21.638Z"
   },
   {
    "duration": 383,
    "start_time": "2022-12-28T07:54:22.074Z"
   },
   {
    "duration": 475,
    "start_time": "2022-12-28T07:54:22.458Z"
   },
   {
    "duration": 302,
    "start_time": "2022-12-28T07:54:38.102Z"
   },
   {
    "duration": 336,
    "start_time": "2022-12-28T07:54:40.895Z"
   },
   {
    "duration": 12,
    "start_time": "2022-12-28T07:54:44.745Z"
   },
   {
    "duration": 344,
    "start_time": "2022-12-28T07:54:45.174Z"
   },
   {
    "duration": 4,
    "start_time": "2022-12-28T07:54:59.402Z"
   },
   {
    "duration": 4,
    "start_time": "2022-12-28T07:55:16.909Z"
   },
   {
    "duration": 40,
    "start_time": "2022-12-28T07:55:19.255Z"
   },
   {
    "duration": 3,
    "start_time": "2022-12-28T07:55:21.118Z"
   },
   {
    "duration": 4,
    "start_time": "2022-12-28T07:55:22.126Z"
   },
   {
    "duration": 231,
    "start_time": "2022-12-28T08:07:43.002Z"
   },
   {
    "duration": 4,
    "start_time": "2022-12-28T08:07:50.438Z"
   },
   {
    "duration": 673,
    "start_time": "2022-12-28T08:07:50.610Z"
   },
   {
    "duration": 47,
    "start_time": "2022-12-28T08:07:51.285Z"
   },
   {
    "duration": 21,
    "start_time": "2022-12-28T08:07:51.334Z"
   },
   {
    "duration": 20,
    "start_time": "2022-12-28T08:07:51.357Z"
   },
   {
    "duration": 21,
    "start_time": "2022-12-28T08:07:51.486Z"
   },
   {
    "duration": 13,
    "start_time": "2022-12-28T08:07:52.485Z"
   },
   {
    "duration": 123,
    "start_time": "2022-12-28T08:07:57.070Z"
   },
   {
    "duration": 38,
    "start_time": "2022-12-28T08:07:57.309Z"
   },
   {
    "duration": 91,
    "start_time": "2022-12-28T08:07:58.496Z"
   },
   {
    "duration": 10,
    "start_time": "2022-12-28T08:07:58.733Z"
   },
   {
    "duration": 8,
    "start_time": "2022-12-28T08:07:59.406Z"
   },
   {
    "duration": 10,
    "start_time": "2022-12-28T08:08:02.341Z"
   },
   {
    "duration": 22,
    "start_time": "2022-12-28T08:08:03.903Z"
   },
   {
    "duration": 226,
    "start_time": "2022-12-28T08:08:04.495Z"
   },
   {
    "duration": 120,
    "start_time": "2022-12-28T08:11:27.501Z"
   },
   {
    "duration": 117,
    "start_time": "2022-12-28T08:11:27.645Z"
   },
   {
    "duration": 22,
    "start_time": "2022-12-28T08:11:27.784Z"
   },
   {
    "duration": 88,
    "start_time": "2022-12-28T08:11:27.917Z"
   },
   {
    "duration": 9,
    "start_time": "2022-12-28T08:11:28.062Z"
   },
   {
    "duration": 7,
    "start_time": "2022-12-28T08:11:28.205Z"
   },
   {
    "duration": 10,
    "start_time": "2022-12-28T08:11:28.341Z"
   },
   {
    "duration": 22,
    "start_time": "2022-12-28T08:11:28.497Z"
   },
   {
    "duration": 9,
    "start_time": "2022-12-28T08:11:28.930Z"
   },
   {
    "duration": 4,
    "start_time": "2022-12-28T08:11:29.078Z"
   },
   {
    "duration": 3,
    "start_time": "2022-12-28T08:11:29.699Z"
   },
   {
    "duration": 10,
    "start_time": "2022-12-28T08:11:29.985Z"
   },
   {
    "duration": 395,
    "start_time": "2022-12-28T08:11:30.934Z"
   },
   {
    "duration": 346,
    "start_time": "2022-12-28T08:11:31.331Z"
   },
   {
    "duration": 376,
    "start_time": "2022-12-28T08:11:31.678Z"
   },
   {
    "duration": 340,
    "start_time": "2022-12-28T08:11:32.056Z"
   },
   {
    "duration": 477,
    "start_time": "2022-12-28T08:11:32.398Z"
   },
   {
    "duration": 11,
    "start_time": "2022-12-28T08:11:32.877Z"
   },
   {
    "duration": 336,
    "start_time": "2022-12-28T08:11:34.396Z"
   },
   {
    "duration": 4,
    "start_time": "2022-12-28T08:11:35.134Z"
   },
   {
    "duration": 4,
    "start_time": "2022-12-28T08:11:35.614Z"
   },
   {
    "duration": 25,
    "start_time": "2022-12-28T08:11:37.614Z"
   },
   {
    "duration": 4,
    "start_time": "2022-12-28T08:11:37.750Z"
   },
   {
    "duration": 4,
    "start_time": "2022-12-28T08:11:37.901Z"
   },
   {
    "duration": 6,
    "start_time": "2022-12-28T08:29:27.621Z"
   },
   {
    "duration": 4,
    "start_time": "2022-12-28T08:29:38.053Z"
   },
   {
    "duration": 6,
    "start_time": "2022-12-28T08:37:45.745Z"
   },
   {
    "duration": 6,
    "start_time": "2022-12-28T08:45:49.097Z"
   },
   {
    "duration": 3,
    "start_time": "2022-12-28T08:46:08.473Z"
   },
   {
    "duration": 47,
    "start_time": "2022-12-28T09:29:11.727Z"
   },
   {
    "duration": 109,
    "start_time": "2022-12-28T09:29:58.447Z"
   },
   {
    "duration": 17,
    "start_time": "2022-12-28T09:30:53.870Z"
   },
   {
    "duration": 17,
    "start_time": "2022-12-28T09:32:44.315Z"
   },
   {
    "duration": 18,
    "start_time": "2022-12-28T09:33:22.823Z"
   },
   {
    "duration": 14,
    "start_time": "2022-12-28T09:34:01.555Z"
   },
   {
    "duration": 14,
    "start_time": "2022-12-28T09:34:11.279Z"
   },
   {
    "duration": 19,
    "start_time": "2022-12-28T09:36:00.507Z"
   },
   {
    "duration": 49,
    "start_time": "2022-12-28T09:41:43.355Z"
   },
   {
    "duration": 44,
    "start_time": "2022-12-28T09:42:26.275Z"
   },
   {
    "duration": 41,
    "start_time": "2022-12-28T09:43:19.522Z"
   },
   {
    "duration": 3,
    "start_time": "2022-12-28T10:19:36.766Z"
   },
   {
    "duration": 3,
    "start_time": "2022-12-28T10:20:53.348Z"
   },
   {
    "duration": 4,
    "start_time": "2022-12-28T10:23:05.357Z"
   },
   {
    "duration": 735,
    "start_time": "2022-12-28T10:23:05.530Z"
   },
   {
    "duration": 59,
    "start_time": "2022-12-28T10:23:06.267Z"
   },
   {
    "duration": 23,
    "start_time": "2022-12-28T10:23:06.328Z"
   },
   {
    "duration": 35,
    "start_time": "2022-12-28T10:23:06.354Z"
   },
   {
    "duration": 47,
    "start_time": "2022-12-28T10:23:06.391Z"
   },
   {
    "duration": 21,
    "start_time": "2022-12-28T10:23:06.512Z"
   },
   {
    "duration": 138,
    "start_time": "2022-12-28T10:23:06.664Z"
   },
   {
    "duration": 29,
    "start_time": "2022-12-28T10:23:06.807Z"
   },
   {
    "duration": 97,
    "start_time": "2022-12-28T10:23:06.968Z"
   },
   {
    "duration": 10,
    "start_time": "2022-12-28T10:23:07.128Z"
   },
   {
    "duration": 7,
    "start_time": "2022-12-28T10:23:07.280Z"
   },
   {
    "duration": 9,
    "start_time": "2022-12-28T10:23:07.440Z"
   },
   {
    "duration": 25,
    "start_time": "2022-12-28T10:23:07.581Z"
   },
   {
    "duration": 8,
    "start_time": "2022-12-28T10:23:08.045Z"
   },
   {
    "duration": 5,
    "start_time": "2022-12-28T10:23:08.198Z"
   },
   {
    "duration": 3,
    "start_time": "2022-12-28T10:23:08.856Z"
   },
   {
    "duration": 12,
    "start_time": "2022-12-28T10:23:09.183Z"
   },
   {
    "duration": 392,
    "start_time": "2022-12-28T10:23:09.863Z"
   },
   {
    "duration": 354,
    "start_time": "2022-12-28T10:23:10.332Z"
   },
   {
    "duration": 366,
    "start_time": "2022-12-28T10:23:10.688Z"
   },
   {
    "duration": 429,
    "start_time": "2022-12-28T10:23:11.056Z"
   },
   {
    "duration": 338,
    "start_time": "2022-12-28T10:23:11.487Z"
   },
   {
    "duration": 10,
    "start_time": "2022-12-28T10:23:11.827Z"
   },
   {
    "duration": 348,
    "start_time": "2022-12-28T10:23:11.838Z"
   },
   {
    "duration": 4,
    "start_time": "2022-12-28T10:23:12.189Z"
   },
   {
    "duration": 12,
    "start_time": "2022-12-28T10:23:12.194Z"
   },
   {
    "duration": 27,
    "start_time": "2022-12-28T10:23:12.280Z"
   },
   {
    "duration": 4,
    "start_time": "2022-12-28T10:23:12.448Z"
   },
   {
    "duration": 4,
    "start_time": "2022-12-28T10:23:12.629Z"
   },
   {
    "duration": 14,
    "start_time": "2022-12-28T10:23:13.548Z"
   },
   {
    "duration": 51,
    "start_time": "2022-12-28T10:23:13.776Z"
   },
   {
    "duration": 4,
    "start_time": "2022-12-28T10:23:14.826Z"
   },
   {
    "duration": 3,
    "start_time": "2022-12-28T10:23:15.248Z"
   },
   {
    "duration": 3,
    "start_time": "2022-12-28T10:41:23.174Z"
   },
   {
    "duration": 5,
    "start_time": "2022-12-28T10:51:06.025Z"
   },
   {
    "duration": 4,
    "start_time": "2022-12-28T10:54:05.302Z"
   },
   {
    "duration": 2498,
    "start_time": "2022-12-28T10:58:55.133Z"
   },
   {
    "duration": 2075,
    "start_time": "2022-12-28T11:05:03.758Z"
   },
   {
    "duration": 2616,
    "start_time": "2022-12-28T11:06:12.219Z"
   },
   {
    "duration": 4,
    "start_time": "2022-12-28T11:10:13.873Z"
   },
   {
    "duration": 45,
    "start_time": "2022-12-28T11:22:25.844Z"
   },
   {
    "duration": 23044,
    "start_time": "2022-12-28T11:22:37.520Z"
   },
   {
    "duration": 23351,
    "start_time": "2022-12-28T11:27:13.236Z"
   },
   {
    "duration": 11,
    "start_time": "2022-12-28T13:20:24.047Z"
   },
   {
    "duration": 1406,
    "start_time": "2022-12-28T15:12:15.884Z"
   },
   {
    "duration": 734,
    "start_time": "2022-12-28T15:12:20.296Z"
   },
   {
    "duration": 46,
    "start_time": "2022-12-28T15:12:21.600Z"
   },
   {
    "duration": 23,
    "start_time": "2022-12-28T15:12:22.680Z"
   },
   {
    "duration": 19,
    "start_time": "2022-12-28T15:12:24.376Z"
   },
   {
    "duration": 31,
    "start_time": "2022-12-28T15:12:24.728Z"
   },
   {
    "duration": 22,
    "start_time": "2022-12-28T15:12:26.841Z"
   },
   {
    "duration": 125,
    "start_time": "2022-12-28T15:12:28.416Z"
   },
   {
    "duration": 27,
    "start_time": "2022-12-28T15:12:28.583Z"
   },
   {
    "duration": 99,
    "start_time": "2022-12-28T15:12:28.873Z"
   },
   {
    "duration": 8,
    "start_time": "2022-12-28T15:12:29.024Z"
   },
   {
    "duration": 6,
    "start_time": "2022-12-28T15:12:29.189Z"
   },
   {
    "duration": 11,
    "start_time": "2022-12-28T15:12:29.312Z"
   },
   {
    "duration": 29,
    "start_time": "2022-12-28T15:12:29.488Z"
   },
   {
    "duration": 9,
    "start_time": "2022-12-28T15:12:31.686Z"
   },
   {
    "duration": 5,
    "start_time": "2022-12-28T15:12:31.970Z"
   },
   {
    "duration": 4,
    "start_time": "2022-12-28T15:12:32.592Z"
   },
   {
    "duration": 11,
    "start_time": "2022-12-28T15:12:33.073Z"
   },
   {
    "duration": 413,
    "start_time": "2022-12-28T15:12:34.288Z"
   },
   {
    "duration": 406,
    "start_time": "2022-12-28T15:12:34.703Z"
   },
   {
    "duration": 564,
    "start_time": "2022-12-28T15:12:36.200Z"
   },
   {
    "duration": 349,
    "start_time": "2022-12-28T15:12:36.844Z"
   },
   {
    "duration": 396,
    "start_time": "2022-12-28T15:12:37.195Z"
   },
   {
    "duration": 13,
    "start_time": "2022-12-28T15:12:40.203Z"
   },
   {
    "duration": 354,
    "start_time": "2022-12-28T15:12:40.373Z"
   },
   {
    "duration": 5,
    "start_time": "2022-12-28T15:12:43.468Z"
   },
   {
    "duration": 6,
    "start_time": "2022-12-28T15:12:43.633Z"
   },
   {
    "duration": 43,
    "start_time": "2022-12-28T15:12:43.796Z"
   },
   {
    "duration": 4,
    "start_time": "2022-12-28T15:12:45.969Z"
   },
   {
    "duration": 4,
    "start_time": "2022-12-28T15:12:46.132Z"
   },
   {
    "duration": 20,
    "start_time": "2022-12-28T15:12:47.995Z"
   },
   {
    "duration": 54,
    "start_time": "2022-12-28T15:12:48.178Z"
   },
   {
    "duration": 5,
    "start_time": "2022-12-28T15:12:50.388Z"
   },
   {
    "duration": 3,
    "start_time": "2022-12-28T15:12:50.887Z"
   },
   {
    "duration": 3,
    "start_time": "2022-12-28T15:12:52.741Z"
   },
   {
    "duration": 1505,
    "start_time": "2022-12-28T15:12:53.308Z"
   },
   {
    "duration": 1396,
    "start_time": "2022-12-28T15:12:54.820Z"
   },
   {
    "duration": 5,
    "start_time": "2022-12-28T15:12:56.217Z"
   },
   {
    "duration": 22763,
    "start_time": "2022-12-28T15:13:01.700Z"
   },
   {
    "duration": 1489,
    "start_time": "2022-12-28T15:46:12.197Z"
   },
   {
    "duration": 3179,
    "start_time": "2022-12-28T15:46:13.688Z"
   },
   {
    "duration": 41,
    "start_time": "2022-12-28T15:46:17.635Z"
   },
   {
    "duration": 24,
    "start_time": "2022-12-28T15:46:19.970Z"
   },
   {
    "duration": 22,
    "start_time": "2022-12-28T15:46:20.145Z"
   },
   {
    "duration": 19,
    "start_time": "2022-12-28T15:46:20.326Z"
   },
   {
    "duration": 11,
    "start_time": "2022-12-28T15:46:20.682Z"
   },
   {
    "duration": 116,
    "start_time": "2022-12-28T15:46:20.842Z"
   },
   {
    "duration": 22,
    "start_time": "2022-12-28T15:46:20.985Z"
   },
   {
    "duration": 95,
    "start_time": "2022-12-28T15:46:21.137Z"
   },
   {
    "duration": 8,
    "start_time": "2022-12-28T15:46:21.450Z"
   },
   {
    "duration": 7,
    "start_time": "2022-12-28T15:46:21.635Z"
   },
   {
    "duration": 10,
    "start_time": "2022-12-28T15:46:21.777Z"
   },
   {
    "duration": 31,
    "start_time": "2022-12-28T15:46:21.941Z"
   },
   {
    "duration": 9,
    "start_time": "2022-12-28T15:46:22.469Z"
   },
   {
    "duration": 6,
    "start_time": "2022-12-28T15:46:24.809Z"
   },
   {
    "duration": 5,
    "start_time": "2022-12-28T15:46:25.528Z"
   },
   {
    "duration": 10,
    "start_time": "2022-12-28T15:46:26.002Z"
   },
   {
    "duration": 364,
    "start_time": "2022-12-28T15:46:26.642Z"
   },
   {
    "duration": 354,
    "start_time": "2022-12-28T15:46:27.008Z"
   },
   {
    "duration": 483,
    "start_time": "2022-12-28T15:46:28.214Z"
   },
   {
    "duration": 311,
    "start_time": "2022-12-28T15:46:28.950Z"
   },
   {
    "duration": 352,
    "start_time": "2022-12-28T15:46:29.263Z"
   },
   {
    "duration": 11,
    "start_time": "2022-12-28T15:46:29.617Z"
   },
   {
    "duration": 346,
    "start_time": "2022-12-28T15:46:29.690Z"
   },
   {
    "duration": 4,
    "start_time": "2022-12-28T15:46:30.038Z"
   },
   {
    "duration": 3,
    "start_time": "2022-12-28T15:46:30.133Z"
   },
   {
    "duration": 26,
    "start_time": "2022-12-28T15:46:30.269Z"
   },
   {
    "duration": 4,
    "start_time": "2022-12-28T15:46:30.590Z"
   },
   {
    "duration": 20,
    "start_time": "2022-12-28T15:46:31.550Z"
   },
   {
    "duration": 48,
    "start_time": "2022-12-28T15:46:31.710Z"
   },
   {
    "duration": 4,
    "start_time": "2022-12-28T15:46:34.889Z"
   },
   {
    "duration": 4,
    "start_time": "2022-12-28T15:46:35.066Z"
   },
   {
    "duration": 3,
    "start_time": "2022-12-28T15:46:35.542Z"
   },
   {
    "duration": 1410,
    "start_time": "2022-12-28T15:46:36.270Z"
   },
   {
    "duration": 1506,
    "start_time": "2022-12-28T15:46:37.682Z"
   },
   {
    "duration": 4,
    "start_time": "2022-12-28T15:46:39.280Z"
   },
   {
    "duration": 23273,
    "start_time": "2022-12-28T15:46:39.287Z"
   },
   {
    "duration": 60,
    "start_time": "2022-12-28T15:47:08.282Z"
   },
   {
    "duration": 102,
    "start_time": "2022-12-28T15:47:24.402Z"
   },
   {
    "duration": 0,
    "start_time": "2022-12-28T16:05:37.838Z"
   },
   {
    "duration": 1408,
    "start_time": "2022-12-28T16:25:10.442Z"
   },
   {
    "duration": 942,
    "start_time": "2022-12-28T16:25:12.541Z"
   },
   {
    "duration": 47,
    "start_time": "2022-12-28T16:25:14.002Z"
   },
   {
    "duration": 37,
    "start_time": "2022-12-28T16:25:15.805Z"
   },
   {
    "duration": 32,
    "start_time": "2022-12-28T16:25:15.954Z"
   },
   {
    "duration": 20,
    "start_time": "2022-12-28T16:25:16.107Z"
   },
   {
    "duration": 13,
    "start_time": "2022-12-28T16:25:16.421Z"
   },
   {
    "duration": 149,
    "start_time": "2022-12-28T16:25:16.574Z"
   },
   {
    "duration": 23,
    "start_time": "2022-12-28T16:25:16.726Z"
   },
   {
    "duration": 121,
    "start_time": "2022-12-28T16:25:16.861Z"
   },
   {
    "duration": 10,
    "start_time": "2022-12-28T16:25:17.029Z"
   },
   {
    "duration": 9,
    "start_time": "2022-12-28T16:25:17.200Z"
   },
   {
    "duration": 10,
    "start_time": "2022-12-28T16:25:17.334Z"
   },
   {
    "duration": 35,
    "start_time": "2022-12-28T16:25:17.502Z"
   },
   {
    "duration": 10,
    "start_time": "2022-12-28T16:25:18.506Z"
   },
   {
    "duration": 5,
    "start_time": "2022-12-28T16:25:18.662Z"
   },
   {
    "duration": 5,
    "start_time": "2022-12-28T16:25:19.305Z"
   },
   {
    "duration": 11,
    "start_time": "2022-12-28T16:25:19.604Z"
   },
   {
    "duration": 463,
    "start_time": "2022-12-28T16:25:20.275Z"
   },
   {
    "duration": 439,
    "start_time": "2022-12-28T16:25:20.741Z"
   },
   {
    "duration": 519,
    "start_time": "2022-12-28T16:25:21.182Z"
   },
   {
    "duration": 408,
    "start_time": "2022-12-28T16:25:21.704Z"
   },
   {
    "duration": 414,
    "start_time": "2022-12-28T16:25:22.114Z"
   },
   {
    "duration": 10,
    "start_time": "2022-12-28T16:25:22.530Z"
   },
   {
    "duration": 442,
    "start_time": "2022-12-28T16:25:22.542Z"
   },
   {
    "duration": 5,
    "start_time": "2022-12-28T16:25:22.987Z"
   },
   {
    "duration": 3,
    "start_time": "2022-12-28T16:25:23.170Z"
   },
   {
    "duration": 18,
    "start_time": "2022-12-28T16:25:23.934Z"
   },
   {
    "duration": 6,
    "start_time": "2022-12-28T16:25:27.706Z"
   },
   {
    "duration": 31,
    "start_time": "2022-12-28T16:25:35.194Z"
   },
   {
    "duration": 67,
    "start_time": "2022-12-28T16:25:35.378Z"
   },
   {
    "duration": 4,
    "start_time": "2022-12-28T16:25:39.809Z"
   },
   {
    "duration": 3,
    "start_time": "2022-12-28T16:25:41.274Z"
   },
   {
    "duration": 2,
    "start_time": "2022-12-28T16:25:43.826Z"
   },
   {
    "duration": 2635,
    "start_time": "2022-12-28T16:25:44.446Z"
   },
   {
    "duration": 2398,
    "start_time": "2022-12-28T16:25:47.085Z"
   },
   {
    "duration": 5,
    "start_time": "2022-12-28T16:25:49.485Z"
   },
   {
    "duration": 28289,
    "start_time": "2022-12-28T16:25:49.494Z"
   },
   {
    "duration": 5,
    "start_time": "2022-12-28T16:26:31.303Z"
   },
   {
    "duration": 14,
    "start_time": "2022-12-28T17:21:34.685Z"
   },
   {
    "duration": 1430,
    "start_time": "2022-12-28T17:22:54.910Z"
   },
   {
    "duration": 762,
    "start_time": "2022-12-28T17:22:56.342Z"
   },
   {
    "duration": 5,
    "start_time": "2022-12-28T17:22:59.555Z"
   },
   {
    "duration": 765,
    "start_time": "2022-12-28T17:23:00.188Z"
   },
   {
    "duration": 53,
    "start_time": "2022-12-28T17:23:00.955Z"
   },
   {
    "duration": 23,
    "start_time": "2022-12-28T17:23:01.009Z"
   },
   {
    "duration": 21,
    "start_time": "2022-12-28T17:23:01.045Z"
   },
   {
    "duration": 21,
    "start_time": "2022-12-28T17:23:01.190Z"
   },
   {
    "duration": 15,
    "start_time": "2022-12-28T17:23:01.553Z"
   },
   {
    "duration": 140,
    "start_time": "2022-12-28T17:23:01.714Z"
   },
   {
    "duration": 25,
    "start_time": "2022-12-28T17:23:01.890Z"
   },
   {
    "duration": 99,
    "start_time": "2022-12-28T17:23:02.074Z"
   },
   {
    "duration": 8,
    "start_time": "2022-12-28T17:23:02.330Z"
   },
   {
    "duration": 7,
    "start_time": "2022-12-28T17:23:02.555Z"
   },
   {
    "duration": 16,
    "start_time": "2022-12-28T17:23:02.978Z"
   },
   {
    "duration": 31,
    "start_time": "2022-12-28T17:23:03.270Z"
   },
   {
    "duration": 9,
    "start_time": "2022-12-28T17:23:04.298Z"
   },
   {
    "duration": 5,
    "start_time": "2022-12-28T17:23:04.458Z"
   },
   {
    "duration": 4,
    "start_time": "2022-12-28T17:23:05.093Z"
   },
   {
    "duration": 13,
    "start_time": "2022-12-28T17:23:05.411Z"
   },
   {
    "duration": 386,
    "start_time": "2022-12-28T17:23:06.071Z"
   },
   {
    "duration": 399,
    "start_time": "2022-12-28T17:23:06.459Z"
   },
   {
    "duration": 490,
    "start_time": "2022-12-28T17:23:06.860Z"
   },
   {
    "duration": 363,
    "start_time": "2022-12-28T17:23:07.352Z"
   },
   {
    "duration": 380,
    "start_time": "2022-12-28T17:23:07.717Z"
   },
   {
    "duration": 10,
    "start_time": "2022-12-28T17:23:08.099Z"
   },
   {
    "duration": 393,
    "start_time": "2022-12-28T17:23:08.111Z"
   },
   {
    "duration": 4,
    "start_time": "2022-12-28T17:23:08.507Z"
   },
   {
    "duration": 9,
    "start_time": "2022-12-28T17:23:08.513Z"
   },
   {
    "duration": 17,
    "start_time": "2022-12-28T17:23:08.754Z"
   },
   {
    "duration": 4,
    "start_time": "2022-12-28T17:23:08.894Z"
   },
   {
    "duration": 18,
    "start_time": "2022-12-28T17:23:09.990Z"
   },
   {
    "duration": 51,
    "start_time": "2022-12-28T17:23:10.166Z"
   },
   {
    "duration": 3,
    "start_time": "2022-12-28T17:23:10.694Z"
   },
   {
    "duration": 3,
    "start_time": "2022-12-28T17:23:10.870Z"
   },
   {
    "duration": 3,
    "start_time": "2022-12-28T17:23:11.214Z"
   },
   {
    "duration": 1713,
    "start_time": "2022-12-28T17:23:11.566Z"
   },
   {
    "duration": 2400,
    "start_time": "2022-12-28T17:23:13.284Z"
   },
   {
    "duration": 10,
    "start_time": "2022-12-28T17:23:15.687Z"
   },
   {
    "duration": 26075,
    "start_time": "2022-12-28T17:23:15.699Z"
   },
   {
    "duration": 54,
    "start_time": "2022-12-28T17:31:23.441Z"
   },
   {
    "duration": 1267,
    "start_time": "2022-12-28T17:31:51.337Z"
   },
   {
    "duration": 734,
    "start_time": "2022-12-28T17:31:52.607Z"
   },
   {
    "duration": 44,
    "start_time": "2022-12-28T17:31:53.861Z"
   },
   {
    "duration": 25,
    "start_time": "2022-12-28T17:31:54.033Z"
   },
   {
    "duration": 21,
    "start_time": "2022-12-28T17:31:54.213Z"
   },
   {
    "duration": 21,
    "start_time": "2022-12-28T17:31:54.391Z"
   },
   {
    "duration": 22,
    "start_time": "2022-12-28T17:31:54.686Z"
   },
   {
    "duration": 140,
    "start_time": "2022-12-28T17:31:54.812Z"
   },
   {
    "duration": 30,
    "start_time": "2022-12-28T17:31:54.997Z"
   },
   {
    "duration": 121,
    "start_time": "2022-12-28T17:31:55.132Z"
   },
   {
    "duration": 10,
    "start_time": "2022-12-28T17:31:55.292Z"
   },
   {
    "duration": 7,
    "start_time": "2022-12-28T17:31:55.464Z"
   },
   {
    "duration": 10,
    "start_time": "2022-12-28T17:31:55.636Z"
   },
   {
    "duration": 28,
    "start_time": "2022-12-28T17:31:55.816Z"
   },
   {
    "duration": 9,
    "start_time": "2022-12-28T17:31:56.304Z"
   },
   {
    "duration": 5,
    "start_time": "2022-12-28T17:31:56.452Z"
   },
   {
    "duration": 5,
    "start_time": "2022-12-28T17:31:57.060Z"
   },
   {
    "duration": 11,
    "start_time": "2022-12-28T17:31:57.428Z"
   },
   {
    "duration": 412,
    "start_time": "2022-12-28T17:31:58.156Z"
   },
   {
    "duration": 383,
    "start_time": "2022-12-28T17:31:58.570Z"
   },
   {
    "duration": 469,
    "start_time": "2022-12-28T17:31:58.954Z"
   },
   {
    "duration": 372,
    "start_time": "2022-12-28T17:31:59.425Z"
   },
   {
    "duration": 355,
    "start_time": "2022-12-28T17:31:59.799Z"
   },
   {
    "duration": 20,
    "start_time": "2022-12-28T17:32:00.157Z"
   },
   {
    "duration": 422,
    "start_time": "2022-12-28T17:32:00.178Z"
   },
   {
    "duration": 4,
    "start_time": "2022-12-28T17:32:00.603Z"
   },
   {
    "duration": 26,
    "start_time": "2022-12-28T17:32:00.609Z"
   },
   {
    "duration": 25,
    "start_time": "2022-12-28T17:32:00.729Z"
   },
   {
    "duration": 5,
    "start_time": "2022-12-28T17:32:00.894Z"
   },
   {
    "duration": 21,
    "start_time": "2022-12-28T17:32:02.001Z"
   },
   {
    "duration": 52,
    "start_time": "2022-12-28T17:32:02.193Z"
   },
   {
    "duration": 3,
    "start_time": "2022-12-28T17:32:02.805Z"
   },
   {
    "duration": 3,
    "start_time": "2022-12-28T17:32:03.021Z"
   },
   {
    "duration": 4,
    "start_time": "2022-12-28T17:32:03.591Z"
   },
   {
    "duration": 2045,
    "start_time": "2022-12-28T17:32:04.140Z"
   },
   {
    "duration": 2391,
    "start_time": "2022-12-28T17:32:06.193Z"
   },
   {
    "duration": 6,
    "start_time": "2022-12-28T17:32:08.589Z"
   },
   {
    "duration": 24672,
    "start_time": "2022-12-28T17:32:08.682Z"
   },
   {
    "duration": 1374,
    "start_time": "2022-12-28T17:40:00.939Z"
   },
   {
    "duration": 773,
    "start_time": "2022-12-28T17:40:02.314Z"
   },
   {
    "duration": 40,
    "start_time": "2022-12-28T17:40:03.093Z"
   },
   {
    "duration": 23,
    "start_time": "2022-12-28T17:40:03.135Z"
   },
   {
    "duration": 33,
    "start_time": "2022-12-28T17:40:03.160Z"
   },
   {
    "duration": 55,
    "start_time": "2022-12-28T17:40:03.195Z"
   },
   {
    "duration": 14,
    "start_time": "2022-12-28T17:40:03.252Z"
   },
   {
    "duration": 145,
    "start_time": "2022-12-28T17:40:03.268Z"
   },
   {
    "duration": 24,
    "start_time": "2022-12-28T17:40:03.415Z"
   },
   {
    "duration": 145,
    "start_time": "2022-12-28T17:40:03.442Z"
   },
   {
    "duration": 10,
    "start_time": "2022-12-28T17:40:03.589Z"
   },
   {
    "duration": 8,
    "start_time": "2022-12-28T17:40:03.601Z"
   },
   {
    "duration": 111,
    "start_time": "2022-12-28T17:40:03.611Z"
   },
   {
    "duration": 70,
    "start_time": "2022-12-28T17:40:03.724Z"
   },
   {
    "duration": 30,
    "start_time": "2022-12-28T17:40:03.795Z"
   },
   {
    "duration": 5,
    "start_time": "2022-12-28T17:40:03.826Z"
   },
   {
    "duration": 29,
    "start_time": "2022-12-28T17:40:03.833Z"
   },
   {
    "duration": 22,
    "start_time": "2022-12-28T17:40:03.864Z"
   },
   {
    "duration": 450,
    "start_time": "2022-12-28T17:40:03.888Z"
   },
   {
    "duration": 402,
    "start_time": "2022-12-28T17:40:04.340Z"
   },
   {
    "duration": 639,
    "start_time": "2022-12-28T17:40:04.744Z"
   },
   {
    "duration": 403,
    "start_time": "2022-12-28T17:40:05.393Z"
   },
   {
    "duration": 413,
    "start_time": "2022-12-28T17:40:05.798Z"
   },
   {
    "duration": 12,
    "start_time": "2022-12-28T17:40:06.213Z"
   },
   {
    "duration": 379,
    "start_time": "2022-12-28T17:40:06.226Z"
   },
   {
    "duration": 4,
    "start_time": "2022-12-28T17:40:06.606Z"
   },
   {
    "duration": 8,
    "start_time": "2022-12-28T17:40:06.611Z"
   },
   {
    "duration": 18,
    "start_time": "2022-12-28T17:40:06.622Z"
   },
   {
    "duration": 4,
    "start_time": "2022-12-28T17:40:06.641Z"
   },
   {
    "duration": 48,
    "start_time": "2022-12-28T17:40:06.646Z"
   },
   {
    "duration": 62,
    "start_time": "2022-12-28T17:40:06.696Z"
   },
   {
    "duration": 4,
    "start_time": "2022-12-28T17:40:06.760Z"
   },
   {
    "duration": 16,
    "start_time": "2022-12-28T17:40:06.766Z"
   },
   {
    "duration": 20,
    "start_time": "2022-12-28T17:40:06.784Z"
   },
   {
    "duration": 2192,
    "start_time": "2022-12-28T17:40:06.805Z"
   },
   {
    "duration": 2281,
    "start_time": "2022-12-28T17:40:08.999Z"
   },
   {
    "duration": 6,
    "start_time": "2022-12-28T17:40:11.287Z"
   },
   {
    "duration": 24304,
    "start_time": "2022-12-28T17:40:11.295Z"
   },
   {
    "duration": 1323,
    "start_time": "2022-12-28T17:57:06.578Z"
   },
   {
    "duration": 760,
    "start_time": "2022-12-28T17:57:07.903Z"
   },
   {
    "duration": 54,
    "start_time": "2022-12-28T17:57:08.665Z"
   },
   {
    "duration": 31,
    "start_time": "2022-12-28T17:57:08.721Z"
   },
   {
    "duration": 50,
    "start_time": "2022-12-28T17:57:08.754Z"
   },
   {
    "duration": 22,
    "start_time": "2022-12-28T17:57:08.805Z"
   },
   {
    "duration": 14,
    "start_time": "2022-12-28T17:57:08.829Z"
   },
   {
    "duration": 166,
    "start_time": "2022-12-28T17:57:08.845Z"
   },
   {
    "duration": 25,
    "start_time": "2022-12-28T17:57:09.013Z"
   },
   {
    "duration": 122,
    "start_time": "2022-12-28T17:57:09.041Z"
   },
   {
    "duration": 20,
    "start_time": "2022-12-28T17:57:09.165Z"
   },
   {
    "duration": 14,
    "start_time": "2022-12-28T17:57:09.186Z"
   },
   {
    "duration": 19,
    "start_time": "2022-12-28T17:57:09.202Z"
   },
   {
    "duration": 35,
    "start_time": "2022-12-28T17:57:09.223Z"
   },
   {
    "duration": 8,
    "start_time": "2022-12-28T17:57:09.260Z"
   },
   {
    "duration": 9,
    "start_time": "2022-12-28T17:57:09.270Z"
   },
   {
    "duration": 19,
    "start_time": "2022-12-28T17:57:09.289Z"
   },
   {
    "duration": 17,
    "start_time": "2022-12-28T17:57:09.309Z"
   },
   {
    "duration": 406,
    "start_time": "2022-12-28T17:57:09.328Z"
   },
   {
    "duration": 384,
    "start_time": "2022-12-28T17:57:09.735Z"
   },
   {
    "duration": 482,
    "start_time": "2022-12-28T17:57:10.120Z"
   },
   {
    "duration": 325,
    "start_time": "2022-12-28T17:57:10.604Z"
   },
   {
    "duration": 357,
    "start_time": "2022-12-28T17:57:10.931Z"
   },
   {
    "duration": 11,
    "start_time": "2022-12-28T17:57:11.290Z"
   },
   {
    "duration": 380,
    "start_time": "2022-12-28T17:57:11.303Z"
   },
   {
    "duration": 4,
    "start_time": "2022-12-28T17:57:11.690Z"
   },
   {
    "duration": 8,
    "start_time": "2022-12-28T17:57:11.696Z"
   },
   {
    "duration": 23,
    "start_time": "2022-12-28T17:57:11.707Z"
   },
   {
    "duration": 3,
    "start_time": "2022-12-28T17:57:11.732Z"
   },
   {
    "duration": 26,
    "start_time": "2022-12-28T17:57:11.737Z"
   },
   {
    "duration": 65,
    "start_time": "2022-12-28T17:57:11.765Z"
   },
   {
    "duration": 3,
    "start_time": "2022-12-28T17:57:11.832Z"
   },
   {
    "duration": 14,
    "start_time": "2022-12-28T17:57:11.837Z"
   },
   {
    "duration": 12,
    "start_time": "2022-12-28T17:57:11.853Z"
   },
   {
    "duration": 2017,
    "start_time": "2022-12-28T17:57:11.866Z"
   },
   {
    "duration": 2396,
    "start_time": "2022-12-28T17:57:13.891Z"
   },
   {
    "duration": 5,
    "start_time": "2022-12-28T17:57:16.292Z"
   },
   {
    "duration": 25034,
    "start_time": "2022-12-28T17:57:16.298Z"
   },
   {
    "duration": 1341928,
    "start_time": "2022-12-28T17:57:41.334Z"
   },
   {
    "duration": 1364645,
    "start_time": "2022-12-28T18:20:03.263Z"
   },
   {
    "duration": 77,
    "start_time": "2022-12-28T18:43:16.233Z"
   },
   {
    "duration": 112757,
    "start_time": "2022-12-28T18:43:28.105Z"
   },
   {
    "duration": 9894,
    "start_time": "2022-12-28T18:52:42.394Z"
   },
   {
    "duration": 9,
    "start_time": "2022-12-28T19:05:21.034Z"
   },
   {
    "duration": 3603,
    "start_time": "2022-12-29T10:28:41.012Z"
   },
   {
    "duration": 761,
    "start_time": "2022-12-29T10:28:44.617Z"
   },
   {
    "duration": 43,
    "start_time": "2022-12-29T10:28:45.380Z"
   },
   {
    "duration": 49,
    "start_time": "2022-12-29T10:28:45.425Z"
   },
   {
    "duration": 22,
    "start_time": "2022-12-29T10:28:45.476Z"
   },
   {
    "duration": 39,
    "start_time": "2022-12-29T10:28:45.500Z"
   },
   {
    "duration": 27,
    "start_time": "2022-12-29T10:28:45.541Z"
   },
   {
    "duration": 144,
    "start_time": "2022-12-29T10:28:45.570Z"
   },
   {
    "duration": 25,
    "start_time": "2022-12-29T10:28:45.716Z"
   },
   {
    "duration": 109,
    "start_time": "2022-12-29T10:28:45.751Z"
   },
   {
    "duration": 8,
    "start_time": "2022-12-29T10:28:45.862Z"
   },
   {
    "duration": 32,
    "start_time": "2022-12-29T10:28:45.872Z"
   },
   {
    "duration": 27,
    "start_time": "2022-12-29T10:28:45.905Z"
   },
   {
    "duration": 45,
    "start_time": "2022-12-29T10:28:45.936Z"
   },
   {
    "duration": 11,
    "start_time": "2022-12-29T10:28:45.983Z"
   },
   {
    "duration": 8,
    "start_time": "2022-12-29T10:28:45.996Z"
   },
   {
    "duration": 26,
    "start_time": "2022-12-29T10:28:46.006Z"
   },
   {
    "duration": 35,
    "start_time": "2022-12-29T10:28:46.033Z"
   },
   {
    "duration": 447,
    "start_time": "2022-12-29T10:28:46.070Z"
   },
   {
    "duration": 411,
    "start_time": "2022-12-29T10:28:46.519Z"
   },
   {
    "duration": 497,
    "start_time": "2022-12-29T10:28:46.932Z"
   },
   {
    "duration": 341,
    "start_time": "2022-12-29T10:28:47.431Z"
   },
   {
    "duration": 379,
    "start_time": "2022-12-29T10:28:47.774Z"
   },
   {
    "duration": 12,
    "start_time": "2022-12-29T10:28:48.155Z"
   },
   {
    "duration": 378,
    "start_time": "2022-12-29T10:28:48.169Z"
   },
   {
    "duration": 4,
    "start_time": "2022-12-29T10:28:48.551Z"
   },
   {
    "duration": 9,
    "start_time": "2022-12-29T10:28:48.557Z"
   },
   {
    "duration": 23,
    "start_time": "2022-12-29T10:28:48.568Z"
   },
   {
    "duration": 4,
    "start_time": "2022-12-29T10:28:48.592Z"
   },
   {
    "duration": 26,
    "start_time": "2022-12-29T10:28:48.598Z"
   },
   {
    "duration": 36,
    "start_time": "2022-12-29T10:28:48.626Z"
   },
   {
    "duration": 24,
    "start_time": "2022-12-29T10:29:47.665Z"
   },
   {
    "duration": 23,
    "start_time": "2022-12-29T10:30:53.835Z"
   },
   {
    "duration": 1703,
    "start_time": "2022-12-29T13:28:08.381Z"
   },
   {
    "duration": 1980,
    "start_time": "2022-12-29T13:28:10.086Z"
   },
   {
    "duration": 52,
    "start_time": "2022-12-29T13:28:12.068Z"
   },
   {
    "duration": 27,
    "start_time": "2022-12-29T13:28:12.122Z"
   },
   {
    "duration": 38,
    "start_time": "2022-12-29T13:28:12.151Z"
   },
   {
    "duration": 60,
    "start_time": "2022-12-29T13:28:12.191Z"
   },
   {
    "duration": 13,
    "start_time": "2022-12-29T13:28:12.633Z"
   },
   {
    "duration": 125,
    "start_time": "2022-12-29T13:28:12.805Z"
   },
   {
    "duration": 24,
    "start_time": "2022-12-29T13:28:13.505Z"
   },
   {
    "duration": 102,
    "start_time": "2022-12-29T13:28:13.701Z"
   },
   {
    "duration": 9,
    "start_time": "2022-12-29T13:28:13.869Z"
   },
   {
    "duration": 7,
    "start_time": "2022-12-29T13:28:14.013Z"
   },
   {
    "duration": 11,
    "start_time": "2022-12-29T13:28:14.166Z"
   },
   {
    "duration": 31,
    "start_time": "2022-12-29T13:28:15.713Z"
   },
   {
    "duration": 10,
    "start_time": "2022-12-29T13:28:16.365Z"
   },
   {
    "duration": 5,
    "start_time": "2022-12-29T13:28:16.745Z"
   },
   {
    "duration": 4,
    "start_time": "2022-12-29T13:28:18.049Z"
   },
   {
    "duration": 11,
    "start_time": "2022-12-29T13:28:23.065Z"
   },
   {
    "duration": 438,
    "start_time": "2022-12-29T13:28:26.233Z"
   },
   {
    "duration": 407,
    "start_time": "2022-12-29T13:28:26.673Z"
   },
   {
    "duration": 493,
    "start_time": "2022-12-29T13:28:27.081Z"
   },
   {
    "duration": 372,
    "start_time": "2022-12-29T13:28:43.333Z"
   },
   {
    "duration": 4,
    "start_time": "2022-12-29T13:29:15.065Z"
   },
   {
    "duration": 12,
    "start_time": "2022-12-29T13:29:30.673Z"
   },
   {
    "duration": 379,
    "start_time": "2022-12-29T13:29:31.061Z"
   },
   {
    "duration": 23,
    "start_time": "2022-12-29T13:30:58.161Z"
   },
   {
    "duration": 17,
    "start_time": "2022-12-29T13:31:00.509Z"
   },
   {
    "duration": 5,
    "start_time": "2022-12-29T13:32:27.709Z"
   },
   {
    "duration": 18,
    "start_time": "2022-12-29T13:33:46.253Z"
   },
   {
    "duration": 33,
    "start_time": "2022-12-29T13:34:24.509Z"
   },
   {
    "duration": 30,
    "start_time": "2022-12-29T13:37:31.636Z"
   },
   {
    "duration": 4,
    "start_time": "2022-12-29T13:53:40.659Z"
   },
   {
    "duration": 4,
    "start_time": "2022-12-29T13:53:41.315Z"
   },
   {
    "duration": 3,
    "start_time": "2022-12-29T13:53:46.115Z"
   },
   {
    "duration": 1325,
    "start_time": "2022-12-29T13:54:42.435Z"
   },
   {
    "duration": 956,
    "start_time": "2022-12-29T13:55:10.503Z"
   },
   {
    "duration": 5,
    "start_time": "2022-12-29T13:55:17.079Z"
   },
   {
    "duration": 1791,
    "start_time": "2022-12-29T13:55:46.174Z"
   },
   {
    "duration": 1608,
    "start_time": "2022-12-29T13:57:15.751Z"
   },
   {
    "duration": 1500,
    "start_time": "2022-12-29T13:57:17.363Z"
   },
   {
    "duration": 91,
    "start_time": "2022-12-29T13:57:18.865Z"
   },
   {
    "duration": 470,
    "start_time": "2022-12-29T14:02:15.070Z"
   },
   {
    "duration": 12610,
    "start_time": "2022-12-29T14:02:34.031Z"
   },
   {
    "duration": 12866,
    "start_time": "2022-12-29T14:05:24.026Z"
   },
   {
    "duration": 5,
    "start_time": "2022-12-29T14:06:41.447Z"
   },
   {
    "duration": 1536942,
    "start_time": "2022-12-29T14:32:31.860Z"
   },
   {
    "duration": 1561,
    "start_time": "2022-12-29T15:41:03.995Z"
   },
   {
    "duration": 815,
    "start_time": "2022-12-29T15:41:05.562Z"
   },
   {
    "duration": 47,
    "start_time": "2022-12-29T15:41:06.379Z"
   },
   {
    "duration": 46,
    "start_time": "2022-12-29T15:41:06.428Z"
   },
   {
    "duration": 29,
    "start_time": "2022-12-29T15:41:06.476Z"
   },
   {
    "duration": 47,
    "start_time": "2022-12-29T15:41:06.506Z"
   },
   {
    "duration": 47,
    "start_time": "2022-12-29T15:41:06.555Z"
   },
   {
    "duration": 169,
    "start_time": "2022-12-29T15:41:06.604Z"
   },
   {
    "duration": 25,
    "start_time": "2022-12-29T15:41:06.776Z"
   },
   {
    "duration": 125,
    "start_time": "2022-12-29T15:41:06.804Z"
   },
   {
    "duration": 8,
    "start_time": "2022-12-29T15:41:06.931Z"
   },
   {
    "duration": 57,
    "start_time": "2022-12-29T15:41:06.940Z"
   },
   {
    "duration": 30,
    "start_time": "2022-12-29T15:41:06.999Z"
   },
   {
    "duration": 75,
    "start_time": "2022-12-29T15:41:07.030Z"
   },
   {
    "duration": 10,
    "start_time": "2022-12-29T15:41:07.106Z"
   },
   {
    "duration": 18,
    "start_time": "2022-12-29T15:41:07.117Z"
   },
   {
    "duration": 46,
    "start_time": "2022-12-29T15:41:07.137Z"
   },
   {
    "duration": 36,
    "start_time": "2022-12-29T15:41:07.185Z"
   },
   {
    "duration": 484,
    "start_time": "2022-12-29T15:41:07.223Z"
   },
   {
    "duration": 466,
    "start_time": "2022-12-29T15:41:07.708Z"
   },
   {
    "duration": 524,
    "start_time": "2022-12-29T15:41:08.175Z"
   },
   {
    "duration": 5,
    "start_time": "2022-12-29T15:41:08.700Z"
   },
   {
    "duration": 0,
    "start_time": "2022-12-29T15:41:08.707Z"
   },
   {
    "duration": 0,
    "start_time": "2022-12-29T15:41:08.708Z"
   },
   {
    "duration": 0,
    "start_time": "2022-12-29T15:41:08.710Z"
   },
   {
    "duration": 0,
    "start_time": "2022-12-29T15:41:08.711Z"
   },
   {
    "duration": 0,
    "start_time": "2022-12-29T15:41:08.713Z"
   },
   {
    "duration": 0,
    "start_time": "2022-12-29T15:41:08.714Z"
   },
   {
    "duration": 0,
    "start_time": "2022-12-29T15:41:08.715Z"
   },
   {
    "duration": 0,
    "start_time": "2022-12-29T15:41:08.716Z"
   },
   {
    "duration": 0,
    "start_time": "2022-12-29T15:41:08.717Z"
   },
   {
    "duration": 0,
    "start_time": "2022-12-29T15:41:08.718Z"
   },
   {
    "duration": 0,
    "start_time": "2022-12-29T15:41:08.719Z"
   },
   {
    "duration": 0,
    "start_time": "2022-12-29T15:41:08.756Z"
   },
   {
    "duration": 0,
    "start_time": "2022-12-29T15:41:08.759Z"
   },
   {
    "duration": 0,
    "start_time": "2022-12-29T15:41:08.760Z"
   },
   {
    "duration": 0,
    "start_time": "2022-12-29T15:41:08.761Z"
   },
   {
    "duration": 0,
    "start_time": "2022-12-29T15:41:08.762Z"
   },
   {
    "duration": 0,
    "start_time": "2022-12-29T15:41:08.762Z"
   },
   {
    "duration": 0,
    "start_time": "2022-12-29T15:41:08.764Z"
   },
   {
    "duration": 0,
    "start_time": "2022-12-29T15:41:08.764Z"
   },
   {
    "duration": 0,
    "start_time": "2022-12-29T15:41:08.767Z"
   },
   {
    "duration": 0,
    "start_time": "2022-12-29T15:41:08.768Z"
   },
   {
    "duration": 0,
    "start_time": "2022-12-29T15:41:08.769Z"
   },
   {
    "duration": 0,
    "start_time": "2022-12-29T15:41:08.772Z"
   },
   {
    "duration": 0,
    "start_time": "2022-12-29T15:41:08.772Z"
   },
   {
    "duration": 0,
    "start_time": "2022-12-29T15:41:08.773Z"
   },
   {
    "duration": 5,
    "start_time": "2022-12-29T15:41:26.545Z"
   },
   {
    "duration": 802,
    "start_time": "2022-12-29T15:41:29.416Z"
   },
   {
    "duration": 53,
    "start_time": "2022-12-29T15:41:30.220Z"
   },
   {
    "duration": 22,
    "start_time": "2022-12-29T15:41:31.013Z"
   },
   {
    "duration": 25,
    "start_time": "2022-12-29T15:41:31.363Z"
   },
   {
    "duration": 33,
    "start_time": "2022-12-29T15:41:31.535Z"
   },
   {
    "duration": 15,
    "start_time": "2022-12-29T15:41:32.012Z"
   },
   {
    "duration": 138,
    "start_time": "2022-12-29T15:41:32.740Z"
   },
   {
    "duration": 32,
    "start_time": "2022-12-29T15:41:33.438Z"
   },
   {
    "duration": 112,
    "start_time": "2022-12-29T15:41:33.950Z"
   },
   {
    "duration": 9,
    "start_time": "2022-12-29T15:41:36.478Z"
   },
   {
    "duration": 9,
    "start_time": "2022-12-29T15:41:36.645Z"
   },
   {
    "duration": 10,
    "start_time": "2022-12-29T15:41:36.813Z"
   },
   {
    "duration": 31,
    "start_time": "2022-12-29T15:41:36.962Z"
   },
   {
    "duration": 10,
    "start_time": "2022-12-29T15:41:39.165Z"
   },
   {
    "duration": 5,
    "start_time": "2022-12-29T15:41:40.309Z"
   },
   {
    "duration": 4,
    "start_time": "2022-12-29T15:41:44.425Z"
   },
   {
    "duration": 11,
    "start_time": "2022-12-29T15:41:47.005Z"
   },
   {
    "duration": 445,
    "start_time": "2022-12-29T15:41:48.436Z"
   },
   {
    "duration": 410,
    "start_time": "2022-12-29T15:41:52.065Z"
   },
   {
    "duration": 412,
    "start_time": "2022-12-29T15:41:52.477Z"
   },
   {
    "duration": 4,
    "start_time": "2022-12-29T15:41:55.637Z"
   },
   {
    "duration": 377,
    "start_time": "2022-12-29T15:41:55.849Z"
   },
   {
    "duration": 13,
    "start_time": "2022-12-29T15:41:57.896Z"
   },
   {
    "duration": 523,
    "start_time": "2022-12-29T15:41:58.065Z"
   },
   {
    "duration": 4,
    "start_time": "2022-12-29T15:41:58.591Z"
   },
   {
    "duration": 14,
    "start_time": "2022-12-29T15:41:58.597Z"
   },
   {
    "duration": 21,
    "start_time": "2022-12-29T15:41:58.645Z"
   },
   {
    "duration": 5,
    "start_time": "2022-12-29T15:41:59.138Z"
   },
   {
    "duration": 14,
    "start_time": "2022-12-29T15:42:03.365Z"
   },
   {
    "duration": 26,
    "start_time": "2022-12-29T15:42:03.545Z"
   },
   {
    "duration": 18,
    "start_time": "2022-12-29T15:42:14.873Z"
   },
   {
    "duration": 4,
    "start_time": "2022-12-29T15:42:18.480Z"
   },
   {
    "duration": 3,
    "start_time": "2022-12-29T15:42:18.921Z"
   },
   {
    "duration": 5,
    "start_time": "2022-12-29T15:42:21.648Z"
   },
   {
    "duration": 3015,
    "start_time": "2022-12-29T15:42:28.263Z"
   },
   {
    "duration": 3786,
    "start_time": "2022-12-29T15:42:31.284Z"
   },
   {
    "duration": 8,
    "start_time": "2022-12-29T15:42:35.072Z"
   },
   {
    "duration": 13495,
    "start_time": "2022-12-29T15:43:03.273Z"
   },
   {
    "duration": 13996,
    "start_time": "2022-12-29T15:43:16.774Z"
   },
   {
    "duration": 5,
    "start_time": "2022-12-29T15:43:33.978Z"
   },
   {
    "duration": 1430062,
    "start_time": "2022-12-29T15:43:42.336Z"
   },
   {
    "duration": 1485968,
    "start_time": "2022-12-29T16:07:32.401Z"
   },
   {
    "duration": 4,
    "start_time": "2022-12-29T16:32:48.721Z"
   },
   {
    "duration": 6,
    "start_time": "2022-12-29T16:33:30.188Z"
   },
   {
    "duration": 4,
    "start_time": "2022-12-29T16:35:17.698Z"
   },
   {
    "duration": 5,
    "start_time": "2022-12-29T16:36:15.340Z"
   },
   {
    "duration": 5,
    "start_time": "2022-12-29T16:36:44.129Z"
   },
   {
    "duration": 4204,
    "start_time": "2022-12-29T16:42:14.588Z"
   },
   {
    "duration": 29079,
    "start_time": "2022-12-29T16:43:04.316Z"
   },
   {
    "duration": 29279,
    "start_time": "2022-12-29T16:44:30.007Z"
   },
   {
    "duration": 36487,
    "start_time": "2022-12-29T16:46:01.731Z"
   },
   {
    "duration": 4,
    "start_time": "2022-12-29T16:47:29.498Z"
   },
   {
    "duration": 30408,
    "start_time": "2022-12-29T16:47:29.503Z"
   },
   {
    "duration": 135,
    "start_time": "2022-12-29T16:48:16.331Z"
   },
   {
    "duration": 28729,
    "start_time": "2022-12-29T16:48:31.011Z"
   },
   {
    "duration": 29946,
    "start_time": "2022-12-29T16:49:16.547Z"
   },
   {
    "duration": 9,
    "start_time": "2022-12-29T16:52:07.882Z"
   }
  ],
  "kernelspec": {
   "display_name": "Python 3 (ipykernel)",
   "language": "python",
   "name": "python3"
  },
  "language_info": {
   "codemirror_mode": {
    "name": "ipython",
    "version": 3
   },
   "file_extension": ".py",
   "mimetype": "text/x-python",
   "name": "python",
   "nbconvert_exporter": "python",
   "pygments_lexer": "ipython3",
   "version": "3.9.5"
  },
  "toc": {
   "base_numbering": 1,
   "nav_menu": {},
   "number_sections": true,
   "sideBar": true,
   "skip_h1_title": true,
   "title_cell": "Содержание",
   "title_sidebar": "Contents",
   "toc_cell": true,
   "toc_position": {
    "height": "calc(100% - 180px)",
    "left": "10px",
    "top": "150px",
    "width": "208.73px"
   },
   "toc_section_display": true,
   "toc_window_display": true
  }
 },
 "nbformat": 4,
 "nbformat_minor": 2
}
